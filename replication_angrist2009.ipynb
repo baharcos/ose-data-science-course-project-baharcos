{
 "cells": [
  {
   "cell_type": "markdown",
   "metadata": {},
   "source": [
    "--- \n",
    "Project for the course in Microeconometrics | Summer 2021, M.Sc. Economics, Bonn University | [Bahar Coskun](https://github.com/baharcos)\n",
    "\n",
    "# Replication of Joshua Angrist, Daniel Lang, and Philipp Oreopoulous (2009) <a class=\"tocSkip\">   \n",
    "---"
   ]
  },
  {
   "cell_type": "markdown",
   "metadata": {},
   "source": [
    "The following notebook contains my replication of the results of\n",
    "\n",
    "> Angrist, J., Land, D., & Oreopoulos, P. (2009). Incentives And Services For College Achievement: Evidence From A Randomized Trial. American Economic Journal: Applied Economics, 1(1), 136-63.\n",
    "\n",
    "#### Downloading and Viewing this Notebook\n",
    "\n",
    "* To ensure that every image and format is displayed properly, I recommend to download this notebook from its repository on [GitHub](https://github.com/OpenSourceEconomics/ose-data-science-course-project-baharcos). Other viewing options like _MyBinder_ or _NBViewer_ might have issues displaying formulas and formatting.\n",
    "\n",
    "* The original data, code and paper can be found [here](https://economics.mit.edu/faculty/angrist/data1/data/angrist,1)\n",
    "\n",
    "#### Information about the Replication and Individual Contributions\n",
    "\n",
    "* I have labeled all figures and tables in this notebook in an ascending order to prevent confusion of the reader. If it is a replication, I always indicate the label of the corresponding figure and table referencing to the original paper.\n",
    "\n",
    "* I always explicitly state, when I give the opinion of the author.\n",
    "\n",
    "* All sections and subsections that are labeled as *Extension* are my independent contributions.  \n",
    "\n",
    "* For more detailed information it is always refered to Angrist et. al. [(2009)](https://www.aeaweb.org/articles?id=10.1257/app.1.1.136) I replicated the results from the main analysis.\n",
    "\n",
    "* The layout and the structure of the notebook is inspired by Annica Gehlen's replication of Jason M. Lindo, Nicholas J. Sanders & Philip Oreopoulos (2010) from the 2019 iteration of the Microeconometrics class. [(link)](https://github.com/amageh/replication-performance-standards/blob/master/replication-notebook.ipynb)"
   ]
  },
  {
   "cell_type": "markdown",
   "metadata": {},
   "source": [
    "<h1> WiP: Table of Contents<span class=\"tocSkip\"></span></h1>\n",
    "<div class=\"toc\"><ul class=\"toc-item\"><li><span><a href=\"#1.-Introduction\" data-toc-modified-id=\"1.-Introduction-1\">1. Introduction</a></span></li><li><span><a href=\"#2.-Data\" data-toc-modified-id=\"2.-Data-2\">2. Data</a></span></li><li><span><a href=\"#3.-Identification and Empirical Strategy\" data-toc-modified-id=\"3.-Identification and Empirical Strategy-2\">3. Identification and Empirical Strategy</a></span></li> <li><span><a href=\"#4.-Econometric Background\" data-toc-modified-id=\"4.-Econometric Background-4\">4. Econometric Background</a></span></li><li><span><a href=\"#5.-Replication-of-Angrist-et-al.-(2009)\" data-toc-modified-id=\"5.-Replication-of-Angrist-et-al.-(2009)-3\">5. Replication-of-Angrist-et-al.-(2009)</a></span></li><li><span><a href=\"#6.-Conclusion-and-Critical-Assessment\" data-toc-modified-id=\"6.-Conclusion-and-Critical-Assessment-6\">6. Conclusion  and Critical Assessment</a></span></li>\n",
    "<li><span><a href=\"#7.-References\" data-toc-modified-id=\"7.-References-7\">7. References</a></span></li></ul></div></li>\n",
    "\n",
    "---"
   ]
  },
  {
   "cell_type": "code",
   "execution_count": 2,
   "metadata": {},
   "outputs": [],
   "source": [
    "import pandas as pd\n",
    "import seaborn as sns\n",
    "import matplotlib.pyplot as plt\n",
    "from auxiliary.colors import get_colors\n",
    "from auxiliary.colors import plot_colors"
   ]
  },
  {
   "cell_type": "markdown",
   "metadata": {},
   "source": [
    "---\n",
    "# WiP: 1. Introduction\n",
    "---\n",
    "Will need to work on the argumentation:\n",
    "\n",
    "***Motivation***:\n",
    "The motivation of Angrist et al.(2009) comes from the importance of academic performance, not dropping out from the program and completing on time for post-secondary education experience. Something that many students, particularly ones from low-income families, struggle to achieve. One reason for this is poor study skills. As a response many North American universities offer academic services to improve skills like note taking, time management or goal-setting. However, the non-experimental research on academic support services for college students have found mixed results even though experimental design of the same services on high school students drew a more promising picture. \n",
    "Furthermore to motivate better academic performance merit scholarship have been part of college education for a long time. Although only a small group of spectacular students have benefitted from this financial incentive. \n",
    "\n",
    "***Study Design***: \\\n",
    "Angrist et al. (2009) analysis the results of Student Achievement and Retention (STAR) Demonstration Project. STAR is designed as a randomised evaluation to learn more about the effects of support services and financial incentives on academic performance at a satellite campus of a large Canadian university that is in U.S. terms a large state university with heavily subsidised tuition fees. Students attending are mostly from local area and have similar high school background which eliminate geographic background differences that could arise in the treatment.\n",
    "\n",
    "***Estimation Strategy***:\\\n",
    "Students are randomly allocated into control or one of the treatment groups. Students in a treatment group receive an offer and the have to signed up to be eligible which is not random. In order to estimate the causal impact of financial incentives and academic support services Angrist et al. (2009) use **instrumental variables (IV)**. However, due to the low compliance rate most results reported are **intent-to-treat (ITT)** estimates. The data comes from 1656 full time first year students combining administrative data and survey data which the students took **prior** to the treatment selection.\n",
    "\n",
    "\n",
    "**Main variables** \n",
    "\n",
    "| **Treatments**   | **Outcome Variables**  |\n",
    "|------------------|------------------------|\n",
    "| Services         | GPA                    |\n",
    "| Incentives       | On probation/withdrew  |              \n",
    "| Combined         | Credits earned         | \n",
    "\n",
    "\n",
    "***Results***: \\\n",
    "Main findings of Angrist et al. (2009) are: \\\n",
    "— Females use the services much more than males \\\n",
    "—Male achievement remained unchanged with the intervention \\\n",
    "—Services itself failed to attract students \\\n",
    "—Female achievement in services combined with financial incentives increased students GPA about 0.35$\\sigma$ \\\n",
    "\n",
    "\n",
    "Write what is in this notebook"
   ]
  },
  {
   "cell_type": "markdown",
   "metadata": {},
   "source": [
    "---\n",
    "# 3. Empirical Strategy and Identification\n",
    "---\n"
   ]
  },
  {
   "cell_type": "code",
   "execution_count": null,
   "metadata": {},
   "outputs": [],
   "source": []
  },
  {
   "cell_type": "code",
   "execution_count": null,
   "metadata": {},
   "outputs": [],
   "source": []
  },
  {
   "cell_type": "code",
   "execution_count": null,
   "metadata": {},
   "outputs": [],
   "source": []
  },
  {
   "cell_type": "code",
   "execution_count": null,
   "metadata": {},
   "outputs": [],
   "source": []
  },
  {
   "cell_type": "code",
   "execution_count": null,
   "metadata": {},
   "outputs": [],
   "source": []
  },
  {
   "cell_type": "code",
   "execution_count": null,
   "metadata": {},
   "outputs": [],
   "source": []
  }
 ],
 "metadata": {
  "kernelspec": {
   "display_name": "Python 3",
   "language": "python",
   "name": "python3"
  },
  "language_info": {
   "codemirror_mode": {
    "name": "ipython",
    "version": 3
   },
   "file_extension": ".py",
   "mimetype": "text/x-python",
   "name": "python",
   "nbconvert_exporter": "python",
   "pygments_lexer": "ipython3",
   "version": "3.8.5"
  }
 },
 "nbformat": 4,
 "nbformat_minor": 4
}
