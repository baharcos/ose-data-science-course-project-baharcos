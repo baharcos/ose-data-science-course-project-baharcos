{
 "cells": [
  {
   "cell_type": "markdown",
   "metadata": {},
   "source": [
    "--- \n",
    "Project for the course in Microeconometrics | Summer 2021, M.Sc. Economics, Bonn University | [Bahar Coskun](https://github.com/baharcos)\n",
    "\n",
    "# Replication of Joshua Angrist, Daniel Lang, and Philipp Oreopoulous (2009) <a class=\"tocSkip\">   \n",
    "---"
   ]
  },
  {
   "cell_type": "markdown",
   "metadata": {},
   "source": [
    "The following notebook contains my replication of the results of\n",
    "\n",
    "> Angrist, J., Land, D., & Oreopoulos, P. (2009). Incentives And Services For College Achievement: Evidence From A Randomized Trial. American Economic Journal: Applied Economics, 1(1), 136-63.\n",
    "\n",
    "#### Downloading and Viewing this Notebook\n",
    "\n",
    "* To ensure that every image and format is displayed properly, I recommend to download this notebook from its repository on [GitHub](https://github.com/OpenSourceEconomics/ose-data-science-course-project-baharcos). Other viewing options like _MyBinder_ or _NBViewer_ might have issues displaying formulas and formatting.\n",
    "\n",
    "* The original data, code and paper can be found [here](https://economics.mit.edu/faculty/angrist/data1/data/angrist,1)\n",
    "\n",
    "#### Information about the Replication and Individual Contributions\n",
    "\n",
    "* I have labeled all figures and tables in this notebook in an ascending order to prevent confusion of the reader. If it is a replication, I always indicate the label of the corresponding figure and table referencing to the original paper.\n",
    "\n",
    "* I always explicitly state, when I give the opinion of the author.\n",
    "\n",
    "* All sections and subsections that are labeled as *Extension* are my independent contributions.  \n",
    "\n",
    "* For more detailed information it is always refered to Angrist et. al. [(2009)](https://www.aeaweb.org/articles?id=10.1257/app.1.1.136) I replicated the results from the main analysis.\n",
    "\n",
    "* The layout and the structure of the notebook is inspired by Annica Gehlen's replication of Jason M. Lindo, Nicholas J. Sanders & Philip Oreopoulos (2010) from the 2019 iteration of the Microeconometrics class. [(link)](https://github.com/amageh/replication-performance-standards/blob/master/replication-notebook.ipynb)"
   ]
  },
  {
   "cell_type": "markdown",
   "metadata": {},
   "source": [
    "<h1> Table of Contents<span class=\"tocSkip\"></span></h1>\n",
    "<div class=\"toc\"><ul class=\"toc-item\"><li><span><a href=\"#1.-Introduction\" data-toc-modified-id=\"1.-Introduction-1\">1. Introduction</a></span></li><li><span><a href=\"#2.-Data\" data-toc-modified-id=\"2.-Data-2\">2. Data</a></span></li><li><span><a href=\"#3.-Identification and Empirical Strategy\" data-toc-modified-id=\"3.-Identification and Empirical Strategy-2\">3. Identification and Empirical Strategy</a></span></li> <li><span><a href=\"#4.-Replication-of-Angrist-et-al.-(2009)\" data-toc-modified-id=\"4.-Replication-of-Angrist-et-al.-(2009)-4\">4. Replication-of-Angrist-et-al.-(2009)</a></span></li><li><span><a href=\"#5.-Conclusion-and-Critical-Assessment\" data-toc-modified-id=\"5.-Conclusion-and-Critical-Assessment-5\">5. Conclusion  and Critical Assessment</a></span></li>\n",
    "<li><span><a href=\"#6.-References\" data-toc-modified-id=\"6.-References-6\">6. References</a></span></li></ul></div></li>\n",
    "\n",
    "---"
   ]
  },
  {
   "cell_type": "code",
   "execution_count": 1,
   "metadata": {},
   "outputs": [],
   "source": [
    "import statsmodels.formula.api as smf\n",
    "import pandas as pd\n",
    "import numpy as np\n",
    "import seaborn as sns\n",
    "import matplotlib.pyplot as plt\n",
    "from auxiliary.colors import get_colors\n",
    "from auxiliary.colors import plot_colors\n",
    "from auxiliary.plot import participation_share_plot"
   ]
  },
  {
   "cell_type": "code",
   "execution_count": 2,
   "metadata": {},
   "outputs": [],
   "source": [
    "colors = get_colors('categorical', 12)"
   ]
  },
  {
   "cell_type": "code",
   "execution_count": 28,
   "metadata": {},
   "outputs": [
    {
     "data": {
      "image/png": "[encoded data removed]",
      "text/plain": [
       "<Figure size 864x72 with 1 Axes>"
      ]
     },
     "metadata": {
      "needs_background": "light"
     },
     "output_type": "display_data"
    }
   ],
   "source": [
    "plot_colors('categorical', 12)"
   ]
  },
  {
   "cell_type": "markdown",
   "metadata": {},
   "source": [
    "---\n",
    "# 1. Introduction\n",
    "---\n",
    "Will need to work on the argumentation:\n",
    "\n",
    "***Motivation***:\n",
    "The motivation of Angrist et al.(2009) comes from the importance of academic performance, not dropping out from the program and completing on time for post-secondary education experience. Something that many students, particularly ones from low-income families, struggle to achieve. One reason for this is poor study skills. As a response many North American universities offer academic services to improve skills like note taking, time management or goal-setting. However, the non-experimental research on academic support services for college students have found mixed results even though experimental design of the same services on high school students drew a more promising picture. \n",
    "Furthermore to motivate better academic performance merit scholarship have been part of college education for a long time. Although only a small group of spectacular students have benefitted from this financial incentive. \n",
    "\n",
    "***Study Design***: \\\n",
    "Angrist et al. (2009) analysis the results of Student Achievement and Retention (STAR) Demonstration Project. STAR is designed as a randomised evaluation to learn more about the effects of support services and financial incentives on academic performance at a satellite campus of a large Canadian university that is in U.S. terms a large state university with heavily subsidised tuition fees. Students attending are mostly from local area and have similar high school background which eliminate geographic background differences that could arise in the treatment.\n",
    "\n",
    "***Estimation Strategy***:\\\n",
    "Students are randomly allocated into control or one of the treatment groups. Students in a treatment group receive an offer and the have to signed up to be eligible which is not random. In order to estimate the causal impact of financial incentives and academic support services Angrist et al. (2009) use **instrumental variables (IV)**. However, due to the low compliance rate most results reported are **intent-to-treat (ITT)** estimates. The data comes from 1656 full time first year students combining administrative data and survey data which the students took **prior** to the treatment selection.\n",
    "\n",
    "\n",
    "**Main variables** \n",
    "\n",
    "| **Treatments**   | **Outcome Variables**  |\n",
    "|------------------|------------------------|\n",
    "| Services         | GPA                    |\n",
    "| Incentives       | On probation/withdrew  |              \n",
    "| Combined         | Credits earned         | \n",
    "\n",
    "\n",
    "***Results***: \\\n",
    "Main findings of Angrist et al. (2009) are: \n",
    "- Females use the services much more than males\n",
    "- Male achievement remained unchanged with the intervention \n",
    "- Services itself failed to attract students\n",
    "- Female achievement in services combined with financial incentives increased students GPA about 0.35$\\sigma$\n",
    "\n",
    "\n",
    "Write what is in this notebook"
   ]
  },
  {
   "cell_type": "markdown",
   "metadata": {},
   "source": [
    "---\n",
    "# 2. Study Design, Data and Descriptives(the extention)\n",
    "---\n",
    "## 2.1. STAR Demonstration Project\n",
    "\n",
    "STAR randomly assigned entering first-year undergreduates into the control group or one of the treatment groups below:\n",
    "- service strategy SSP: peer advisors are trained upper-class students  in the treated students' program offering academic advise and suggestions for coping with first year of uni. advisor email regularly(at least biweekly) about university assimilation, scheduling, studying, time management, reminding availability of the services to meet at STAR office. Also trained for circumstances to call for professional help + FSG's to improve study habits complement normal tutorials, develop reasoning skills. Focus: critical thinking, note-taking, graphic organisation, questioning techniques, vocabulary acquisition, and test prediction and preparation.\n",
    "offered approx. half of first year courses. Some of large courses offered the service to all students because it was in place before the experiment\n",
    "\n",
    "- incentive strategy SFP: award targets are based on high school grades\\\n",
    "lowest grade quartile: $5000 for B, $1000 for C+ \\\n",
    "second quartile: $5000 for B+ and $1000 for B- \\\n",
    "third quartile: $5000 for A- and $1000 for B \\\n",
    "to qualify had to take at least 4 courses (to complete in time 5 courses per semester) and sign up for second year(all students in the program meeting targets did so) \\\n",
    "Targets based on trade off between program costs and award accessibility\n",
    "\n",
    "- combined strategy SFSP: no link between two strategies(you can use the service without being eligible to fellowship and can be eligible for fellowship without using the service)\n",
    "\n",
    "## 2.2 Data\n",
    "\n",
    "Main source of data is baselie survey: write which varaibles come from administrative data and which from survey.\n",
    "\n"
   ]
  },
  {
   "cell_type": "code",
   "execution_count": 16,
   "metadata": {},
   "outputs": [],
   "source": [
    "data = pd.read_stata('data/STAR_public_use.dta') #read the data"
   ]
  },
  {
   "cell_type": "code",
   "execution_count": 12,
   "metadata": {},
   "outputs": [
    {
     "name": "stdout",
     "output_type": "stream",
     "text": [
      "<class 'pandas.core.frame.DataFrame'>\n",
      "Int64Index: 1656 entries, 0 to 1655\n",
      "Data columns (total 48 columns):\n",
      " #   Column              Non-Null Count  Dtype   \n",
      "---  ------              --------------  -----   \n",
      " 0   GPA_year1           1537 non-null   float32 \n",
      " 1   GPA_year2           1368 non-null   float32 \n",
      " 2   age                 1656 non-null   int8    \n",
      " 3   chooseUTM           1472 non-null   float32 \n",
      " 4   compsurv            1656 non-null   float32 \n",
      " 5   control             1656 non-null   int8    \n",
      " 6   credits_earned1     1575 non-null   float32 \n",
      " 7   credits_earned2     1575 non-null   float32 \n",
      " 8   dad1                1472 non-null   float32 \n",
      " 9   dad2                1472 non-null   float32 \n",
      " 10  dad_edn             1472 non-null   category\n",
      " 11  english             1656 non-null   int8    \n",
      " 12  female              1656 non-null   int8    \n",
      " 13  finish4             1472 non-null   float64 \n",
      " 14  goodstanding_year1  1634 non-null   float32 \n",
      " 15  goodstanding_year2  1634 non-null   float32 \n",
      " 16  gpa0                1656 non-null   float32 \n",
      " 17  graddeg             1472 non-null   float64 \n",
      " 18  grade_20059_fall    1404 non-null   float32 \n",
      " 19  hcom                1472 non-null   float64 \n",
      " 20  hsgroup             1656 non-null   int8    \n",
      " 21  lastmin             1472 non-null   category\n",
      " 22  lm_never            1472 non-null   float64 \n",
      " 23  lm_rarely           1472 non-null   float64 \n",
      " 24  mathsci             1656 non-null   float32 \n",
      " 25  mom1                1472 non-null   float32 \n",
      " 26  mom2                1472 non-null   float32 \n",
      " 27  mom_edn             1472 non-null   category\n",
      " 28  mtongue             1656 non-null   object  \n",
      " 29  noshow              1656 non-null   int8    \n",
      " 30  numcourses_nov1     1656 non-null   float64 \n",
      " 31  prob_year1          1562 non-null   float64 \n",
      " 32  prob_year2          1562 non-null   float64 \n",
      " 33  sex                 1656 non-null   object  \n",
      " 34  sfp                 1656 non-null   float32 \n",
      " 35  sfp_p               1656 non-null   float32 \n",
      " 36  sfpany              1656 non-null   float32 \n",
      " 37  sfpany_p            1656 non-null   float32 \n",
      " 38  sfsp                1656 non-null   float32 \n",
      " 39  sfsp_p              1656 non-null   float32 \n",
      " 40  signup              1656 non-null   float32 \n",
      " 41  ssp                 1656 non-null   float32 \n",
      " 42  ssp_p               1656 non-null   float32 \n",
      " 43  totcredits_year1    1656 non-null   float32 \n",
      " 44  used_adv            1656 non-null   float32 \n",
      " 45  used_fsg            1656 non-null   float32 \n",
      " 46  used_ssp            1656 non-null   float32 \n",
      " 47  work1               1472 non-null   float32 \n",
      "dtypes: category(3), float32(29), float64(8), int8(6), object(2)\n",
      "memory usage: 345.4+ KB\n"
     ]
    }
   ],
   "source": [
    "data.info() # check variables, missing values and data types"
   ]
  },
  {
   "cell_type": "markdown",
   "metadata": {},
   "source": [
    "### 2.2.1 Data Cleaning\n",
    "Angrist et al. (2009) exlude students from analysis who did not show up (no shows) and students who took less then 2 coarses from the analysis."
   ]
  },
  {
   "cell_type": "code",
   "execution_count": 17,
   "metadata": {},
   "outputs": [],
   "source": [
    "data = data[data['noshow']==0] #exclude no shows\n",
    "data = data.dropna(subset=['grade_20059_fall']) #exclude students who did not recieve any grade in fall\n",
    "data = data.dropna(subset=['GPA_year1']) #exclude student who did not recieve any first year gpa\n",
    "data = data[data['credits_earned1']>=2] # exclude student who earned less than 2 credits in first year"
   ]
  },
  {
   "cell_type": "markdown",
   "metadata": {},
   "source": [
    "## 2.3 Extention | Data Descriptives"
   ]
  },
  {
   "cell_type": "code",
   "execution_count": 36,
   "metadata": {},
   "outputs": [
    {
     "data": {
      "text/html": [
       "<div>\n",
       "<style scoped>\n",
       "    .dataframe tbody tr th:only-of-type {\n",
       "        vertical-align: middle;\n",
       "    }\n",
       "\n",
       "    .dataframe tbody tr th {\n",
       "        vertical-align: top;\n",
       "    }\n",
       "\n",
       "    .dataframe thead th {\n",
       "        text-align: right;\n",
       "    }\n",
       "</style>\n",
       "<table border=\"1\" class=\"dataframe\">\n",
       "  <thead>\n",
       "    <tr style=\"text-align: right;\">\n",
       "      <th></th>\n",
       "      <th>GPA_year1</th>\n",
       "      <th>GPA_year2</th>\n",
       "      <th>grade_20059_fall</th>\n",
       "      <th>credits_earned1</th>\n",
       "      <th>credits_earned2</th>\n",
       "      <th>work1</th>\n",
       "      <th>goodstanding_year1</th>\n",
       "      <th>goodstanding_year2</th>\n",
       "    </tr>\n",
       "  </thead>\n",
       "  <tbody>\n",
       "    <tr>\n",
       "      <th>count</th>\n",
       "      <td>1108.000000</td>\n",
       "      <td>1021.000000</td>\n",
       "      <td>1108.000000</td>\n",
       "      <td>1108.000000</td>\n",
       "      <td>1108.000000</td>\n",
       "      <td>1020.000000</td>\n",
       "      <td>1108.000000</td>\n",
       "      <td>1108.000000</td>\n",
       "    </tr>\n",
       "    <tr>\n",
       "      <th>mean</th>\n",
       "      <td>2.069394</td>\n",
       "      <td>2.248090</td>\n",
       "      <td>67.544838</td>\n",
       "      <td>2.835289</td>\n",
       "      <td>2.840027</td>\n",
       "      <td>0.761765</td>\n",
       "      <td>0.609206</td>\n",
       "      <td>0.778881</td>\n",
       "    </tr>\n",
       "    <tr>\n",
       "      <th>std</th>\n",
       "      <td>0.747877</td>\n",
       "      <td>0.789052</td>\n",
       "      <td>8.518441</td>\n",
       "      <td>0.633536</td>\n",
       "      <td>1.340205</td>\n",
       "      <td>0.426219</td>\n",
       "      <td>0.488148</td>\n",
       "      <td>0.415188</td>\n",
       "    </tr>\n",
       "    <tr>\n",
       "      <th>min</th>\n",
       "      <td>0.530000</td>\n",
       "      <td>0.000000</td>\n",
       "      <td>14.000000</td>\n",
       "      <td>2.000000</td>\n",
       "      <td>0.000000</td>\n",
       "      <td>0.000000</td>\n",
       "      <td>0.000000</td>\n",
       "      <td>0.000000</td>\n",
       "    </tr>\n",
       "    <tr>\n",
       "      <th>25%</th>\n",
       "      <td>1.480000</td>\n",
       "      <td>1.770000</td>\n",
       "      <td>61.500000</td>\n",
       "      <td>2.500000</td>\n",
       "      <td>2.000000</td>\n",
       "      <td>1.000000</td>\n",
       "      <td>0.000000</td>\n",
       "      <td>1.000000</td>\n",
       "    </tr>\n",
       "    <tr>\n",
       "      <th>50%</th>\n",
       "      <td>2.010000</td>\n",
       "      <td>2.300000</td>\n",
       "      <td>67.666664</td>\n",
       "      <td>3.000000</td>\n",
       "      <td>3.000000</td>\n",
       "      <td>1.000000</td>\n",
       "      <td>1.000000</td>\n",
       "      <td>1.000000</td>\n",
       "    </tr>\n",
       "    <tr>\n",
       "      <th>75%</th>\n",
       "      <td>2.610000</td>\n",
       "      <td>2.800000</td>\n",
       "      <td>73.000000</td>\n",
       "      <td>3.000000</td>\n",
       "      <td>3.500000</td>\n",
       "      <td>1.000000</td>\n",
       "      <td>1.000000</td>\n",
       "      <td>1.000000</td>\n",
       "    </tr>\n",
       "    <tr>\n",
       "      <th>max</th>\n",
       "      <td>4.000000</td>\n",
       "      <td>4.000000</td>\n",
       "      <td>94.000000</td>\n",
       "      <td>7.500000</td>\n",
       "      <td>7.500000</td>\n",
       "      <td>1.000000</td>\n",
       "      <td>1.000000</td>\n",
       "      <td>1.000000</td>\n",
       "    </tr>\n",
       "  </tbody>\n",
       "</table>\n",
       "</div>"
      ],
      "text/plain": [
       "         GPA_year1    GPA_year2  grade_20059_fall  credits_earned1  \\\n",
       "count  1108.000000  1021.000000       1108.000000      1108.000000   \n",
       "mean      2.069394     2.248090         67.544838         2.835289   \n",
       "std       0.747877     0.789052          8.518441         0.633536   \n",
       "min       0.530000     0.000000         14.000000         2.000000   \n",
       "25%       1.480000     1.770000         61.500000         2.500000   \n",
       "50%       2.010000     2.300000         67.666664         3.000000   \n",
       "75%       2.610000     2.800000         73.000000         3.000000   \n",
       "max       4.000000     4.000000         94.000000         7.500000   \n",
       "\n",
       "       credits_earned2        work1  goodstanding_year1  goodstanding_year2  \n",
       "count      1108.000000  1020.000000         1108.000000         1108.000000  \n",
       "mean          2.840027     0.761765            0.609206            0.778881  \n",
       "std           1.340205     0.426219            0.488148            0.415188  \n",
       "min           0.000000     0.000000            0.000000            0.000000  \n",
       "25%           2.000000     1.000000            0.000000            1.000000  \n",
       "50%           3.000000     1.000000            1.000000            1.000000  \n",
       "75%           3.500000     1.000000            1.000000            1.000000  \n",
       "max           7.500000     1.000000            1.000000            1.000000  "
      ]
     },
     "execution_count": 36,
     "metadata": {},
     "output_type": "execute_result"
    }
   ],
   "source": [
    "data[['GPA_year1', 'GPA_year2', 'grade_20059_fall', 'credits_earned1', 'credits_earned2', 'work1',\n",
    "      'goodstanding_year1', 'goodstanding_year2']].describe()"
   ]
  },
  {
   "cell_type": "code",
   "execution_count": 35,
   "metadata": {},
   "outputs": [
    {
     "data": {
      "text/plain": [
       "completed a bachelor s degree (b.a., b.comm., etc)              286\n",
       "completed a community college diploma program                   166\n",
       "graduated from high school                                      139\n",
       "completed a master s degree (m.a., m.sc., etc)                  136\n",
       "did not finish high school                                       88\n",
       "don t know/not applicable                                        72\n",
       "completed a doctoral degree or professional program (ph.d.,      63\n",
       "attended university but did not complete bachelor s degree       41\n",
       " attended a community college but did not complete diploma       29\n",
       "Name: dad_edn, dtype: int64"
      ]
     },
     "execution_count": 35,
     "metadata": {},
     "output_type": "execute_result"
    }
   ],
   "source": [
    "data.dad_edn.value_counts()"
   ]
  },
  {
   "cell_type": "code",
   "execution_count": 34,
   "metadata": {},
   "outputs": [
    {
     "data": {
      "text/plain": [
       "completed a bachelor s degree (b.a., b.comm., etc)              260\n",
       "graduated from high school                                      220\n",
       "completed a community college diploma program                   214\n",
       "completed a master s degree (m.a., m.sc., etc)                   85\n",
       "don t know/not applicable                                        71\n",
       "did not finish high school                                       69\n",
       "attended university but did not complete bachelor s degree       41\n",
       " attended a community college but did not complete diploma       34\n",
       "completed a doctoral degree or professional program (ph.d.,      26\n",
       "Name: mom_edn, dtype: int64"
      ]
     },
     "execution_count": 34,
     "metadata": {},
     "output_type": "execute_result"
    }
   ],
   "source": [
    "data.mom_edn.value_counts()"
   ]
  },
  {
   "cell_type": "code",
   "execution_count": 26,
   "metadata": {},
   "outputs": [
    {
     "data": {
      "text/plain": [
       "<AxesSubplot:title={'center':'Mothertongue of students'}>"
      ]
     },
     "execution_count": 26,
     "metadata": {},
     "output_type": "execute_result"
    },
    {
     "data": {
      "image/png": "[encoded data removed]",
      "text/plain": [
       "<Figure size 432x288 with 1 Axes>"
      ]
     },
     "metadata": {
      "needs_background": "light"
     },
     "output_type": "display_data"
    }
   ],
   "source": [
    "data.mtongue.value_counts(normalize=True).plot.bar(color=colors, title='Mothertongue of students')"
   ]
  },
  {
   "cell_type": "code",
   "execution_count": 27,
   "metadata": {},
   "outputs": [
    {
     "data": {
      "text/plain": [
       "<AxesSubplot:title={'center':'Leaves studing to last minute'}>"
      ]
     },
     "execution_count": 27,
     "metadata": {},
     "output_type": "execute_result"
    },
    {
     "data": {
      "image/png": "[encoded data removed]",
      "text/plain": [
       "<Figure size 432x288 with 1 Axes>"
      ]
     },
     "metadata": {
      "needs_background": "light"
     },
     "output_type": "display_data"
    }
   ],
   "source": [
    "data.lastmin.value_counts(normalize=True).plot.bar(color=colors, title = 'Leaves studing to last minute' )"
   ]
  },
  {
   "cell_type": "markdown",
   "metadata": {},
   "source": [
    "**Plot Ideas**\n",
    "- an explainatory table that explains variables or change the names of the variables\n",
    "- plotting treatment =1 against sign-up = 1 (the compliance rate)\n",
    "- female male ratio\n",
    "- figure 1\n",
    "- mothertongue\n",
    "- grade distributions\n",
    "- grade distributions by gender in one graph\n",
    "- mother tongue distribution by people who signed up and offered\n",
    "- gender distribution by sign up and offer\n",
    "- last minute proportion: maybe cross validity\n",
    "- probation and goodstanding by treatment"
   ]
  },
  {
   "cell_type": "code",
   "execution_count": 23,
   "metadata": {},
   "outputs": [
    {
     "data": {
      "text/plain": [
       "sex  ssp  sfsp  sfp  ssp_p  sfp_p  sfsp_p\n",
       "F    0.0  0.0   0.0  0.0    0.0    0.0       0.341155\n",
       "                1.0  0.0    0.0    0.0       0.006318\n",
       "                            1.0    0.0       0.090253\n",
       "          1.0   0.0  0.0    0.0    0.0       0.010830\n",
       "                                   1.0       0.042419\n",
       "     1.0  0.0   0.0  0.0    0.0    0.0       0.037004\n",
       "                     1.0    0.0    0.0       0.050542\n",
       "M    0.0  0.0   0.0  0.0    0.0    0.0       0.259025\n",
       "                1.0  0.0    0.0    0.0       0.010830\n",
       "                            1.0    0.0       0.049639\n",
       "          1.0   0.0  0.0    0.0    0.0       0.009928\n",
       "                                   1.0       0.023466\n",
       "     1.0  0.0   0.0  0.0    0.0    0.0       0.036101\n",
       "                     1.0    0.0    0.0       0.032491\n",
       "dtype: float64"
      ]
     },
     "execution_count": 23,
     "metadata": {},
     "output_type": "execute_result"
    }
   ],
   "source": [
    "info = data[['sex','ssp', 'sfsp', 'sfp', 'ssp_p', 'sfp_p', 'sfsp_p']].value_counts(normalize=True).sort_index()\n",
    "info"
   ]
  },
  {
   "cell_type": "code",
   "execution_count": 15,
   "metadata": {},
   "outputs": [
    {
     "data": {
      "text/plain": [
       "sex  ssp_p\n",
       "F    0.0      0.236994\n",
       "     1.0      0.323699\n",
       "M    0.0      0.231214\n",
       "     1.0      0.208092\n",
       "dtype: float64"
      ]
     },
     "execution_count": 15,
     "metadata": {},
     "output_type": "execute_result"
    }
   ],
   "source": [
    "ssp = data[data['ssp']== 1.0]\n",
    "ssp_signup_offer_shares = ssp[['sex','ssp_p']].value_counts(normalize=True).sort_index()\n",
    "ssp_signup_offer_shares"
   ]
  },
  {
   "cell_type": "code",
   "execution_count": 6,
   "metadata": {},
   "outputs": [
    {
     "data": {
      "text/plain": [
       "sex  sfp_p\n",
       "F    0.0      0.040230\n",
       "     1.0      0.574713\n",
       "M    0.0      0.068966\n",
       "     1.0      0.316092\n",
       "dtype: float64"
      ]
     },
     "execution_count": 6,
     "metadata": {},
     "output_type": "execute_result"
    }
   ],
   "source": [
    "sfp = data[data['sfp']== 1.0]\n",
    "sfp_signup_offer_shares = sfp[['sex','sfp_p']].value_counts(normalize=True).sort_index()\n",
    "sfp_signup_offer_shares"
   ]
  },
  {
   "cell_type": "code",
   "execution_count": 7,
   "metadata": {},
   "outputs": [
    {
     "data": {
      "text/plain": [
       "sex  sfsp_p\n",
       "F    0.0       0.125000\n",
       "     1.0       0.489583\n",
       "M    0.0       0.114583\n",
       "     1.0       0.270833\n",
       "dtype: float64"
      ]
     },
     "execution_count": 7,
     "metadata": {},
     "output_type": "execute_result"
    }
   ],
   "source": [
    "sfsp = data[data['sfsp']== 1.0]\n",
    "sfsp_signup_offer_shares = sfsp[['sex','sfsp_p']].value_counts(normalize=True).sort_index()\n",
    "sfsp_signup_offer_shares"
   ]
  },
  {
   "cell_type": "code",
   "execution_count": 10,
   "metadata": {},
   "outputs": [
    {
     "data": {
      "image/png": "[encoded data removed]",
      "text/plain": [
       "<Figure size 432x288 with 1 Axes>"
      ]
     },
     "metadata": {
      "needs_background": "light"
     },
     "output_type": "display_data"
    }
   ],
   "source": [
    "participation_share_plot(ssp, 'Service Treatment Group Sign-up Shares' , 'ssp_p')"
   ]
  },
  {
   "cell_type": "code",
   "execution_count": 9,
   "metadata": {},
   "outputs": [
    {
     "data": {
      "image/png": "[encoded data removed]",
      "text/plain": [
       "<Figure size 432x288 with 1 Axes>"
      ]
     },
     "metadata": {
      "needs_background": "light"
     },
     "output_type": "display_data"
    }
   ],
   "source": [
    "participation_share_plot(sfp, 'Incentives Treatment Group Sign-up Shares' , 'sfp_p')"
   ]
  },
  {
   "cell_type": "code",
   "execution_count": 8,
   "metadata": {},
   "outputs": [
    {
     "data": {
      "image/png": "[encoded data removed]",
      "text/plain": [
       "<Figure size 432x288 with 1 Axes>"
      ]
     },
     "metadata": {
      "needs_background": "light"
     },
     "output_type": "display_data"
    }
   ],
   "source": [
    "participation_share_plot(sfsp, 'Combined Treatment Group Sign-up Shares' , 'sfsp_p')"
   ]
  },
  {
   "cell_type": "code",
   "execution_count": null,
   "metadata": {},
   "outputs": [],
   "source": []
  },
  {
   "cell_type": "markdown",
   "metadata": {},
   "source": [
    "---\n",
    "# 3. Identification and Empirical Strategy\n",
    "---\n",
    "The main goal of the Angrist et al. (2009) is to determine the causal effect of incentives and services on academic performance.\n",
    "\n",
    "Incomplete random assignment, randomised offer do not force students into participate, sign up creates selection bias.  Sign-up procedure used to determine who is actually motivated to use the program by paying a small cost\n",
    "To make sure that students would use the program to some degree or care to  use\n",
    "Only people who received an offer can participate in one of the programs and participation is expected to improve academic performance.\n",
    "The first stage is the effect of offer on sign-up rates. Which is by offer how likely you are to sign up This is given by the compliance rate. \n",
    "The instrument is the offer \n",
    "Second stage is effect of participation on academic performance\n",
    "Reduced form(ITT: effect of offer on academic performance) = effect of offer on sign-up rates x effect of participation on academic performance\n",
    "What we want to find out: effect of participation on academic performance\n",
    "\n",
    "\n",
    "<img src=\"files/causalgraph.png\" width=500 />\n",
    "\n",
    "**Key Assumptions:**\n",
    "Substantial first stage: The offer should really change the sign up, as only students who recieves an offer can sign up, it is safe to say that this assumption holds\n",
    "\n",
    "Independence assumption: The instrument has to be as good as randomly assigned. The offer is given to students b random assignment. The authors still run checks for balance on treatment groups with control variables in table 1. Controlling for no group of students are suspiciously more likely to selected for treatment. \n",
    "\n",
    "Exclusion restriction:  We require the instrument changing outcome solely through the variable of interest. The authors check this by running an additional over-identified iv regression.??\n",
    "\n",
    "If these assumptions hold the causal effect of participation can be identified by iv.\n",
    "The reported results are mainly ITT. I will run additional checks on which group is more likely to sign up.\n",
    "\n",
    "**Evaluation Framework**\\\n",
    "ITT: no correction for sign up and dilluted by non compliance\n",
    "IV: the offer of services for program sign-up (to estimate the effect of treatment on those who signed up who are not random)\n",
    "$P_i = 1$ represents people who gave concent(signed up) to recieve emails \\\n",
    "$Z_i$ is the random variable representing random assignment offer of treatment\n",
    "\n",
    "\\begin{equation}\n",
    "E[Y_{1i} - Y_{0i} |P_i=1] = (E[Y_i|Z_i = 1] - E[Y_i|Z_i = 0]) / Pr[P_i = 1|Z_i = 1]\n",
    "\\end{equation}\n",
    "\n",
    "- $E[Y_{1i} - Y_{0i} |P_i=1]$ is the true casual effect of participation on one of the treatment programs.\n",
    "\n",
    "- $E[Y_i|Z_i = 1] - E[Y_i|Z_i = 0]$ is the intend-to-treat estimate given by the service offer\n",
    "\n",
    "- $Pr[P_i = 1|Z_i = 1]$ is the compliance rate"
   ]
  },
  {
   "cell_type": "markdown",
   "metadata": {},
   "source": [
    "---\n",
    "# 4. Replication of Angrist et al. (2009)\n",
    "---"
   ]
  },
  {
   "cell_type": "markdown",
   "metadata": {},
   "source": [
    "Main results they report on are reduced form ITT(intent-to-treat) estimates"
   ]
  },
  {
   "cell_type": "code",
   "execution_count": 25,
   "metadata": {},
   "outputs": [
    {
     "data": {
      "text/html": [
       "<table class=\"simpletable\">\n",
       "<caption>OLS Regression Results</caption>\n",
       "<tr>\n",
       "  <th>Dep. Variable:</th>    <td>grade_20059_fall</td> <th>  R-squared:         </th> <td>   0.005</td> \n",
       "</tr>\n",
       "<tr>\n",
       "  <th>Model:</th>                   <td>OLS</td>       <th>  Adj. R-squared:    </th> <td>   0.003</td> \n",
       "</tr>\n",
       "<tr>\n",
       "  <th>Method:</th>             <td>Least Squares</td>  <th>  F-statistic:       </th> <td>   2.523</td> \n",
       "</tr>\n",
       "<tr>\n",
       "  <th>Date:</th>             <td>Fri, 23 Jul 2021</td> <th>  Prob (F-statistic):</th>  <td>0.0563</td>  \n",
       "</tr>\n",
       "<tr>\n",
       "  <th>Time:</th>                 <td>00:04:45</td>     <th>  Log-Likelihood:    </th> <td> -5445.0</td> \n",
       "</tr>\n",
       "<tr>\n",
       "  <th>No. Observations:</th>      <td>  1398</td>      <th>  AIC:               </th> <td>1.090e+04</td>\n",
       "</tr>\n",
       "<tr>\n",
       "  <th>Df Residuals:</th>          <td>  1394</td>      <th>  BIC:               </th> <td>1.092e+04</td>\n",
       "</tr>\n",
       "<tr>\n",
       "  <th>Df Model:</th>              <td>     3</td>      <th>                     </th>     <td> </td>    \n",
       "</tr>\n",
       "<tr>\n",
       "  <th>Covariance Type:</th>      <td>nonrobust</td>    <th>                     </th>     <td> </td>    \n",
       "</tr>\n",
       "</table>\n",
       "<table class=\"simpletable\">\n",
       "<tr>\n",
       "      <td></td>         <th>coef</th>     <th>std err</th>      <th>t</th>      <th>P>|t|</th>  <th>[0.025</th>    <th>0.975]</th>  \n",
       "</tr>\n",
       "<tr>\n",
       "  <th>Intercept</th> <td>   63.8430</td> <td>    0.408</td> <td>  156.289</td> <td> 0.000</td> <td>   63.042</td> <td>   64.644</td>\n",
       "</tr>\n",
       "<tr>\n",
       "  <th>ssp</th>       <td>    0.2533</td> <td>    0.916</td> <td>    0.277</td> <td> 0.782</td> <td>   -1.544</td> <td>    2.050</td>\n",
       "</tr>\n",
       "<tr>\n",
       "  <th>sfp</th>       <td>    1.9876</td> <td>    0.903</td> <td>    2.202</td> <td> 0.028</td> <td>    0.217</td> <td>    3.758</td>\n",
       "</tr>\n",
       "<tr>\n",
       "  <th>sfsp</th>      <td>    2.2608</td> <td>    1.170</td> <td>    1.932</td> <td> 0.054</td> <td>   -0.034</td> <td>    4.556</td>\n",
       "</tr>\n",
       "</table>\n",
       "<table class=\"simpletable\">\n",
       "<tr>\n",
       "  <th>Omnibus:</th>       <td>423.567</td> <th>  Durbin-Watson:     </th> <td>   2.019</td>\n",
       "</tr>\n",
       "<tr>\n",
       "  <th>Prob(Omnibus):</th> <td> 0.000</td>  <th>  Jarque-Bera (JB):  </th> <td>1653.958</td>\n",
       "</tr>\n",
       "<tr>\n",
       "  <th>Skew:</th>          <td>-1.420</td>  <th>  Prob(JB):          </th> <td>    0.00</td>\n",
       "</tr>\n",
       "<tr>\n",
       "  <th>Kurtosis:</th>      <td> 7.509</td>  <th>  Cond. No.          </th> <td>    4.00</td>\n",
       "</tr>\n",
       "</table><br/><br/>Notes:<br/>[1] Standard Errors assume that the covariance matrix of the errors is correctly specified."
      ],
      "text/plain": [
       "<class 'statsmodels.iolib.summary.Summary'>\n",
       "\"\"\"\n",
       "                            OLS Regression Results                            \n",
       "==============================================================================\n",
       "Dep. Variable:       grade_20059_fall   R-squared:                       0.005\n",
       "Model:                            OLS   Adj. R-squared:                  0.003\n",
       "Method:                 Least Squares   F-statistic:                     2.523\n",
       "Date:                Fri, 23 Jul 2021   Prob (F-statistic):             0.0563\n",
       "Time:                        00:04:45   Log-Likelihood:                -5445.0\n",
       "No. Observations:                1398   AIC:                         1.090e+04\n",
       "Df Residuals:                    1394   BIC:                         1.092e+04\n",
       "Df Model:                           3                                         \n",
       "Covariance Type:            nonrobust                                         \n",
       "==============================================================================\n",
       "                 coef    std err          t      P>|t|      [0.025      0.975]\n",
       "------------------------------------------------------------------------------\n",
       "Intercept     63.8430      0.408    156.289      0.000      63.042      64.644\n",
       "ssp            0.2533      0.916      0.277      0.782      -1.544       2.050\n",
       "sfp            1.9876      0.903      2.202      0.028       0.217       3.758\n",
       "sfsp           2.2608      1.170      1.932      0.054      -0.034       4.556\n",
       "==============================================================================\n",
       "Omnibus:                      423.567   Durbin-Watson:                   2.019\n",
       "Prob(Omnibus):                  0.000   Jarque-Bera (JB):             1653.958\n",
       "Skew:                          -1.420   Prob(JB):                         0.00\n",
       "Kurtosis:                       7.509   Cond. No.                         4.00\n",
       "==============================================================================\n",
       "\n",
       "Notes:\n",
       "[1] Standard Errors assume that the covariance matrix of the errors is correctly specified.\n",
       "\"\"\""
      ]
     },
     "execution_count": 25,
     "metadata": {},
     "output_type": "execute_result"
    }
   ],
   "source": [
    "rslt_all = smf.ols(formula=\"grade_20059_fall ~ ssp + sfp + sfsp\", data=data).fit()\n",
    "rslt_all.summary()"
   ]
  },
  {
   "cell_type": "code",
   "execution_count": 24,
   "metadata": {},
   "outputs": [],
   "source": [
    "#exclude no shows\n",
    "data = data[data['noshow']==0]"
   ]
  },
  {
   "cell_type": "code",
   "execution_count": 29,
   "metadata": {},
   "outputs": [
    {
     "data": {
      "text/html": [
       "<table class=\"simpletable\">\n",
       "<caption>OLS Regression Results</caption>\n",
       "<tr>\n",
       "  <th>Dep. Variable:</th>    <td>grade_20059_fall</td> <th>  R-squared:         </th> <td>   0.015</td>\n",
       "</tr>\n",
       "<tr>\n",
       "  <th>Model:</th>                   <td>OLS</td>       <th>  Adj. R-squared:    </th> <td>   0.011</td>\n",
       "</tr>\n",
       "<tr>\n",
       "  <th>Method:</th>             <td>Least Squares</td>  <th>  F-statistic:       </th> <td>   3.955</td>\n",
       "</tr>\n",
       "<tr>\n",
       "  <th>Date:</th>             <td>Fri, 23 Jul 2021</td> <th>  Prob (F-statistic):</th>  <td>0.00816</td>\n",
       "</tr>\n",
       "<tr>\n",
       "  <th>Time:</th>                 <td>00:15:18</td>     <th>  Log-Likelihood:    </th> <td> -3093.3</td>\n",
       "</tr>\n",
       "<tr>\n",
       "  <th>No. Observations:</th>      <td>   796</td>      <th>  AIC:               </th> <td>   6195.</td>\n",
       "</tr>\n",
       "<tr>\n",
       "  <th>Df Residuals:</th>          <td>   792</td>      <th>  BIC:               </th> <td>   6213.</td>\n",
       "</tr>\n",
       "<tr>\n",
       "  <th>Df Model:</th>              <td>     3</td>      <th>                     </th>     <td> </td>   \n",
       "</tr>\n",
       "<tr>\n",
       "  <th>Covariance Type:</th>      <td>nonrobust</td>    <th>                     </th>     <td> </td>   \n",
       "</tr>\n",
       "</table>\n",
       "<table class=\"simpletable\">\n",
       "<tr>\n",
       "      <td></td>         <th>coef</th>     <th>std err</th>      <th>t</th>      <th>P>|t|</th>  <th>[0.025</th>    <th>0.975]</th>  \n",
       "</tr>\n",
       "<tr>\n",
       "  <th>Intercept</th> <td>   62.8125</td> <td>    0.540</td> <td>  116.327</td> <td> 0.000</td> <td>   61.753</td> <td>   63.872</td>\n",
       "</tr>\n",
       "<tr>\n",
       "  <th>ssp</th>       <td>    0.7544</td> <td>    1.223</td> <td>    0.617</td> <td> 0.538</td> <td>   -1.646</td> <td>    3.155</td>\n",
       "</tr>\n",
       "<tr>\n",
       "  <th>sfp</th>       <td>    2.9326</td> <td>    1.155</td> <td>    2.539</td> <td> 0.011</td> <td>    0.666</td> <td>    5.200</td>\n",
       "</tr>\n",
       "<tr>\n",
       "  <th>sfsp</th>      <td>    4.1676</td> <td>    1.541</td> <td>    2.704</td> <td> 0.007</td> <td>    1.142</td> <td>    7.193</td>\n",
       "</tr>\n",
       "</table>\n",
       "<table class=\"simpletable\">\n",
       "<tr>\n",
       "  <th>Omnibus:</th>       <td>238.600</td> <th>  Durbin-Watson:     </th> <td>   1.995</td> \n",
       "</tr>\n",
       "<tr>\n",
       "  <th>Prob(Omnibus):</th> <td> 0.000</td>  <th>  Jarque-Bera (JB):  </th> <td> 970.287</td> \n",
       "</tr>\n",
       "<tr>\n",
       "  <th>Skew:</th>          <td>-1.350</td>  <th>  Prob(JB):          </th> <td>2.02e-211</td>\n",
       "</tr>\n",
       "<tr>\n",
       "  <th>Kurtosis:</th>      <td> 7.687</td>  <th>  Cond. No.          </th> <td>    4.01</td> \n",
       "</tr>\n",
       "</table><br/><br/>Notes:<br/>[1] Standard Errors assume that the covariance matrix of the errors is correctly specified."
      ],
      "text/plain": [
       "<class 'statsmodels.iolib.summary.Summary'>\n",
       "\"\"\"\n",
       "                            OLS Regression Results                            \n",
       "==============================================================================\n",
       "Dep. Variable:       grade_20059_fall   R-squared:                       0.015\n",
       "Model:                            OLS   Adj. R-squared:                  0.011\n",
       "Method:                 Least Squares   F-statistic:                     3.955\n",
       "Date:                Fri, 23 Jul 2021   Prob (F-statistic):            0.00816\n",
       "Time:                        00:15:18   Log-Likelihood:                -3093.3\n",
       "No. Observations:                 796   AIC:                             6195.\n",
       "Df Residuals:                     792   BIC:                             6213.\n",
       "Df Model:                           3                                         \n",
       "Covariance Type:            nonrobust                                         \n",
       "==============================================================================\n",
       "                 coef    std err          t      P>|t|      [0.025      0.975]\n",
       "------------------------------------------------------------------------------\n",
       "Intercept     62.8125      0.540    116.327      0.000      61.753      63.872\n",
       "ssp            0.7544      1.223      0.617      0.538      -1.646       3.155\n",
       "sfp            2.9326      1.155      2.539      0.011       0.666       5.200\n",
       "sfsp           4.1676      1.541      2.704      0.007       1.142       7.193\n",
       "==============================================================================\n",
       "Omnibus:                      238.600   Durbin-Watson:                   1.995\n",
       "Prob(Omnibus):                  0.000   Jarque-Bera (JB):              970.287\n",
       "Skew:                          -1.350   Prob(JB):                    2.02e-211\n",
       "Kurtosis:                       7.687   Cond. No.                         4.01\n",
       "==============================================================================\n",
       "\n",
       "Notes:\n",
       "[1] Standard Errors assume that the covariance matrix of the errors is correctly specified.\n",
       "\"\"\""
      ]
     },
     "execution_count": 29,
     "metadata": {},
     "output_type": "execute_result"
    }
   ],
   "source": [
    "data_female = data[data['sex']== 'F']\n",
    "result_female = smf.ols(formula=\"grade_20059_fall ~ ssp + sfp + sfsp\", data = data_female).fit()\n",
    "result_female.summary()"
   ]
  },
  {
   "cell_type": "code",
   "execution_count": 31,
   "metadata": {},
   "outputs": [
    {
     "data": {
      "text/html": [
       "<table class=\"simpletable\">\n",
       "<caption>OLS Regression Results</caption>\n",
       "<tr>\n",
       "  <th>Dep. Variable:</th>    <td>grade_20059_fall</td> <th>  R-squared:         </th> <td>   0.001</td>\n",
       "</tr>\n",
       "<tr>\n",
       "  <th>Model:</th>                   <td>OLS</td>       <th>  Adj. R-squared:    </th> <td>  -0.004</td>\n",
       "</tr>\n",
       "<tr>\n",
       "  <th>Method:</th>             <td>Least Squares</td>  <th>  F-statistic:       </th> <td>  0.1698</td>\n",
       "</tr>\n",
       "<tr>\n",
       "  <th>Date:</th>             <td>Fri, 23 Jul 2021</td> <th>  Prob (F-statistic):</th>  <td> 0.917</td> \n",
       "</tr>\n",
       "<tr>\n",
       "  <th>Time:</th>                 <td>00:15:46</td>     <th>  Log-Likelihood:    </th> <td> -2346.8</td>\n",
       "</tr>\n",
       "<tr>\n",
       "  <th>No. Observations:</th>      <td>   602</td>      <th>  AIC:               </th> <td>   4702.</td>\n",
       "</tr>\n",
       "<tr>\n",
       "  <th>Df Residuals:</th>          <td>   598</td>      <th>  BIC:               </th> <td>   4719.</td>\n",
       "</tr>\n",
       "<tr>\n",
       "  <th>Df Model:</th>              <td>     3</td>      <th>                     </th>     <td> </td>   \n",
       "</tr>\n",
       "<tr>\n",
       "  <th>Covariance Type:</th>      <td>nonrobust</td>    <th>                     </th>     <td> </td>   \n",
       "</tr>\n",
       "</table>\n",
       "<table class=\"simpletable\">\n",
       "<tr>\n",
       "      <td></td>         <th>coef</th>     <th>std err</th>      <th>t</th>      <th>P>|t|</th>  <th>[0.025</th>    <th>0.975]</th>  \n",
       "</tr>\n",
       "<tr>\n",
       "  <th>Intercept</th> <td>   65.1736</td> <td>    0.622</td> <td>  104.830</td> <td> 0.000</td> <td>   63.953</td> <td>   66.395</td>\n",
       "</tr>\n",
       "<tr>\n",
       "  <th>ssp</th>       <td>   -0.4306</td> <td>    1.377</td> <td>   -0.313</td> <td> 0.755</td> <td>   -3.135</td> <td>    2.274</td>\n",
       "</tr>\n",
       "<tr>\n",
       "  <th>sfp</th>       <td>    0.7921</td> <td>    1.440</td> <td>    0.550</td> <td> 0.582</td> <td>   -2.036</td> <td>    3.620</td>\n",
       "</tr>\n",
       "<tr>\n",
       "  <th>sfsp</th>      <td>   -0.2210</td> <td>    1.788</td> <td>   -0.124</td> <td> 0.902</td> <td>   -3.733</td> <td>    3.291</td>\n",
       "</tr>\n",
       "</table>\n",
       "<table class=\"simpletable\">\n",
       "<tr>\n",
       "  <th>Omnibus:</th>       <td>201.151</td> <th>  Durbin-Watson:     </th> <td>   2.028</td> \n",
       "</tr>\n",
       "<tr>\n",
       "  <th>Prob(Omnibus):</th> <td> 0.000</td>  <th>  Jarque-Bera (JB):  </th> <td> 731.479</td> \n",
       "</tr>\n",
       "<tr>\n",
       "  <th>Skew:</th>          <td>-1.535</td>  <th>  Prob(JB):          </th> <td>1.45e-159</td>\n",
       "</tr>\n",
       "<tr>\n",
       "  <th>Kurtosis:</th>      <td> 7.443</td>  <th>  Cond. No.          </th> <td>    3.99</td> \n",
       "</tr>\n",
       "</table><br/><br/>Notes:<br/>[1] Standard Errors assume that the covariance matrix of the errors is correctly specified."
      ],
      "text/plain": [
       "<class 'statsmodels.iolib.summary.Summary'>\n",
       "\"\"\"\n",
       "                            OLS Regression Results                            \n",
       "==============================================================================\n",
       "Dep. Variable:       grade_20059_fall   R-squared:                       0.001\n",
       "Model:                            OLS   Adj. R-squared:                 -0.004\n",
       "Method:                 Least Squares   F-statistic:                    0.1698\n",
       "Date:                Fri, 23 Jul 2021   Prob (F-statistic):              0.917\n",
       "Time:                        00:15:46   Log-Likelihood:                -2346.8\n",
       "No. Observations:                 602   AIC:                             4702.\n",
       "Df Residuals:                     598   BIC:                             4719.\n",
       "Df Model:                           3                                         \n",
       "Covariance Type:            nonrobust                                         \n",
       "==============================================================================\n",
       "                 coef    std err          t      P>|t|      [0.025      0.975]\n",
       "------------------------------------------------------------------------------\n",
       "Intercept     65.1736      0.622    104.830      0.000      63.953      66.395\n",
       "ssp           -0.4306      1.377     -0.313      0.755      -3.135       2.274\n",
       "sfp            0.7921      1.440      0.550      0.582      -2.036       3.620\n",
       "sfsp          -0.2210      1.788     -0.124      0.902      -3.733       3.291\n",
       "==============================================================================\n",
       "Omnibus:                      201.151   Durbin-Watson:                   2.028\n",
       "Prob(Omnibus):                  0.000   Jarque-Bera (JB):              731.479\n",
       "Skew:                          -1.535   Prob(JB):                    1.45e-159\n",
       "Kurtosis:                       7.443   Cond. No.                         3.99\n",
       "==============================================================================\n",
       "\n",
       "Notes:\n",
       "[1] Standard Errors assume that the covariance matrix of the errors is correctly specified.\n",
       "\"\"\""
      ]
     },
     "execution_count": 31,
     "metadata": {},
     "output_type": "execute_result"
    }
   ],
   "source": [
    "data_male = data [data['sex'] == 'M']\n",
    "result_male = smf.ols(formula=\"grade_20059_fall ~ ssp + sfp + sfsp\", data=data_male).fit()\n",
    "result_male.summary()"
   ]
  },
  {
   "cell_type": "code",
   "execution_count": 57,
   "metadata": {},
   "outputs": [
    {
     "data": {
      "text/html": [
       "<table class=\"simpletable\">\n",
       "<caption>OLS Regression Results</caption>\n",
       "<tr>\n",
       "  <th>Dep. Variable:</th>        <td>GPA_year1</td>    <th>  R-squared:         </th> <td>   0.002</td>\n",
       "</tr>\n",
       "<tr>\n",
       "  <th>Model:</th>                   <td>OLS</td>       <th>  Adj. R-squared:    </th> <td>  -0.000</td>\n",
       "</tr>\n",
       "<tr>\n",
       "  <th>Method:</th>             <td>Least Squares</td>  <th>  F-statistic:       </th> <td>  0.8093</td>\n",
       "</tr>\n",
       "<tr>\n",
       "  <th>Date:</th>             <td>Fri, 23 Jul 2021</td> <th>  Prob (F-statistic):</th>  <td> 0.489</td> \n",
       "</tr>\n",
       "<tr>\n",
       "  <th>Time:</th>                 <td>00:37:04</td>     <th>  Log-Likelihood:    </th> <td> -1784.0</td>\n",
       "</tr>\n",
       "<tr>\n",
       "  <th>No. Observations:</th>      <td>  1374</td>      <th>  AIC:               </th> <td>   3576.</td>\n",
       "</tr>\n",
       "<tr>\n",
       "  <th>Df Residuals:</th>          <td>  1370</td>      <th>  BIC:               </th> <td>   3597.</td>\n",
       "</tr>\n",
       "<tr>\n",
       "  <th>Df Model:</th>              <td>     3</td>      <th>                     </th>     <td> </td>   \n",
       "</tr>\n",
       "<tr>\n",
       "  <th>Covariance Type:</th>      <td>nonrobust</td>    <th>                     </th>     <td> </td>   \n",
       "</tr>\n",
       "</table>\n",
       "<table class=\"simpletable\">\n",
       "<tr>\n",
       "      <td></td>         <th>coef</th>     <th>std err</th>      <th>t</th>      <th>P>|t|</th>  <th>[0.025</th>    <th>0.975]</th>  \n",
       "</tr>\n",
       "<tr>\n",
       "  <th>Intercept</th> <td>    1.7974</td> <td>    0.031</td> <td>   58.508</td> <td> 0.000</td> <td>    1.737</td> <td>    1.858</td>\n",
       "</tr>\n",
       "<tr>\n",
       "  <th>ssp</th>       <td>    0.0559</td> <td>    0.069</td> <td>    0.813</td> <td> 0.416</td> <td>   -0.079</td> <td>    0.191</td>\n",
       "</tr>\n",
       "<tr>\n",
       "  <th>sfp</th>       <td>    0.0315</td> <td>    0.068</td> <td>    0.463</td> <td> 0.643</td> <td>   -0.102</td> <td>    0.165</td>\n",
       "</tr>\n",
       "<tr>\n",
       "  <th>sfsp</th>      <td>    0.1256</td> <td>    0.088</td> <td>    1.434</td> <td> 0.152</td> <td>   -0.046</td> <td>    0.298</td>\n",
       "</tr>\n",
       "</table>\n",
       "<table class=\"simpletable\">\n",
       "<tr>\n",
       "  <th>Omnibus:</th>       <td>45.216</td> <th>  Durbin-Watson:     </th> <td>   1.978</td>\n",
       "</tr>\n",
       "<tr>\n",
       "  <th>Prob(Omnibus):</th> <td> 0.000</td> <th>  Jarque-Bera (JB):  </th> <td>  21.910</td>\n",
       "</tr>\n",
       "<tr>\n",
       "  <th>Skew:</th>          <td> 0.064</td> <th>  Prob(JB):          </th> <td>1.75e-05</td>\n",
       "</tr>\n",
       "<tr>\n",
       "  <th>Kurtosis:</th>      <td> 2.395</td> <th>  Cond. No.          </th> <td>    3.99</td>\n",
       "</tr>\n",
       "</table><br/><br/>Notes:<br/>[1] Standard Errors assume that the covariance matrix of the errors is correctly specified."
      ],
      "text/plain": [
       "<class 'statsmodels.iolib.summary.Summary'>\n",
       "\"\"\"\n",
       "                            OLS Regression Results                            \n",
       "==============================================================================\n",
       "Dep. Variable:              GPA_year1   R-squared:                       0.002\n",
       "Model:                            OLS   Adj. R-squared:                 -0.000\n",
       "Method:                 Least Squares   F-statistic:                    0.8093\n",
       "Date:                Fri, 23 Jul 2021   Prob (F-statistic):              0.489\n",
       "Time:                        00:37:04   Log-Likelihood:                -1784.0\n",
       "No. Observations:                1374   AIC:                             3576.\n",
       "Df Residuals:                    1370   BIC:                             3597.\n",
       "Df Model:                           3                                         \n",
       "Covariance Type:            nonrobust                                         \n",
       "==============================================================================\n",
       "                 coef    std err          t      P>|t|      [0.025      0.975]\n",
       "------------------------------------------------------------------------------\n",
       "Intercept      1.7974      0.031     58.508      0.000       1.737       1.858\n",
       "ssp            0.0559      0.069      0.813      0.416      -0.079       0.191\n",
       "sfp            0.0315      0.068      0.463      0.643      -0.102       0.165\n",
       "sfsp           0.1256      0.088      1.434      0.152      -0.046       0.298\n",
       "==============================================================================\n",
       "Omnibus:                       45.216   Durbin-Watson:                   1.978\n",
       "Prob(Omnibus):                  0.000   Jarque-Bera (JB):               21.910\n",
       "Skew:                           0.064   Prob(JB):                     1.75e-05\n",
       "Kurtosis:                       2.395   Cond. No.                         3.99\n",
       "==============================================================================\n",
       "\n",
       "Notes:\n",
       "[1] Standard Errors assume that the covariance matrix of the errors is correctly specified.\n",
       "\"\"\""
      ]
     },
     "execution_count": 57,
     "metadata": {},
     "output_type": "execute_result"
    }
   ],
   "source": [
    "rslt_all_gpa_year1 = smf.ols(formula= \"GPA_year1 ~ ssp + sfp + sfsp\", data=data).fit()\n",
    "rslt_all_gpa_year1.summary()"
   ]
  },
  {
   "cell_type": "code",
   "execution_count": 45,
   "metadata": {},
   "outputs": [
    {
     "data": {
      "text/plain": [
       "<AxesSubplot:ylabel='Density'>"
      ]
     },
     "execution_count": 45,
     "metadata": {},
     "output_type": "execute_result"
    },
    {
     "data": {
      "image/png": "[encoded data removed]",
      "text/plain": [
       "<Figure size 432x288 with 1 Axes>"
      ]
     },
     "metadata": {
      "needs_background": "light"
     },
     "output_type": "display_data"
    }
   ],
   "source": [
    "control = data[data['control'] == 1]\n",
    "control.grade_20059_fall.plot.kde()\n",
    "ssp.grade_20059_fall.plot.kde()"
   ]
  },
  {
   "cell_type": "code",
   "execution_count": 48,
   "metadata": {},
   "outputs": [
    {
     "data": {
      "text/plain": [
       "<AxesSubplot:ylabel='Density'>"
      ]
     },
     "execution_count": 48,
     "metadata": {},
     "output_type": "execute_result"
    },
    {
     "data": {
      "image/png": "[encoded data removed]",
      "text/plain": [
       "<Figure size 432x288 with 1 Axes>"
      ]
     },
     "metadata": {
      "needs_background": "light"
     },
     "output_type": "display_data"
    }
   ],
   "source": [
    "control[control['sex']== 'F'].grade_20059_fall.plot.kde()\n",
    "ssp[ssp['sex']== 'F'].grade_20059_fall.plot.kde()"
   ]
  },
  {
   "cell_type": "code",
   "execution_count": 49,
   "metadata": {},
   "outputs": [
    {
     "data": {
      "text/plain": [
       "<AxesSubplot:ylabel='Density'>"
      ]
     },
     "execution_count": 49,
     "metadata": {},
     "output_type": "execute_result"
    },
    {
     "data": {
      "image/png": "[encoded data removed]",
      "text/plain": [
       "<Figure size 432x288 with 1 Axes>"
      ]
     },
     "metadata": {
      "needs_background": "light"
     },
     "output_type": "display_data"
    }
   ],
   "source": [
    "control[control['sex']== 'F'].grade_20059_fall.plot.kde()\n",
    "sfp[sfp['sex']== 'F'].grade_20059_fall.plot.kde()"
   ]
  },
  {
   "cell_type": "code",
   "execution_count": 50,
   "metadata": {},
   "outputs": [
    {
     "data": {
      "text/plain": [
       "<AxesSubplot:ylabel='Density'>"
      ]
     },
     "execution_count": 50,
     "metadata": {},
     "output_type": "execute_result"
    },
    {
     "data": {
      "image/png": "[encoded data removed]",
      "text/plain": [
       "<Figure size 432x288 with 1 Axes>"
      ]
     },
     "metadata": {
      "needs_background": "light"
     },
     "output_type": "display_data"
    }
   ],
   "source": [
    "control[control['sex']== 'F'].grade_20059_fall.plot.kde()\n",
    "sfsp[sfsp['sex']== 'F'].grade_20059_fall.plot.kde()"
   ]
  },
  {
   "cell_type": "code",
   "execution_count": 51,
   "metadata": {},
   "outputs": [
    {
     "data": {
      "text/plain": [
       "<AxesSubplot:ylabel='Density'>"
      ]
     },
     "execution_count": 51,
     "metadata": {},
     "output_type": "execute_result"
    },
    {
     "data": {
      "image/png": "[encoded data removed]",
      "text/plain": [
       "<Figure size 432x288 with 1 Axes>"
      ]
     },
     "metadata": {
      "needs_background": "light"
     },
     "output_type": "display_data"
    }
   ],
   "source": [
    "control[control['sex']== 'M'].grade_20059_fall.plot.kde()\n",
    "ssp[ssp['sex']== 'M'].grade_20059_fall.plot.kde()"
   ]
  },
  {
   "cell_type": "code",
   "execution_count": 52,
   "metadata": {},
   "outputs": [
    {
     "data": {
      "text/plain": [
       "<AxesSubplot:ylabel='Density'>"
      ]
     },
     "execution_count": 52,
     "metadata": {},
     "output_type": "execute_result"
    },
    {
     "data": {
      "image/png": "[encoded data removed]",
      "text/plain": [
       "<Figure size 432x288 with 1 Axes>"
      ]
     },
     "metadata": {
      "needs_background": "light"
     },
     "output_type": "display_data"
    }
   ],
   "source": [
    "control[control['sex']== 'M'].grade_20059_fall.plot.kde()\n",
    "sfp[sfp['sex']== 'M'].grade_20059_fall.plot.kde()"
   ]
  },
  {
   "cell_type": "code",
   "execution_count": 58,
   "metadata": {},
   "outputs": [
    {
     "data": {
      "image/png": "[encoded data removed]",
      "text/plain": [
       "<Figure size 432x288 with 1 Axes>"
      ]
     },
     "metadata": {
      "needs_background": "light"
     },
     "output_type": "display_data"
    }
   ],
   "source": [
    "a = control[control['sex']== 'M'].grade_20059_fall.plot.kde()\n",
    "b = sfsp[sfsp['sex']== 'M'].grade_20059_fall.plot.kde()"
   ]
  },
  {
   "cell_type": "code",
   "execution_count": null,
   "metadata": {},
   "outputs": [],
   "source": []
  },
  {
   "cell_type": "code",
   "execution_count": 54,
   "metadata": {},
   "outputs": [],
   "source": []
  },
  {
   "cell_type": "code",
   "execution_count": 56,
   "metadata": {},
   "outputs": [
    {
     "data": {
      "text/plain": [
       "1.8215205669403076"
      ]
     },
     "execution_count": 56,
     "metadata": {},
     "output_type": "execute_result"
    }
   ],
   "source": []
  },
  {
   "cell_type": "markdown",
   "metadata": {},
   "source": [
    "---\n",
    "# 5. Extention\n",
    "---"
   ]
  },
  {
   "cell_type": "code",
   "execution_count": 64,
   "metadata": {},
   "outputs": [
    {
     "data": {
      "text/plain": [
       "<AxesSubplot:ylabel='Density'>"
      ]
     },
     "execution_count": 64,
     "metadata": {},
     "output_type": "execute_result"
    },
    {
     "data": {
      "image/png": "[encoded data removed]",
      "text/plain": [
       "<Figure size 432x288 with 1 Axes>"
      ]
     },
     "metadata": {
      "needs_background": "light"
     },
     "output_type": "display_data"
    }
   ],
   "source": [
    "control[control['sex']== 'M'].GPA_year1.plot.kde()\n",
    "sfsp[sfsp['sex']== 'M'].GPA_year1.plot.kde()"
   ]
  },
  {
   "cell_type": "code",
   "execution_count": null,
   "metadata": {},
   "outputs": [],
   "source": []
  },
  {
   "cell_type": "code",
   "execution_count": null,
   "metadata": {},
   "outputs": [],
   "source": []
  },
  {
   "cell_type": "markdown",
   "metadata": {},
   "source": [
    "---\n",
    "# 6. Conclusion and Critical Assessment\n",
    "---"
   ]
  },
  {
   "cell_type": "markdown",
   "metadata": {},
   "source": [
    "---\n",
    "# 7. References\n",
    "---"
   ]
  },
  {
   "cell_type": "markdown",
   "metadata": {},
   "source": []
  }
 ],
 "metadata": {
  "interpreter": {
   "hash": "f9de4e033535c529fe0f52d15e87db911dbd961c5ec28bda6ee5b57ecf29c15f"
  },
  "kernelspec": {
   "display_name": "Python 3",
   "language": "python",
   "name": "python3"
  },
  "language_info": {
   "codemirror_mode": {
    "name": "ipython",
    "version": 3
   },
   "file_extension": ".py",
   "mimetype": "text/x-python",
   "name": "python",
   "nbconvert_exporter": "python",
   "pygments_lexer": "ipython3",
   "version": "3.8.5"
  }
 },
 "nbformat": 4,
 "nbformat_minor": 4
}
