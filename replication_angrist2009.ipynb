{
 "cells": [
  {
   "cell_type": "markdown",
   "metadata": {},
   "source": [
    "--- \n",
    "Project for the course in Microeconometrics | Summer 2021, M.Sc. Economics, Bonn University | [Bahar Coskun](https://github.com/baharcos)\n",
    "\n",
    "# Replication of Joshua Angrist, Daniel Lang, and Philipp Oreopoulous (2009) <a class=\"tocSkip\">   \n",
    "---"
   ]
  },
  {
   "cell_type": "markdown",
   "metadata": {},
   "source": [
    "The following notebook contains my replication of the results of\n",
    "\n",
    "> Angrist, J., Land, D., & Oreopoulos, P. (2009). Incentives And Services For College Achievement: Evidence From A Randomized Trial. American Economic Journal: Applied Economics, 1(1), 136-63.\n",
    "\n",
    "#### Downloading and Viewing this Notebook\n",
    "\n",
    "* To ensure that every image and format is displayed properly, I recommend to download this notebook from its repository on [GitHub](https://github.com/OpenSourceEconomics/ose-data-science-course-project-baharcos). Other viewing options like _MyBinder_ or _NBViewer_ might have issues displaying formulas and formatting.\n",
    "\n",
    "* The original data, code and paper can be found [here](https://economics.mit.edu/faculty/angrist/data1/data/angrist,1)\n",
    "\n",
    "#### Information about the Replication and Individual Contributions\n",
    "\n",
    "* I have labeled all figures and tables in this notebook in an ascending order to prevent confusion of the reader. If it is a replication, I always indicate the label of the corresponding figure and table referencing to the original paper.\n",
    "\n",
    "* I always explicitly state, when I give the opinion of the author.\n",
    "\n",
    "* All sections and subsections that are labeled as *Extension* are my independent contributions.  \n",
    "\n",
    "* For more detailed information it is always refered to Angrist et. al. [(2009)](https://www.aeaweb.org/articles?id=10.1257/app.1.1.136) I replicated the results from the main analysis.\n",
    "\n",
    "* The layout and the structure of the notebook is inspired by Annica Gehlen's replication of Jason M. Lindo, Nicholas J. Sanders & Philip Oreopoulos (2010) from the 2019 iteration of the Microeconometrics class. [(link)](https://github.com/amageh/replication-performance-standards/blob/master/replication-notebook.ipynb)"
   ]
  },
  {
   "cell_type": "markdown",
   "metadata": {},
   "source": [
    "<h1> Table of Contents<span class=\"tocSkip\"></span></h1>\n",
    "<div class=\"toc\"><ul class=\"toc-item\"><li><span><a href=\"#1.-Introduction\" data-toc-modified-id=\"1.-Introduction-1\">1. Introduction</a></span><ul class=\"toc-item\">\n",
    "    <li><span><a href=\"#1.1-Motivation\" data-toc-modified-id=\"1.1-Motivation-1.1\">1.1 Motivation</a></span></li> \n",
    "<li><span><a href=\"#1.2-Study Design\" data-toc-modified-id=\"1.2-Study Design\">1.2 Study Design</a></span></li>\n",
    "    <li><span><a href=\"#1.3-Estimation Strategy\" data-toc-modified-id=\"1.3-Estimation Strategy\">1.3 Estimation Strategy</a></span></li>\n",
    "    <li><span><a href=\"#1.4-Main Findings\" data-toc-modified-id=\"1.4-Main Findings\">1.4 Main Findings</a></span></li>\n",
    "    <li><span><a href=\"#1.5-Replication Notebook\" data-toc-modified-id=\"1.5-Replication Notebook\">1.5 Replication Notebook</a></span></li>\n",
    "    </li><li><span><a href=\"#2.-Study Design, Data and Extention | Descriptives\" data-toc-modified-id=\"2.-Study Design, Data and Extention | Descriptives-2\">2. Study Design, Data and Extention | Descriptives</a></span><ul class=\"toc-item\">\n",
    "    <li><span><a href=\"#2.1-STAR Demonstration Project\" data-toc-modified-id=\"2.1-STAR Demonstration Project-1.1\">1.1 STAR Demonstration Project</a></span></li> \n",
    "<li><span><a href=\"#2.2-Data\" data-toc-modified-id=\"2.2-Data\">2.2 Data</a></span></li>\n",
    "    <li><span><a href=\"#2.3 Extension | Data Descriptives\" data-toc-modified-id=\"2.3 Extension | Data Descriptives\">2.3 Extension | Data Descriptives</a></span></li>\n",
    "     </li><li><span><a href=\"#3.-Identification and Empirical Strategy\" data-toc-modified-id=\"3.-Identification and Empirical Strategy-2\">3. Identification and Empirical Strategy</a></span></li> <li><span><a href=\"#4.-Replication-of-Angrist-et-al.-(2009)\" data-toc-modified-id=\"4.-Replication-of-Angrist-et-al.-(2009)-4\">4. Replication-of-Angrist-et-al.-(2009)</a></span></li>\n",
    "    <li><span><a href=\"#5.-Extension\" data-toc-modified-id=\"5.-Extension-5\">5.Extension</a></span></li>\n",
    "    <li><span><a href=\"#6.-Conclusion-and-Critical-Assessment\" data-toc-modified-id=\"6.-Conclusion-and-Critical-Assessment-6\">6. Conclusion  and Critical Assessment</a></span></li>\n",
    "<li><span><a href=\"#7.-References\" data-toc-modified-id=\"7.-References-7\">7. References</a></span></li></ul></div></li>\n",
    "\n",
    "---"
   ]
  },
  {
   "cell_type": "code",
   "execution_count": 4,
   "metadata": {},
   "outputs": [],
   "source": [
    "import statsmodels.formula.api as smf\n",
    "import pandas as pd\n",
    "import numpy as np\n",
    "import seaborn as sns\n",
    "import matplotlib.pyplot as plt\n",
    "from linearmodels import IV2SLS\n",
    "from auxiliary.colors import get_colors\n",
    "from auxiliary.colors import plot_colors\n",
    "from auxiliary.plot import participation_share_plot"
   ]
  },
  {
   "cell_type": "code",
   "execution_count": 5,
   "metadata": {},
   "outputs": [],
   "source": [
    "colors = get_colors('categorical', 12)"
   ]
  },
  {
   "cell_type": "code",
   "execution_count": 28,
   "metadata": {},
   "outputs": [
    {
     "data": {
      "image/png": "[encoded data removed]",
      "text/plain": [
       "<Figure size 864x72 with 1 Axes>"
      ]
     },
     "metadata": {
      "needs_background": "light"
     },
     "output_type": "display_data"
    }
   ],
   "source": [
    "plot_colors('categorical', 12)"
   ]
  },
  {
   "cell_type": "markdown",
   "metadata": {},
   "source": [
    "---\n",
    "# 1. Introduction\n",
    "---\n",
    "\n",
    "## 1.1 Motivation\n",
    "The motivation of Angrist et al.(2009) comes from the importance of academic performance, not dropping out from the program and completing on time for post-secondary education experience. Something that many students, particularly ones from low-income families, struggle to achieve. One reason for this is poor study skills. As a response many North American universities offer academic services to improve skills like note taking, time management or goal-setting. However, the non-experimental research on academic support services for college students have found mixed results even though experimental design of the same services on high school students drew a more promising picture. \n",
    "Furthermore to motivate better academic performance merit scholarship have been part of college education for a long time. Although only a small group of spectacular students have benefitted from this financial incentive. \n",
    "\n",
    "## 1.2 Study Design\n",
    "Angrist et al. (2009) analysis the results of Student Achievement and Retention (STAR) Demonstration Project. STAR is designed as a randomised evaluation to learn more about the effects of support services and financial incentives on academic performance at a satellite campus of a large Canadian university that is in U.S. terms a large state university with heavily subsidised tuition fees. Students attending are mostly from local area and have similar high school background which further eliminates geographic background differences that could arise in the treatment.\n",
    "\n",
    "## 1.3 Estimation Strategy\n",
    "Students are randomly allocated into control or one of the treatment groups. Students in a treatment group receive an offer and the have to signed up to be eligible which is not random. In order to estimate the causal impact of financial incentives and academic support services Angrist et al. (2009) use **instrumental variables (IV)**. However, due to the low compliance rate most results reported are **intent-to-treat (ITT)** estimates. The data comes from 1656 full time first year students combining administrative data and survey data which the students took **prior** to the treatment selection.\n",
    "\n",
    "\n",
    "**Main variables**\n",
    "\n",
    "| **Treatments**        | **Outcome Variables**  |\n",
    "|-----------------------|------------------------|\n",
    "| Services:ssp          | GPA                    |\n",
    "| Incentives:sfp        | On probation/withdrew  |              \n",
    "| Combined:sfsp         | Credits earned         | \n",
    "\n",
    "Angrist et al. (2009) use students grades on fall term, first and second year GPA as a direct measure for performance. Although many students take a lighter course load across semesters. To this end, credits earned outcome measures how likely the student is to complete on time hence, the academic performance.\n",
    "Lastly authors look at how effective the treatment is to keep students out of being in probation or withdrawing.\n",
    "\n",
    "## 1.4. Main Findings \n",
    "Main findings of Angrist et al. (2009) are: \n",
    "- Female students are more likely to use the services\n",
    "- Male achievement remained unchanged with the intervention \n",
    "- Services itself failed to attract students\n",
    "- Incentives itself motivated both genders to have better academic performance. However, there was no lasting effect\n",
    "- The combined treatment as well as service treatment had lasting effects even when the treatment was not in place\n",
    "- Female achievement in services combined with financial incentives increased students GPA about 0.35$\\sigma$\n",
    "- The cost of the policy is very small compared to the increase of future income of the students by better academic performance\n",
    "\n",
    "## 1.5 Replication Notebook\n",
    "\n",
    "In this notebook, I replicate Table 5, Table 8 and Figure 1 of Angrist et al. (2009) which I consider as the key results. As an extension I give an extended overview of the data through tables and various plots and do balance checks between groups who are offered a treatment and who actually signed up for the treatment. Section 2 presents the STAR study design and participating students background. I describe the identification strategy of Angrist et al. (2009) to find causal effects in section 3. Section 4 shows my replication results of the paper. In section 5, I conduct balance checks on students participated in the treatment and for assumptions of the IV estimator. Section 6 gives a critical assessment of Angrist et al. (2009) results and concludes."
   ]
  },
  {
   "cell_type": "markdown",
   "metadata": {},
   "source": [
    "---\n",
    "# 2. Study Design, Data and Extention | Descriptives\n",
    "---\n",
    "## 2.1. STAR Demonstration Project\n",
    "\n",
    "STAR randomly assigned entering first-year undergreduates into the control group or one of the treatment groups below:\n",
    "Service strategy SSP: peer advisors are trained upper-class students  in the treated students' program offering academic advise and suggestions for coping with first year of university. Advisor email regularly(at least biweekly) about university assimilation, scheduling, studying, time management, reminding availability of the services to meet at STAR office. Also trained for circumstances to call for professional help. In addition facilitated study groups(FSG) are offered to improve study habits complement normal tutorials, develop reasoning skills. FSG focuses on skils such as critical thinking, note-taking, graphic organisation, questioning techniques, vocabulary acquisition, and test prediction and preparation. They offered approximately half of first year courses. Some of large courses offered the service to all students because it was in place before the experiment\n",
    "\n",
    "Incentive strategy SFP: students are awarded either full fellowship($5000) or a partial fellowship($1000). Award targets are based on high school grades which is shown in table below. Targets based on trade off between program costs and award accessibility\n",
    "\n",
    "**Award Targets**\n",
    "\n",
    "| **Grade Quantile**   | **5000 threshold**   | **1000 threshold**  |\n",
    "|----------------------|----------------------|---------------------|\n",
    "| lowest quantile      | B                    | C+                  |\n",
    "| second quartile      | B+                   | B-                  |\n",
    "| third quantile       | A-                   | B                   |\n",
    "\n",
    "\n",
    "\n",
    "Third and final treatment group is the combined strategy SFSP where students are offered both academic services in SSP and fellowship program in SFP. There is no link between two strategies such that students can use the service without being eligible to fellowship and can be eligible for fellowship without using the service.\n",
    "\n",
    "## 2.2 Data\n",
    "\n",
    "Main source of data is baselie survey the students have taken prior to assignment. The variables for mothertongue, high school grades, average college grades come from administrative data."
   ]
  },
  {
   "cell_type": "code",
   "execution_count": 6,
   "metadata": {},
   "outputs": [],
   "source": [
    "data = pd.read_stata('data/STAR_public_use.dta') #read the data"
   ]
  },
  {
   "cell_type": "code",
   "execution_count": 12,
   "metadata": {},
   "outputs": [
    {
     "name": "stdout",
     "output_type": "stream",
     "text": [
      "<class 'pandas.core.frame.DataFrame'>\n",
      "Int64Index: 1656 entries, 0 to 1655\n",
      "Data columns (total 48 columns):\n",
      " #   Column              Non-Null Count  Dtype   \n",
      "---  ------              --------------  -----   \n",
      " 0   GPA_year1           1537 non-null   float32 \n",
      " 1   GPA_year2           1368 non-null   float32 \n",
      " 2   age                 1656 non-null   int8    \n",
      " 3   chooseUTM           1472 non-null   float32 \n",
      " 4   compsurv            1656 non-null   float32 \n",
      " 5   control             1656 non-null   int8    \n",
      " 6   credits_earned1     1575 non-null   float32 \n",
      " 7   credits_earned2     1575 non-null   float32 \n",
      " 8   dad1                1472 non-null   float32 \n",
      " 9   dad2                1472 non-null   float32 \n",
      " 10  dad_edn             1472 non-null   category\n",
      " 11  english             1656 non-null   int8    \n",
      " 12  female              1656 non-null   int8    \n",
      " 13  finish4             1472 non-null   float64 \n",
      " 14  goodstanding_year1  1634 non-null   float32 \n",
      " 15  goodstanding_year2  1634 non-null   float32 \n",
      " 16  gpa0                1656 non-null   float32 \n",
      " 17  graddeg             1472 non-null   float64 \n",
      " 18  grade_20059_fall    1404 non-null   float32 \n",
      " 19  hcom                1472 non-null   float64 \n",
      " 20  hsgroup             1656 non-null   int8    \n",
      " 21  lastmin             1472 non-null   category\n",
      " 22  lm_never            1472 non-null   float64 \n",
      " 23  lm_rarely           1472 non-null   float64 \n",
      " 24  mathsci             1656 non-null   float32 \n",
      " 25  mom1                1472 non-null   float32 \n",
      " 26  mom2                1472 non-null   float32 \n",
      " 27  mom_edn             1472 non-null   category\n",
      " 28  mtongue             1656 non-null   object  \n",
      " 29  noshow              1656 non-null   int8    \n",
      " 30  numcourses_nov1     1656 non-null   float64 \n",
      " 31  prob_year1          1562 non-null   float64 \n",
      " 32  prob_year2          1562 non-null   float64 \n",
      " 33  sex                 1656 non-null   object  \n",
      " 34  sfp                 1656 non-null   float32 \n",
      " 35  sfp_p               1656 non-null   float32 \n",
      " 36  sfpany              1656 non-null   float32 \n",
      " 37  sfpany_p            1656 non-null   float32 \n",
      " 38  sfsp                1656 non-null   float32 \n",
      " 39  sfsp_p              1656 non-null   float32 \n",
      " 40  signup              1656 non-null   float32 \n",
      " 41  ssp                 1656 non-null   float32 \n",
      " 42  ssp_p               1656 non-null   float32 \n",
      " 43  totcredits_year1    1656 non-null   float32 \n",
      " 44  used_adv            1656 non-null   float32 \n",
      " 45  used_fsg            1656 non-null   float32 \n",
      " 46  used_ssp            1656 non-null   float32 \n",
      " 47  work1               1472 non-null   float32 \n",
      "dtypes: category(3), float32(29), float64(8), int8(6), object(2)\n",
      "memory usage: 345.4+ KB\n"
     ]
    }
   ],
   "source": [
    "data.info() # check variables, missing values and data types"
   ]
  },
  {
   "cell_type": "markdown",
   "metadata": {},
   "source": [
    "### 2.2.1 Data Management\n",
    "Angrist et al. (2009) exclude students from analysis who did not show up (no shows) and students who took less than 2 courses from the analysis. Angrist et al. (2009)'s motivation to exclude students who took less than 2 courses is that to keep students who take a light course load and very unlikely to finish on time out from the analysis. Even though the do not incorporate these students into baseline regression for intent-to-treat estimates. The authors do not make any grade restrictions in two staged IV regression which inflates the causal effects compared to baseline. \n",
    "I use the same dataset for all regressions for more robust results."
   ]
  },
  {
   "cell_type": "code",
   "execution_count": 7,
   "metadata": {},
   "outputs": [],
   "source": [
    "data = data[data['noshow']==0] #exclude no shows\n",
    "data = data.dropna(subset=['grade_20059_fall']) #exclude students who did not recieve any grade in fall\n",
    "data = data.dropna(subset=['GPA_year1']) #exclude student who did not recieve any first year gpa\n",
    "data = data[data['credits_earned1']>=2] # exclude student who earned less than 2 credits in first year"
   ]
  },
  {
   "cell_type": "code",
   "execution_count": 105,
   "metadata": {},
   "outputs": [],
   "source": [
    "ssp = data[data['ssp']== 1.0] #service treatment group\n",
    "sfp = data[data['sfp']== 1.0] #incentives treatment group\n",
    "sfsp = data[data['sfsp']== 1.0] #combined treatment group\n",
    "control = control = data[data['control'] == 1]"
   ]
  },
  {
   "cell_type": "code",
   "execution_count": null,
   "metadata": {},
   "outputs": [],
   "source": [
    "data['numcourses_nov1'] = data['numcourses_nov1'].astype(int)\n",
    "regression_data = pd.get_dummies(data=data, columns =['mtongue', 'hsgroup', 'mom_edn',\n",
    "                                   'lastmin', 'dad_edn', 'numcourses_nov1'], drop_first=True)\n",
    "regression_data = regression_data.rename(columns={\"mom_edn_graduated from high school\":\"mom_edn1\",\"mom_edn_ attended a community college but did not complete diploma\":\"mom_edn2\",\n",
    "                                                     \"mom_edn_completed a community college diploma program\": \"mom_edn3\", \"mom_edn_attended university but did not complete bachelor s degree\":\"mom_edn4\",\n",
    "                                                     \"mom_edn_completed a bachelor s degree (b.a., b.comm., etc)\":\"mom_edn5\", \"mom_edn_completed a master s degree (m.a., m.sc., etc)\":\"mom_edn6\",\n",
    "                                                     \"mom_edn_completed a doctoral degree or professional program (ph.d., \":\"mom_edn7\", \"mom_edn_don t know/not applicable\": \"mom_edn8\",\n",
    "                                                     \"dad_edn_graduated from high school\":\"dad_edn1\", \"dad_edn_ attended a community college but did not complete diploma\": \"dad_edn2\",\n",
    "                                                     \"dad_edn_completed a community college diploma program\": \"dad_edn3\", \"dad_edn_attended university but did not complete bachelor s degree\": \"dad_edn4\",\n",
    "                                                     \"dad_edn_completed a bachelor s degree (b.a., b.comm., etc)\":\"dad_edn5\",\"dad_edn_completed a master s degree (m.a., m.sc., etc)\":\"dad_edn6\",\n",
    "                                                     \"dad_edn_completed a doctoral degree or professional program (ph.d., \": \"dad_edn7\", \"dad_edn_don t know/not applicable\": \"dad_edn8\"})"
   ]
  },
  {
   "cell_type": "code",
   "execution_count": 102,
   "metadata": {},
   "outputs": [],
   "source": [
    "regression_data_female = regression_data[regression_data['sex']=='F']\n",
    "regression_data_male = regression_data[regression_data['sex']=='M']"
   ]
  },
  {
   "cell_type": "markdown",
   "metadata": {},
   "source": [
    "## 2.3 Extension | Data Descriptives\n",
    "\n",
    "Here I focus on the background of the students. I visually highlight the key descriptives of the data mentioned in Angrist et al. (2009) and report more detailed than in paper to give an easy-to-comprehend insight on the data set to the readers."
   ]
  },
  {
   "cell_type": "code",
   "execution_count": 94,
   "metadata": {},
   "outputs": [
    {
     "data": {
      "text/html": [
       "<div>\n",
       "<style scoped>\n",
       "    .dataframe tbody tr th:only-of-type {\n",
       "        vertical-align: middle;\n",
       "    }\n",
       "\n",
       "    .dataframe tbody tr th {\n",
       "        vertical-align: top;\n",
       "    }\n",
       "\n",
       "    .dataframe thead th {\n",
       "        text-align: right;\n",
       "    }\n",
       "</style>\n",
       "<table border=\"1\" class=\"dataframe\">\n",
       "  <thead>\n",
       "    <tr style=\"text-align: right;\">\n",
       "      <th></th>\n",
       "      <th>GPA_year1</th>\n",
       "      <th>GPA_year2</th>\n",
       "      <th>grade_20059_fall</th>\n",
       "      <th>credits_earned1</th>\n",
       "      <th>credits_earned2</th>\n",
       "      <th>work1</th>\n",
       "      <th>goodstanding_year1</th>\n",
       "      <th>goodstanding_year2</th>\n",
       "    </tr>\n",
       "  </thead>\n",
       "  <tbody>\n",
       "    <tr>\n",
       "      <th>count</th>\n",
       "      <td>1108.000000</td>\n",
       "      <td>1021.000000</td>\n",
       "      <td>1108.000000</td>\n",
       "      <td>1108.000000</td>\n",
       "      <td>1108.000000</td>\n",
       "      <td>1020.000000</td>\n",
       "      <td>1108.000000</td>\n",
       "      <td>1108.000000</td>\n",
       "    </tr>\n",
       "    <tr>\n",
       "      <th>mean</th>\n",
       "      <td>2.069394</td>\n",
       "      <td>2.248090</td>\n",
       "      <td>67.544838</td>\n",
       "      <td>2.835289</td>\n",
       "      <td>2.840027</td>\n",
       "      <td>0.761765</td>\n",
       "      <td>0.609206</td>\n",
       "      <td>0.778881</td>\n",
       "    </tr>\n",
       "    <tr>\n",
       "      <th>std</th>\n",
       "      <td>0.747877</td>\n",
       "      <td>0.789052</td>\n",
       "      <td>8.518441</td>\n",
       "      <td>0.633536</td>\n",
       "      <td>1.340205</td>\n",
       "      <td>0.426219</td>\n",
       "      <td>0.488148</td>\n",
       "      <td>0.415188</td>\n",
       "    </tr>\n",
       "    <tr>\n",
       "      <th>min</th>\n",
       "      <td>0.530000</td>\n",
       "      <td>0.000000</td>\n",
       "      <td>14.000000</td>\n",
       "      <td>2.000000</td>\n",
       "      <td>0.000000</td>\n",
       "      <td>0.000000</td>\n",
       "      <td>0.000000</td>\n",
       "      <td>0.000000</td>\n",
       "    </tr>\n",
       "    <tr>\n",
       "      <th>25%</th>\n",
       "      <td>1.480000</td>\n",
       "      <td>1.770000</td>\n",
       "      <td>61.500000</td>\n",
       "      <td>2.500000</td>\n",
       "      <td>2.000000</td>\n",
       "      <td>1.000000</td>\n",
       "      <td>0.000000</td>\n",
       "      <td>1.000000</td>\n",
       "    </tr>\n",
       "    <tr>\n",
       "      <th>50%</th>\n",
       "      <td>2.010000</td>\n",
       "      <td>2.300000</td>\n",
       "      <td>67.666664</td>\n",
       "      <td>3.000000</td>\n",
       "      <td>3.000000</td>\n",
       "      <td>1.000000</td>\n",
       "      <td>1.000000</td>\n",
       "      <td>1.000000</td>\n",
       "    </tr>\n",
       "    <tr>\n",
       "      <th>75%</th>\n",
       "      <td>2.610000</td>\n",
       "      <td>2.800000</td>\n",
       "      <td>73.000000</td>\n",
       "      <td>3.000000</td>\n",
       "      <td>3.500000</td>\n",
       "      <td>1.000000</td>\n",
       "      <td>1.000000</td>\n",
       "      <td>1.000000</td>\n",
       "    </tr>\n",
       "    <tr>\n",
       "      <th>max</th>\n",
       "      <td>4.000000</td>\n",
       "      <td>4.000000</td>\n",
       "      <td>94.000000</td>\n",
       "      <td>7.500000</td>\n",
       "      <td>7.500000</td>\n",
       "      <td>1.000000</td>\n",
       "      <td>1.000000</td>\n",
       "      <td>1.000000</td>\n",
       "    </tr>\n",
       "  </tbody>\n",
       "</table>\n",
       "</div>"
      ],
      "text/plain": [
       "         GPA_year1    GPA_year2  grade_20059_fall  credits_earned1  \\\n",
       "count  1108.000000  1021.000000       1108.000000      1108.000000   \n",
       "mean      2.069394     2.248090         67.544838         2.835289   \n",
       "std       0.747877     0.789052          8.518441         0.633536   \n",
       "min       0.530000     0.000000         14.000000         2.000000   \n",
       "25%       1.480000     1.770000         61.500000         2.500000   \n",
       "50%       2.010000     2.300000         67.666664         3.000000   \n",
       "75%       2.610000     2.800000         73.000000         3.000000   \n",
       "max       4.000000     4.000000         94.000000         7.500000   \n",
       "\n",
       "       credits_earned2        work1  goodstanding_year1  goodstanding_year2  \n",
       "count      1108.000000  1020.000000         1108.000000         1108.000000  \n",
       "mean          2.840027     0.761765            0.609206            0.778881  \n",
       "std           1.340205     0.426219            0.488148            0.415188  \n",
       "min           0.000000     0.000000            0.000000            0.000000  \n",
       "25%           2.000000     1.000000            0.000000            1.000000  \n",
       "50%           3.000000     1.000000            1.000000            1.000000  \n",
       "75%           3.500000     1.000000            1.000000            1.000000  \n",
       "max           7.500000     1.000000            1.000000            1.000000  "
      ]
     },
     "execution_count": 94,
     "metadata": {},
     "output_type": "execute_result"
    }
   ],
   "source": [
    "data[['GPA_year1', 'GPA_year2', 'grade_20059_fall', 'credits_earned1', 'credits_earned2', 'work1',\n",
    "      'goodstanding_year1', 'goodstanding_year2']].describe()"
   ]
  },
  {
   "cell_type": "markdown",
   "metadata": {},
   "source": [
    "In total of 548 students are dropped from the sample either because they did not registered to any courses, took less than 2 credits in one year. The remaining students seem to average around a GPA of 2.0, take a credit load of 3 courses per year. Almost half of them have a good standing(not on probation) academic performance by the end of first year which drops to 41 percent in second year. 76 percent of the students reported that they would like to work together with their studies."
   ]
  },
  {
   "cell_type": "markdown",
   "metadata": {},
   "source": [
    "**Parent Education and Migration Background** \\\n",
    "Students in STAR seem to come mostly from well-educated parents as most parents have at least a bachelor's degree. The parents show gender differences such that the second most common mother education background is high-school degree while for fathers it is a communit college diploma. Morever 30 percent of the student do not speak English as their mothertongue hindering their migration background as seen in the graph below."
   ]
  },
  {
   "cell_type": "code",
   "execution_count": 35,
   "metadata": {},
   "outputs": [
    {
     "data": {
      "text/plain": [
       "completed a bachelor s degree (b.a., b.comm., etc)              286\n",
       "completed a community college diploma program                   166\n",
       "graduated from high school                                      139\n",
       "completed a master s degree (m.a., m.sc., etc)                  136\n",
       "did not finish high school                                       88\n",
       "don t know/not applicable                                        72\n",
       "completed a doctoral degree or professional program (ph.d.,      63\n",
       "attended university but did not complete bachelor s degree       41\n",
       " attended a community college but did not complete diploma       29\n",
       "Name: dad_edn, dtype: int64"
      ]
     },
     "execution_count": 35,
     "metadata": {},
     "output_type": "execute_result"
    }
   ],
   "source": [
    "data.dad_edn.value_counts()"
   ]
  },
  {
   "cell_type": "code",
   "execution_count": 34,
   "metadata": {},
   "outputs": [
    {
     "data": {
      "text/plain": [
       "completed a bachelor s degree (b.a., b.comm., etc)              260\n",
       "graduated from high school                                      220\n",
       "completed a community college diploma program                   214\n",
       "completed a master s degree (m.a., m.sc., etc)                   85\n",
       "don t know/not applicable                                        71\n",
       "did not finish high school                                       69\n",
       "attended university but did not complete bachelor s degree       41\n",
       " attended a community college but did not complete diploma       34\n",
       "completed a doctoral degree or professional program (ph.d.,      26\n",
       "Name: mom_edn, dtype: int64"
      ]
     },
     "execution_count": 34,
     "metadata": {},
     "output_type": "execute_result"
    }
   ],
   "source": [
    "data.mom_edn.value_counts()"
   ]
  },
  {
   "cell_type": "code",
   "execution_count": 26,
   "metadata": {},
   "outputs": [
    {
     "data": {
      "text/plain": [
       "<AxesSubplot:title={'center':'Mothertongue of students'}>"
      ]
     },
     "execution_count": 26,
     "metadata": {},
     "output_type": "execute_result"
    },
    {
     "data": {
      "image/png": "[encoded data removed]",
      "text/plain": [
       "<Figure size 432x288 with 1 Axes>"
      ]
     },
     "metadata": {
      "needs_background": "light"
     },
     "output_type": "display_data"
    }
   ],
   "source": [
    "data.mtongue.value_counts(normalize=True).plot.bar(color=colors, title='Mothertongue of students')"
   ]
  },
  {
   "cell_type": "markdown",
   "metadata": {},
   "source": [
    "**Grade Quantile Distribution** \\\n",
    "Important thing to note here again is that the highest achieving highschool students are not offered a treatment, neither included in the control group. Majority of the students in the STAR sample are in the upper middle quantile of high school graduation grades."
   ]
  },
  {
   "cell_type": "code",
   "execution_count": 36,
   "metadata": {},
   "outputs": [
    {
     "data": {
      "text/plain": [
       "<AxesSubplot:title={'center':'Students by high school GPA'}>"
      ]
     },
     "execution_count": 36,
     "metadata": {},
     "output_type": "execute_result"
    },
    {
     "data": {
      "image/png": "[encoded data removed]",
      "text/plain": [
       "<Figure size 432x288 with 1 Axes>"
      ]
     },
     "metadata": {
      "needs_background": "light"
     },
     "output_type": "display_data"
    }
   ],
   "source": [
    "data.hsgroup.value_counts(\n",
    "    normalize=True).plot.bar(color=colors, \n",
    "                             title='Students by high school GPA quartiles')"
   ]
  },
  {
   "cell_type": "markdown",
   "metadata": {},
   "source": [
    "**Study Habits** \\\n",
    "Most student in the sample reports to leave studying for exams to last minute. This hints that many students in the demonstration project do not have good study habits"
   ]
  },
  {
   "cell_type": "code",
   "execution_count": 12,
   "metadata": {},
   "outputs": [
    {
     "data": {
      "text/plain": [
       "<AxesSubplot:title={'center':'Leaves studing to last minute'}>"
      ]
     },
     "execution_count": 12,
     "metadata": {},
     "output_type": "execute_result"
    },
    {
     "data": {
      "image/png": "[encoded data removed]",
      "text/plain": [
       "<Figure size 432x288 with 1 Axes>"
      ]
     },
     "metadata": {
      "needs_background": "light"
     },
     "output_type": "display_data"
    }
   ],
   "source": [
    "data.lastmin.value_counts(normalize=True).plot.bar(color=colors, title = 'Leaves studing to last minute' )"
   ]
  },
  {
   "cell_type": "markdown",
   "metadata": {},
   "source": [
    "---\n",
    "# 3. Identification and Empirical Strategy\n",
    "---\n",
    "The main goal of the Angrist et al. (2009) is to determine the causal effect of incentives and services on academic performance.\n",
    "In STAR Demonstration project they face the incomplete random assignment challenge to estiamte the true causal effect of the program. The randomised offer do not force students into participate. Students needs to sign-up in order to recieve emails from the program and to be a participant. Sign-up procedure used to determine who is actually motivated to use the program by paying a small cost. However, sign up creates selection bias.  \n",
    "Only people who received an offer can participate in one of the programs and participation is expected to improve academic performance.\n",
    "The first stage is the effect of offer on sign-up rates. Which is by offer how likely you are to sign up This is given by the compliance rate. \n",
    "Second stage is effect of participation on academic performance\n",
    "Reduced form effect can be written as (ITT: effect of offer on academic performance) = effect of offer on sign-up rates x effect of participation on academic performance\n",
    "What we want to find out the effect of participation on academic performance. To do so with the causal specification below, it is possible to use the offer as an instrument as used in Angrist et al. (2009)\n",
    "\n",
    "\n",
    "<img src=\"files/causalgraph.png\" width=500 />\n",
    "\n",
    "**Key Assumptions:**\n",
    "Substantial first stage: The offer should really change the sign up, as only students who recieves an offer can sign up, it is safe to say that this assumption holds\n",
    "\n",
    "Independence assumption: The instrument has to be as good as randomly assigned. The offer is given to students b random assignment. The authors still run checks for balance on treatment groups with control variables in table 1. Controlling for no group of students are suspiciously more likely to selected for treatment. \n",
    "\n",
    "Exclusion restriction:  We require the instrument changing outcome solely through the variable of interest. The authors check this by running an additional over-identified iv regression.??\n",
    "\n",
    "If these assumptions hold the causal effect of participation can be identified by IV.\n",
    "\n",
    "**Evaluation Framework of Angrist et al. (2009)**\\\n",
    "ITT: no correction for sign up and dilluted by non compliance\n",
    "IV: the offer of services for program sign-up (to estimate the effect of treatment on those who signed up who are not random)\n",
    "$P_i = 1$ represents people who gave concent(signed up) to recieve emails \\\n",
    "$Z_i$ is the random variable representing random assignment offer of treatment\n",
    "\n",
    "\\begin{equation}\n",
    "E[Y_{1i} - Y_{0i} |P_i=1] = (E[Y_i|Z_i = 1] - E[Y_i|Z_i = 0]) / Pr[P_i = 1|Z_i = 1]\n",
    "\\end{equation}\n",
    "\n",
    "- $E[Y_{1i} - Y_{0i} |P_i=1]$ is the true casual effect of participation on one of the treatment programs.\n",
    "\n",
    "- $E[Y_i|Z_i = 1] - E[Y_i|Z_i = 0]$ is the intend-to-treat estimate given by the service offer\n",
    "\n",
    "- $Pr[P_i = 1|Z_i = 1]$ is the compliance rate"
   ]
  },
  {
   "cell_type": "markdown",
   "metadata": {},
   "source": [
    "---\n",
    "# 4. Replication of Angrist et al. (2009)\n",
    "---"
   ]
  },
  {
   "cell_type": "markdown",
   "metadata": {},
   "source": [
    "The authors runs checks to establish all three assumptions for IV causal effect identification. For the \n",
    "Main results of the paper are reduced form ITT(intent-to-treat) estimates."
   ]
  },
  {
   "cell_type": "markdown",
   "metadata": {},
   "source": [
    "### Replication of Table 5 in Angrist et al. (2009)\n",
    "For table 5 of Angrist et al. (2009) the authors run a series of regression on GPA and first semester grades of all students and then of female and male students separetely. Table 5 does not report on control variables even though in the regression code they run the control variables are also included. However, non of them are statistically significant themselves and they are neither jointly significant. The estimates for the treatment change only incrementally without controls. That's why I chose to exclude them in the regressions I report here. My explaination on regression results can be found under each regression table."
   ]
  },
  {
   "cell_type": "markdown",
   "metadata": {},
   "source": [
    "#### Regressions on Fall Semester Grades(scaled to 0-100)"
   ]
  },
  {
   "cell_type": "code",
   "execution_count": 25,
   "metadata": {},
   "outputs": [
    {
     "data": {
      "text/html": [
       "<table class=\"simpletable\">\n",
       "<caption>OLS Regression Results</caption>\n",
       "<tr>\n",
       "  <th>Dep. Variable:</th>    <td>grade_20059_fall</td> <th>  R-squared:         </th> <td>   0.005</td> \n",
       "</tr>\n",
       "<tr>\n",
       "  <th>Model:</th>                   <td>OLS</td>       <th>  Adj. R-squared:    </th> <td>   0.003</td> \n",
       "</tr>\n",
       "<tr>\n",
       "  <th>Method:</th>             <td>Least Squares</td>  <th>  F-statistic:       </th> <td>   2.523</td> \n",
       "</tr>\n",
       "<tr>\n",
       "  <th>Date:</th>             <td>Fri, 23 Jul 2021</td> <th>  Prob (F-statistic):</th>  <td>0.0563</td>  \n",
       "</tr>\n",
       "<tr>\n",
       "  <th>Time:</th>                 <td>00:04:45</td>     <th>  Log-Likelihood:    </th> <td> -5445.0</td> \n",
       "</tr>\n",
       "<tr>\n",
       "  <th>No. Observations:</th>      <td>  1398</td>      <th>  AIC:               </th> <td>1.090e+04</td>\n",
       "</tr>\n",
       "<tr>\n",
       "  <th>Df Residuals:</th>          <td>  1394</td>      <th>  BIC:               </th> <td>1.092e+04</td>\n",
       "</tr>\n",
       "<tr>\n",
       "  <th>Df Model:</th>              <td>     3</td>      <th>                     </th>     <td> </td>    \n",
       "</tr>\n",
       "<tr>\n",
       "  <th>Covariance Type:</th>      <td>nonrobust</td>    <th>                     </th>     <td> </td>    \n",
       "</tr>\n",
       "</table>\n",
       "<table class=\"simpletable\">\n",
       "<tr>\n",
       "      <td></td>         <th>coef</th>     <th>std err</th>      <th>t</th>      <th>P>|t|</th>  <th>[0.025</th>    <th>0.975]</th>  \n",
       "</tr>\n",
       "<tr>\n",
       "  <th>Intercept</th> <td>   63.8430</td> <td>    0.408</td> <td>  156.289</td> <td> 0.000</td> <td>   63.042</td> <td>   64.644</td>\n",
       "</tr>\n",
       "<tr>\n",
       "  <th>ssp</th>       <td>    0.2533</td> <td>    0.916</td> <td>    0.277</td> <td> 0.782</td> <td>   -1.544</td> <td>    2.050</td>\n",
       "</tr>\n",
       "<tr>\n",
       "  <th>sfp</th>       <td>    1.9876</td> <td>    0.903</td> <td>    2.202</td> <td> 0.028</td> <td>    0.217</td> <td>    3.758</td>\n",
       "</tr>\n",
       "<tr>\n",
       "  <th>sfsp</th>      <td>    2.2608</td> <td>    1.170</td> <td>    1.932</td> <td> 0.054</td> <td>   -0.034</td> <td>    4.556</td>\n",
       "</tr>\n",
       "</table>\n",
       "<table class=\"simpletable\">\n",
       "<tr>\n",
       "  <th>Omnibus:</th>       <td>423.567</td> <th>  Durbin-Watson:     </th> <td>   2.019</td>\n",
       "</tr>\n",
       "<tr>\n",
       "  <th>Prob(Omnibus):</th> <td> 0.000</td>  <th>  Jarque-Bera (JB):  </th> <td>1653.958</td>\n",
       "</tr>\n",
       "<tr>\n",
       "  <th>Skew:</th>          <td>-1.420</td>  <th>  Prob(JB):          </th> <td>    0.00</td>\n",
       "</tr>\n",
       "<tr>\n",
       "  <th>Kurtosis:</th>      <td> 7.509</td>  <th>  Cond. No.          </th> <td>    4.00</td>\n",
       "</tr>\n",
       "</table><br/><br/>Notes:<br/>[1] Standard Errors assume that the covariance matrix of the errors is correctly specified."
      ],
      "text/plain": [
       "<class 'statsmodels.iolib.summary.Summary'>\n",
       "\"\"\"\n",
       "                            OLS Regression Results                            \n",
       "==============================================================================\n",
       "Dep. Variable:       grade_20059_fall   R-squared:                       0.005\n",
       "Model:                            OLS   Adj. R-squared:                  0.003\n",
       "Method:                 Least Squares   F-statistic:                     2.523\n",
       "Date:                Fri, 23 Jul 2021   Prob (F-statistic):             0.0563\n",
       "Time:                        00:04:45   Log-Likelihood:                -5445.0\n",
       "No. Observations:                1398   AIC:                         1.090e+04\n",
       "Df Residuals:                    1394   BIC:                         1.092e+04\n",
       "Df Model:                           3                                         \n",
       "Covariance Type:            nonrobust                                         \n",
       "==============================================================================\n",
       "                 coef    std err          t      P>|t|      [0.025      0.975]\n",
       "------------------------------------------------------------------------------\n",
       "Intercept     63.8430      0.408    156.289      0.000      63.042      64.644\n",
       "ssp            0.2533      0.916      0.277      0.782      -1.544       2.050\n",
       "sfp            1.9876      0.903      2.202      0.028       0.217       3.758\n",
       "sfsp           2.2608      1.170      1.932      0.054      -0.034       4.556\n",
       "==============================================================================\n",
       "Omnibus:                      423.567   Durbin-Watson:                   2.019\n",
       "Prob(Omnibus):                  0.000   Jarque-Bera (JB):             1653.958\n",
       "Skew:                          -1.420   Prob(JB):                         0.00\n",
       "Kurtosis:                       7.509   Cond. No.                         4.00\n",
       "==============================================================================\n",
       "\n",
       "Notes:\n",
       "[1] Standard Errors assume that the covariance matrix of the errors is correctly specified.\n",
       "\"\"\""
      ]
     },
     "execution_count": 25,
     "metadata": {},
     "output_type": "execute_result"
    }
   ],
   "source": [
    "rslt_all = smf.ols(formula=\"grade_20059_fall ~ ssp + sfp + sfsp\", data=data).fit()\n",
    "rslt_all.summary()"
   ]
  },
  {
   "cell_type": "markdown",
   "metadata": {},
   "source": [
    "Both SFP(financial incentives) and SFSP(combined treatment) have significant effects at 1 percent level and of about a 1 percent increase on all students fall grades, SSP on the other hand have a very small insignificant effect."
   ]
  },
  {
   "cell_type": "code",
   "execution_count": 33,
   "metadata": {},
   "outputs": [
    {
     "data": {
      "text/html": [
       "<table class=\"simpletable\">\n",
       "<caption>OLS Regression Results</caption>\n",
       "<tr>\n",
       "  <th>Dep. Variable:</th>    <td>grade_20059_fall</td> <th>  R-squared:         </th> <td>   0.019</td>\n",
       "</tr>\n",
       "<tr>\n",
       "  <th>Model:</th>                   <td>OLS</td>       <th>  Adj. R-squared:    </th> <td>   0.015</td>\n",
       "</tr>\n",
       "<tr>\n",
       "  <th>Method:</th>             <td>Least Squares</td>  <th>  F-statistic:       </th> <td>   4.179</td>\n",
       "</tr>\n",
       "<tr>\n",
       "  <th>Date:</th>             <td>Fri, 23 Jul 2021</td> <th>  Prob (F-statistic):</th>  <td>0.00606</td>\n",
       "</tr>\n",
       "<tr>\n",
       "  <th>Time:</th>                 <td>14:06:39</td>     <th>  Log-Likelihood:    </th> <td> -2292.1</td>\n",
       "</tr>\n",
       "<tr>\n",
       "  <th>No. Observations:</th>      <td>   641</td>      <th>  AIC:               </th> <td>   4592.</td>\n",
       "</tr>\n",
       "<tr>\n",
       "  <th>Df Residuals:</th>          <td>   637</td>      <th>  BIC:               </th> <td>   4610.</td>\n",
       "</tr>\n",
       "<tr>\n",
       "  <th>Df Model:</th>              <td>     3</td>      <th>                     </th>     <td> </td>   \n",
       "</tr>\n",
       "<tr>\n",
       "  <th>Covariance Type:</th>      <td>nonrobust</td>    <th>                     </th>     <td> </td>   \n",
       "</tr>\n",
       "</table>\n",
       "<table class=\"simpletable\">\n",
       "<tr>\n",
       "      <td></td>         <th>coef</th>     <th>std err</th>      <th>t</th>      <th>P>|t|</th>  <th>[0.025</th>    <th>0.975]</th>  \n",
       "</tr>\n",
       "<tr>\n",
       "  <th>Intercept</th> <td>   66.0146</td> <td>    0.446</td> <td>  148.009</td> <td> 0.000</td> <td>   65.139</td> <td>   66.890</td>\n",
       "</tr>\n",
       "<tr>\n",
       "  <th>ssp</th>       <td>    0.4966</td> <td>    0.987</td> <td>    0.503</td> <td> 0.615</td> <td>   -1.442</td> <td>    2.435</td>\n",
       "</tr>\n",
       "<tr>\n",
       "  <th>sfp</th>       <td>    3.0135</td> <td>    0.950</td> <td>    3.174</td> <td> 0.002</td> <td>    1.149</td> <td>    4.878</td>\n",
       "</tr>\n",
       "<tr>\n",
       "  <th>sfsp</th>      <td>    2.4854</td> <td>    1.214</td> <td>    2.048</td> <td> 0.041</td> <td>    0.102</td> <td>    4.869</td>\n",
       "</tr>\n",
       "</table>\n",
       "<table class=\"simpletable\">\n",
       "<tr>\n",
       "  <th>Omnibus:</th>       <td> 2.251</td> <th>  Durbin-Watson:     </th> <td>   2.034</td>\n",
       "</tr>\n",
       "<tr>\n",
       "  <th>Prob(Omnibus):</th> <td> 0.325</td> <th>  Jarque-Bera (JB):  </th> <td>   2.064</td>\n",
       "</tr>\n",
       "<tr>\n",
       "  <th>Skew:</th>          <td>-0.124</td> <th>  Prob(JB):          </th> <td>   0.356</td>\n",
       "</tr>\n",
       "<tr>\n",
       "  <th>Kurtosis:</th>      <td> 3.127</td> <th>  Cond. No.          </th> <td>    3.93</td>\n",
       "</tr>\n",
       "</table><br/><br/>Notes:<br/>[1] Standard Errors assume that the covariance matrix of the errors is correctly specified."
      ],
      "text/plain": [
       "<class 'statsmodels.iolib.summary.Summary'>\n",
       "\"\"\"\n",
       "                            OLS Regression Results                            \n",
       "==============================================================================\n",
       "Dep. Variable:       grade_20059_fall   R-squared:                       0.019\n",
       "Model:                            OLS   Adj. R-squared:                  0.015\n",
       "Method:                 Least Squares   F-statistic:                     4.179\n",
       "Date:                Fri, 23 Jul 2021   Prob (F-statistic):            0.00606\n",
       "Time:                        14:06:39   Log-Likelihood:                -2292.1\n",
       "No. Observations:                 641   AIC:                             4592.\n",
       "Df Residuals:                     637   BIC:                             4610.\n",
       "Df Model:                           3                                         \n",
       "Covariance Type:            nonrobust                                         \n",
       "==============================================================================\n",
       "                 coef    std err          t      P>|t|      [0.025      0.975]\n",
       "------------------------------------------------------------------------------\n",
       "Intercept     66.0146      0.446    148.009      0.000      65.139      66.890\n",
       "ssp            0.4966      0.987      0.503      0.615      -1.442       2.435\n",
       "sfp            3.0135      0.950      3.174      0.002       1.149       4.878\n",
       "sfsp           2.4854      1.214      2.048      0.041       0.102       4.869\n",
       "==============================================================================\n",
       "Omnibus:                        2.251   Durbin-Watson:                   2.034\n",
       "Prob(Omnibus):                  0.325   Jarque-Bera (JB):                2.064\n",
       "Skew:                          -0.124   Prob(JB):                        0.356\n",
       "Kurtosis:                       3.127   Cond. No.                         3.93\n",
       "==============================================================================\n",
       "\n",
       "Notes:\n",
       "[1] Standard Errors assume that the covariance matrix of the errors is correctly specified.\n",
       "\"\"\""
      ]
     },
     "execution_count": 33,
     "metadata": {},
     "output_type": "execute_result"
    }
   ],
   "source": [
    "data_female = data[data['sex']== 'F']\n",
    "result_female = smf.ols(formula=\"grade_20059_fall ~ ssp + sfp + sfsp\", data = data_female).fit()\n",
    "result_female.summary()"
   ]
  },
  {
   "cell_type": "code",
   "execution_count": 31,
   "metadata": {},
   "outputs": [
    {
     "data": {
      "text/html": [
       "<table class=\"simpletable\">\n",
       "<caption>OLS Regression Results</caption>\n",
       "<tr>\n",
       "  <th>Dep. Variable:</th>    <td>grade_20059_fall</td> <th>  R-squared:         </th> <td>   0.001</td>\n",
       "</tr>\n",
       "<tr>\n",
       "  <th>Model:</th>                   <td>OLS</td>       <th>  Adj. R-squared:    </th> <td>  -0.004</td>\n",
       "</tr>\n",
       "<tr>\n",
       "  <th>Method:</th>             <td>Least Squares</td>  <th>  F-statistic:       </th> <td>  0.1698</td>\n",
       "</tr>\n",
       "<tr>\n",
       "  <th>Date:</th>             <td>Fri, 23 Jul 2021</td> <th>  Prob (F-statistic):</th>  <td> 0.917</td> \n",
       "</tr>\n",
       "<tr>\n",
       "  <th>Time:</th>                 <td>00:15:46</td>     <th>  Log-Likelihood:    </th> <td> -2346.8</td>\n",
       "</tr>\n",
       "<tr>\n",
       "  <th>No. Observations:</th>      <td>   602</td>      <th>  AIC:               </th> <td>   4702.</td>\n",
       "</tr>\n",
       "<tr>\n",
       "  <th>Df Residuals:</th>          <td>   598</td>      <th>  BIC:               </th> <td>   4719.</td>\n",
       "</tr>\n",
       "<tr>\n",
       "  <th>Df Model:</th>              <td>     3</td>      <th>                     </th>     <td> </td>   \n",
       "</tr>\n",
       "<tr>\n",
       "  <th>Covariance Type:</th>      <td>nonrobust</td>    <th>                     </th>     <td> </td>   \n",
       "</tr>\n",
       "</table>\n",
       "<table class=\"simpletable\">\n",
       "<tr>\n",
       "      <td></td>         <th>coef</th>     <th>std err</th>      <th>t</th>      <th>P>|t|</th>  <th>[0.025</th>    <th>0.975]</th>  \n",
       "</tr>\n",
       "<tr>\n",
       "  <th>Intercept</th> <td>   65.1736</td> <td>    0.622</td> <td>  104.830</td> <td> 0.000</td> <td>   63.953</td> <td>   66.395</td>\n",
       "</tr>\n",
       "<tr>\n",
       "  <th>ssp</th>       <td>   -0.4306</td> <td>    1.377</td> <td>   -0.313</td> <td> 0.755</td> <td>   -3.135</td> <td>    2.274</td>\n",
       "</tr>\n",
       "<tr>\n",
       "  <th>sfp</th>       <td>    0.7921</td> <td>    1.440</td> <td>    0.550</td> <td> 0.582</td> <td>   -2.036</td> <td>    3.620</td>\n",
       "</tr>\n",
       "<tr>\n",
       "  <th>sfsp</th>      <td>   -0.2210</td> <td>    1.788</td> <td>   -0.124</td> <td> 0.902</td> <td>   -3.733</td> <td>    3.291</td>\n",
       "</tr>\n",
       "</table>\n",
       "<table class=\"simpletable\">\n",
       "<tr>\n",
       "  <th>Omnibus:</th>       <td>201.151</td> <th>  Durbin-Watson:     </th> <td>   2.028</td> \n",
       "</tr>\n",
       "<tr>\n",
       "  <th>Prob(Omnibus):</th> <td> 0.000</td>  <th>  Jarque-Bera (JB):  </th> <td> 731.479</td> \n",
       "</tr>\n",
       "<tr>\n",
       "  <th>Skew:</th>          <td>-1.535</td>  <th>  Prob(JB):          </th> <td>1.45e-159</td>\n",
       "</tr>\n",
       "<tr>\n",
       "  <th>Kurtosis:</th>      <td> 7.443</td>  <th>  Cond. No.          </th> <td>    3.99</td> \n",
       "</tr>\n",
       "</table><br/><br/>Notes:<br/>[1] Standard Errors assume that the covariance matrix of the errors is correctly specified."
      ],
      "text/plain": [
       "<class 'statsmodels.iolib.summary.Summary'>\n",
       "\"\"\"\n",
       "                            OLS Regression Results                            \n",
       "==============================================================================\n",
       "Dep. Variable:       grade_20059_fall   R-squared:                       0.001\n",
       "Model:                            OLS   Adj. R-squared:                 -0.004\n",
       "Method:                 Least Squares   F-statistic:                    0.1698\n",
       "Date:                Fri, 23 Jul 2021   Prob (F-statistic):              0.917\n",
       "Time:                        00:15:46   Log-Likelihood:                -2346.8\n",
       "No. Observations:                 602   AIC:                             4702.\n",
       "Df Residuals:                     598   BIC:                             4719.\n",
       "Df Model:                           3                                         \n",
       "Covariance Type:            nonrobust                                         \n",
       "==============================================================================\n",
       "                 coef    std err          t      P>|t|      [0.025      0.975]\n",
       "------------------------------------------------------------------------------\n",
       "Intercept     65.1736      0.622    104.830      0.000      63.953      66.395\n",
       "ssp           -0.4306      1.377     -0.313      0.755      -3.135       2.274\n",
       "sfp            0.7921      1.440      0.550      0.582      -2.036       3.620\n",
       "sfsp          -0.2210      1.788     -0.124      0.902      -3.733       3.291\n",
       "==============================================================================\n",
       "Omnibus:                      201.151   Durbin-Watson:                   2.028\n",
       "Prob(Omnibus):                  0.000   Jarque-Bera (JB):              731.479\n",
       "Skew:                          -1.535   Prob(JB):                    1.45e-159\n",
       "Kurtosis:                       7.443   Cond. No.                         3.99\n",
       "==============================================================================\n",
       "\n",
       "Notes:\n",
       "[1] Standard Errors assume that the covariance matrix of the errors is correctly specified.\n",
       "\"\"\""
      ]
     },
     "execution_count": 31,
     "metadata": {},
     "output_type": "execute_result"
    }
   ],
   "source": [
    "data_male = data [data['sex'] == 'M']\n",
    "result_male = smf.ols(formula=\"grade_20059_fall ~ ssp + sfp + sfsp\", data=data_male).fit()\n",
    "result_male.summary()"
   ]
  },
  {
   "cell_type": "markdown",
   "metadata": {},
   "source": [
    "When the regression is run on females and males separetely, it becomes clear that the effect on all students are driven by female students. SFP increases the fall grades by 3 percent while SFSP increases the fall grades by 2.5 percent and both are statisticall significant for female students. The treatment effects on male students on the other hand are statistically insignificant at 10 percent level."
   ]
  },
  {
   "cell_type": "markdown",
   "metadata": {},
   "source": [
    "#### Regressions on First Year GPA\n",
    "All results on first year gpa are insignificant when run on all students as well as on females. SFP estimate on male regression shows a small negative statistically significant efffect on first ear GPA."
   ]
  },
  {
   "cell_type": "code",
   "execution_count": 82,
   "metadata": {},
   "outputs": [
    {
     "data": {
      "text/html": [
       "<table class=\"simpletable\">\n",
       "<caption>OLS Regression Results</caption>\n",
       "<tr>\n",
       "  <th>Dep. Variable:</th>        <td>GPA_year1</td>    <th>  R-squared:         </th> <td>   0.002</td>\n",
       "</tr>\n",
       "<tr>\n",
       "  <th>Model:</th>                   <td>OLS</td>       <th>  Adj. R-squared:    </th> <td>  -0.001</td>\n",
       "</tr>\n",
       "<tr>\n",
       "  <th>Method:</th>             <td>Least Squares</td>  <th>  F-statistic:       </th> <td>  0.6938</td>\n",
       "</tr>\n",
       "<tr>\n",
       "  <th>Date:</th>             <td>Fri, 23 Jul 2021</td> <th>  Prob (F-statistic):</th>  <td> 0.556</td> \n",
       "</tr>\n",
       "<tr>\n",
       "  <th>Time:</th>                 <td>16:03:30</td>     <th>  Log-Likelihood:    </th> <td> -1248.7</td>\n",
       "</tr>\n",
       "<tr>\n",
       "  <th>No. Observations:</th>      <td>  1108</td>      <th>  AIC:               </th> <td>   2505.</td>\n",
       "</tr>\n",
       "<tr>\n",
       "  <th>Df Residuals:</th>          <td>  1104</td>      <th>  BIC:               </th> <td>   2526.</td>\n",
       "</tr>\n",
       "<tr>\n",
       "  <th>Df Model:</th>              <td>     3</td>      <th>                     </th>     <td> </td>   \n",
       "</tr>\n",
       "<tr>\n",
       "  <th>Covariance Type:</th>      <td>nonrobust</td>    <th>                     </th>     <td> </td>   \n",
       "</tr>\n",
       "</table>\n",
       "<table class=\"simpletable\">\n",
       "<tr>\n",
       "      <td></td>         <th>coef</th>     <th>std err</th>      <th>t</th>      <th>P>|t|</th>  <th>[0.025</th>    <th>0.975]</th>  \n",
       "</tr>\n",
       "<tr>\n",
       "  <th>Intercept</th> <td>    2.0585</td> <td>    0.029</td> <td>   70.949</td> <td> 0.000</td> <td>    2.002</td> <td>    2.115</td>\n",
       "</tr>\n",
       "<tr>\n",
       "  <th>ssp</th>       <td>    0.0414</td> <td>    0.064</td> <td>    0.648</td> <td> 0.517</td> <td>   -0.084</td> <td>    0.167</td>\n",
       "</tr>\n",
       "<tr>\n",
       "  <th>sfp</th>       <td>   -0.0248</td> <td>    0.064</td> <td>   -0.389</td> <td> 0.697</td> <td>   -0.150</td> <td>    0.100</td>\n",
       "</tr>\n",
       "<tr>\n",
       "  <th>sfsp</th>      <td>    0.0965</td> <td>    0.082</td> <td>    1.182</td> <td> 0.238</td> <td>   -0.064</td> <td>    0.257</td>\n",
       "</tr>\n",
       "</table>\n",
       "<table class=\"simpletable\">\n",
       "<tr>\n",
       "  <th>Omnibus:</th>       <td>62.183</td> <th>  Durbin-Watson:     </th> <td>   2.048</td>\n",
       "</tr>\n",
       "<tr>\n",
       "  <th>Prob(Omnibus):</th> <td> 0.000</td> <th>  Jarque-Bera (JB):  </th> <td>  34.697</td>\n",
       "</tr>\n",
       "<tr>\n",
       "  <th>Skew:</th>          <td> 0.276</td> <th>  Prob(JB):          </th> <td>2.92e-08</td>\n",
       "</tr>\n",
       "<tr>\n",
       "  <th>Kurtosis:</th>      <td> 2.331</td> <th>  Cond. No.          </th> <td>    3.98</td>\n",
       "</tr>\n",
       "</table><br/><br/>Notes:<br/>[1] Standard Errors assume that the covariance matrix of the errors is correctly specified."
      ],
      "text/plain": [
       "<class 'statsmodels.iolib.summary.Summary'>\n",
       "\"\"\"\n",
       "                            OLS Regression Results                            \n",
       "==============================================================================\n",
       "Dep. Variable:              GPA_year1   R-squared:                       0.002\n",
       "Model:                            OLS   Adj. R-squared:                 -0.001\n",
       "Method:                 Least Squares   F-statistic:                    0.6938\n",
       "Date:                Fri, 23 Jul 2021   Prob (F-statistic):              0.556\n",
       "Time:                        16:03:30   Log-Likelihood:                -1248.7\n",
       "No. Observations:                1108   AIC:                             2505.\n",
       "Df Residuals:                    1104   BIC:                             2526.\n",
       "Df Model:                           3                                         \n",
       "Covariance Type:            nonrobust                                         \n",
       "==============================================================================\n",
       "                 coef    std err          t      P>|t|      [0.025      0.975]\n",
       "------------------------------------------------------------------------------\n",
       "Intercept      2.0585      0.029     70.949      0.000       2.002       2.115\n",
       "ssp            0.0414      0.064      0.648      0.517      -0.084       0.167\n",
       "sfp           -0.0248      0.064     -0.389      0.697      -0.150       0.100\n",
       "sfsp           0.0965      0.082      1.182      0.238      -0.064       0.257\n",
       "==============================================================================\n",
       "Omnibus:                       62.183   Durbin-Watson:                   2.048\n",
       "Prob(Omnibus):                  0.000   Jarque-Bera (JB):               34.697\n",
       "Skew:                           0.276   Prob(JB):                     2.92e-08\n",
       "Kurtosis:                       2.331   Cond. No.                         3.98\n",
       "==============================================================================\n",
       "\n",
       "Notes:\n",
       "[1] Standard Errors assume that the covariance matrix of the errors is correctly specified.\n",
       "\"\"\""
      ]
     },
     "execution_count": 82,
     "metadata": {},
     "output_type": "execute_result"
    }
   ],
   "source": [
    "rslt_all_gpa_year1 = smf.ols(formula= \"GPA_year1 ~ ssp + sfp + sfsp \", data=data).fit()\n",
    "rslt_all_gpa_year1.summary()"
   ]
  },
  {
   "cell_type": "code",
   "execution_count": 58,
   "metadata": {},
   "outputs": [
    {
     "data": {
      "text/html": [
       "<table class=\"simpletable\">\n",
       "<caption>OLS Regression Results</caption>\n",
       "<tr>\n",
       "  <th>Dep. Variable:</th>        <td>GPA_year1</td>    <th>  R-squared:         </th> <td>   0.005</td>\n",
       "</tr>\n",
       "<tr>\n",
       "  <th>Model:</th>                   <td>OLS</td>       <th>  Adj. R-squared:    </th> <td>   0.001</td>\n",
       "</tr>\n",
       "<tr>\n",
       "  <th>Method:</th>             <td>Least Squares</td>  <th>  F-statistic:       </th> <td>   1.110</td>\n",
       "</tr>\n",
       "<tr>\n",
       "  <th>Date:</th>             <td>Fri, 23 Jul 2021</td> <th>  Prob (F-statistic):</th>  <td> 0.344</td> \n",
       "</tr>\n",
       "<tr>\n",
       "  <th>Time:</th>                 <td>15:32:38</td>     <th>  Log-Likelihood:    </th> <td> -717.06</td>\n",
       "</tr>\n",
       "<tr>\n",
       "  <th>No. Observations:</th>      <td>   641</td>      <th>  AIC:               </th> <td>   1442.</td>\n",
       "</tr>\n",
       "<tr>\n",
       "  <th>Df Residuals:</th>          <td>   637</td>      <th>  BIC:               </th> <td>   1460.</td>\n",
       "</tr>\n",
       "<tr>\n",
       "  <th>Df Model:</th>              <td>     3</td>      <th>                     </th>     <td> </td>   \n",
       "</tr>\n",
       "<tr>\n",
       "  <th>Covariance Type:</th>      <td>nonrobust</td>    <th>                     </th>     <td> </td>   \n",
       "</tr>\n",
       "</table>\n",
       "<table class=\"simpletable\">\n",
       "<tr>\n",
       "      <td></td>         <th>coef</th>     <th>std err</th>      <th>t</th>      <th>P>|t|</th>  <th>[0.025</th>    <th>0.975]</th>  \n",
       "</tr>\n",
       "<tr>\n",
       "  <th>Intercept</th> <td>    1.9898</td> <td>    0.038</td> <td>   52.073</td> <td> 0.000</td> <td>    1.915</td> <td>    2.065</td>\n",
       "</tr>\n",
       "<tr>\n",
       "  <th>ssp</th>       <td>    0.0833</td> <td>    0.085</td> <td>    0.985</td> <td> 0.325</td> <td>   -0.083</td> <td>    0.249</td>\n",
       "</tr>\n",
       "<tr>\n",
       "  <th>sfp</th>       <td>    0.1235</td> <td>    0.081</td> <td>    1.518</td> <td> 0.129</td> <td>   -0.036</td> <td>    0.283</td>\n",
       "</tr>\n",
       "<tr>\n",
       "  <th>sfsp</th>      <td>    0.1129</td> <td>    0.104</td> <td>    1.085</td> <td> 0.278</td> <td>   -0.091</td> <td>    0.317</td>\n",
       "</tr>\n",
       "</table>\n",
       "<table class=\"simpletable\">\n",
       "<tr>\n",
       "  <th>Omnibus:</th>       <td>30.618</td> <th>  Durbin-Watson:     </th> <td>   1.897</td>\n",
       "</tr>\n",
       "<tr>\n",
       "  <th>Prob(Omnibus):</th> <td> 0.000</td> <th>  Jarque-Bera (JB):  </th> <td>  23.191</td>\n",
       "</tr>\n",
       "<tr>\n",
       "  <th>Skew:</th>          <td> 0.368</td> <th>  Prob(JB):          </th> <td>9.21e-06</td>\n",
       "</tr>\n",
       "<tr>\n",
       "  <th>Kurtosis:</th>      <td> 2.429</td> <th>  Cond. No.          </th> <td>    3.93</td>\n",
       "</tr>\n",
       "</table><br/><br/>Notes:<br/>[1] Standard Errors assume that the covariance matrix of the errors is correctly specified."
      ],
      "text/plain": [
       "<class 'statsmodels.iolib.summary.Summary'>\n",
       "\"\"\"\n",
       "                            OLS Regression Results                            \n",
       "==============================================================================\n",
       "Dep. Variable:              GPA_year1   R-squared:                       0.005\n",
       "Model:                            OLS   Adj. R-squared:                  0.001\n",
       "Method:                 Least Squares   F-statistic:                     1.110\n",
       "Date:                Fri, 23 Jul 2021   Prob (F-statistic):              0.344\n",
       "Time:                        15:32:38   Log-Likelihood:                -717.06\n",
       "No. Observations:                 641   AIC:                             1442.\n",
       "Df Residuals:                     637   BIC:                             1460.\n",
       "Df Model:                           3                                         \n",
       "Covariance Type:            nonrobust                                         \n",
       "==============================================================================\n",
       "                 coef    std err          t      P>|t|      [0.025      0.975]\n",
       "------------------------------------------------------------------------------\n",
       "Intercept      1.9898      0.038     52.073      0.000       1.915       2.065\n",
       "ssp            0.0833      0.085      0.985      0.325      -0.083       0.249\n",
       "sfp            0.1235      0.081      1.518      0.129      -0.036       0.283\n",
       "sfsp           0.1129      0.104      1.085      0.278      -0.091       0.317\n",
       "==============================================================================\n",
       "Omnibus:                       30.618   Durbin-Watson:                   1.897\n",
       "Prob(Omnibus):                  0.000   Jarque-Bera (JB):               23.191\n",
       "Skew:                           0.368   Prob(JB):                     9.21e-06\n",
       "Kurtosis:                       2.429   Cond. No.                         3.93\n",
       "==============================================================================\n",
       "\n",
       "Notes:\n",
       "[1] Standard Errors assume that the covariance matrix of the errors is correctly specified.\n",
       "\"\"\""
      ]
     },
     "execution_count": 58,
     "metadata": {},
     "output_type": "execute_result"
    }
   ],
   "source": [
    "rslt_female_gpa_year1 = smf.ols(formula= \"GPA_year1 ~ ssp + sfp + sfsp\", data=data_female).fit()\n",
    "rslt_female_gpa_year1.summary()"
   ]
  },
  {
   "cell_type": "code",
   "execution_count": 103,
   "metadata": {},
   "outputs": [
    {
     "data": {
      "text/html": [
       "<table class=\"simpletable\">\n",
       "<caption>OLS Regression Results</caption>\n",
       "<tr>\n",
       "  <th>Dep. Variable:</th>        <td>GPA_year1</td>    <th>  R-squared:         </th> <td>   0.015</td>\n",
       "</tr>\n",
       "<tr>\n",
       "  <th>Model:</th>                   <td>OLS</td>       <th>  Adj. R-squared:    </th> <td>   0.008</td>\n",
       "</tr>\n",
       "<tr>\n",
       "  <th>Method:</th>             <td>Least Squares</td>  <th>  F-statistic:       </th> <td>   2.273</td>\n",
       "</tr>\n",
       "<tr>\n",
       "  <th>Date:</th>             <td>Fri, 23 Jul 2021</td> <th>  Prob (F-statistic):</th>  <td>0.0794</td> \n",
       "</tr>\n",
       "<tr>\n",
       "  <th>Time:</th>                 <td>21:01:33</td>     <th>  Log-Likelihood:    </th> <td> -525.84</td>\n",
       "</tr>\n",
       "<tr>\n",
       "  <th>No. Observations:</th>      <td>   467</td>      <th>  AIC:               </th> <td>   1060.</td>\n",
       "</tr>\n",
       "<tr>\n",
       "  <th>Df Residuals:</th>          <td>   463</td>      <th>  BIC:               </th> <td>   1076.</td>\n",
       "</tr>\n",
       "<tr>\n",
       "  <th>Df Model:</th>              <td>     3</td>      <th>                     </th>     <td> </td>   \n",
       "</tr>\n",
       "<tr>\n",
       "  <th>Covariance Type:</th>      <td>nonrobust</td>    <th>                     </th>     <td> </td>   \n",
       "</tr>\n",
       "</table>\n",
       "<table class=\"simpletable\">\n",
       "<tr>\n",
       "      <td></td>         <th>coef</th>     <th>std err</th>      <th>t</th>      <th>P>|t|</th>  <th>[0.025</th>    <th>0.975]</th>  \n",
       "</tr>\n",
       "<tr>\n",
       "  <th>Intercept</th> <td>    2.1489</td> <td>    0.044</td> <td>   48.585</td> <td> 0.000</td> <td>    2.062</td> <td>    2.236</td>\n",
       "</tr>\n",
       "<tr>\n",
       "  <th>ssp</th>       <td>   -0.0149</td> <td>    0.097</td> <td>   -0.154</td> <td> 0.878</td> <td>   -0.205</td> <td>    0.175</td>\n",
       "</tr>\n",
       "<tr>\n",
       "  <th>sfp</th>       <td>   -0.2424</td> <td>    0.102</td> <td>   -2.385</td> <td> 0.017</td> <td>   -0.442</td> <td>   -0.043</td>\n",
       "</tr>\n",
       "<tr>\n",
       "  <th>sfsp</th>      <td>    0.0895</td> <td>    0.131</td> <td>    0.684</td> <td> 0.494</td> <td>   -0.168</td> <td>    0.347</td>\n",
       "</tr>\n",
       "</table>\n",
       "<table class=\"simpletable\">\n",
       "<tr>\n",
       "  <th>Omnibus:</th>       <td>26.222</td> <th>  Durbin-Watson:     </th> <td>   2.012</td>\n",
       "</tr>\n",
       "<tr>\n",
       "  <th>Prob(Omnibus):</th> <td> 0.000</td> <th>  Jarque-Bera (JB):  </th> <td>  12.198</td>\n",
       "</tr>\n",
       "<tr>\n",
       "  <th>Skew:</th>          <td> 0.173</td> <th>  Prob(JB):          </th> <td> 0.00224</td>\n",
       "</tr>\n",
       "<tr>\n",
       "  <th>Kurtosis:</th>      <td> 2.288</td> <th>  Cond. No.          </th> <td>    4.07</td>\n",
       "</tr>\n",
       "</table><br/><br/>Notes:<br/>[1] Standard Errors assume that the covariance matrix of the errors is correctly specified."
      ],
      "text/plain": [
       "<class 'statsmodels.iolib.summary.Summary'>\n",
       "\"\"\"\n",
       "                            OLS Regression Results                            \n",
       "==============================================================================\n",
       "Dep. Variable:              GPA_year1   R-squared:                       0.015\n",
       "Model:                            OLS   Adj. R-squared:                  0.008\n",
       "Method:                 Least Squares   F-statistic:                     2.273\n",
       "Date:                Fri, 23 Jul 2021   Prob (F-statistic):             0.0794\n",
       "Time:                        21:01:33   Log-Likelihood:                -525.84\n",
       "No. Observations:                 467   AIC:                             1060.\n",
       "Df Residuals:                     463   BIC:                             1076.\n",
       "Df Model:                           3                                         \n",
       "Covariance Type:            nonrobust                                         \n",
       "==============================================================================\n",
       "                 coef    std err          t      P>|t|      [0.025      0.975]\n",
       "------------------------------------------------------------------------------\n",
       "Intercept      2.1489      0.044     48.585      0.000       2.062       2.236\n",
       "ssp           -0.0149      0.097     -0.154      0.878      -0.205       0.175\n",
       "sfp           -0.2424      0.102     -2.385      0.017      -0.442      -0.043\n",
       "sfsp           0.0895      0.131      0.684      0.494      -0.168       0.347\n",
       "==============================================================================\n",
       "Omnibus:                       26.222   Durbin-Watson:                   2.012\n",
       "Prob(Omnibus):                  0.000   Jarque-Bera (JB):               12.198\n",
       "Skew:                           0.173   Prob(JB):                      0.00224\n",
       "Kurtosis:                       2.288   Cond. No.                         4.07\n",
       "==============================================================================\n",
       "\n",
       "Notes:\n",
       "[1] Standard Errors assume that the covariance matrix of the errors is correctly specified.\n",
       "\"\"\""
      ]
     },
     "execution_count": 103,
     "metadata": {},
     "output_type": "execute_result"
    }
   ],
   "source": [
    "rslt_male_gpa_year1 = smf.ols(formula= \"GPA_year1 ~ ssp + sfp + sfsp\", data=regression_data_male).fit()\n",
    "rslt_male_gpa_year1.summary()"
   ]
  },
  {
   "cell_type": "markdown",
   "metadata": {},
   "source": [
    "### Replication of Figure 1 in Angrist et al. (2009)\n",
    "The regression estimates does not give the full insight on how the students for example in the lowest quantile or in the upper quantile in college grades is effected by the program. Morever, authors find it hard to interpret how the students who does not have a chance to win the scholarship effected by the treatment from the regression.\n",
    "Figure 1 of Angrist et al. (2009) looks at the fall grade distributions of treatment groups and control seperately for male and female students. The blue line is for control and the orange line is for treatments. The results for males are mixed. While for females in SFP and SFSP groups almost at all data points we see that treatment group do better as can be seen in second and third graph below. "
   ]
  },
  {
   "cell_type": "code",
   "execution_count": 107,
   "metadata": {},
   "outputs": [
    {
     "data": {
      "text/plain": [
       "<AxesSubplot:ylabel='Density'>"
      ]
     },
     "execution_count": 107,
     "metadata": {},
     "output_type": "execute_result"
    },
    {
     "data": {
      "image/png": "[encoded data removed]",
      "text/plain": [
       "<Figure size 432x288 with 1 Axes>"
      ]
     },
     "metadata": {
      "needs_background": "light"
     },
     "output_type": "display_data"
    }
   ],
   "source": [
    "control.grade_20059_fall.plot.kde()\n",
    "ssp.grade_20059_fall.plot.kde()"
   ]
  },
  {
   "cell_type": "code",
   "execution_count": 48,
   "metadata": {},
   "outputs": [
    {
     "data": {
      "text/plain": [
       "<AxesSubplot:ylabel='Density'>"
      ]
     },
     "execution_count": 48,
     "metadata": {},
     "output_type": "execute_result"
    },
    {
     "data": {
      "image/png": "[encoded data removed]",
      "text/plain": [
       "<Figure size 432x288 with 1 Axes>"
      ]
     },
     "metadata": {
      "needs_background": "light"
     },
     "output_type": "display_data"
    }
   ],
   "source": [
    "control[control['sex']== 'F'].grade_20059_fall.plot.kde()\n",
    "ssp[ssp['sex']== 'F'].grade_20059_fall.plot.kde()"
   ]
  },
  {
   "cell_type": "code",
   "execution_count": 49,
   "metadata": {},
   "outputs": [
    {
     "data": {
      "text/plain": [
       "<AxesSubplot:ylabel='Density'>"
      ]
     },
     "execution_count": 49,
     "metadata": {},
     "output_type": "execute_result"
    },
    {
     "data": {
      "image/png": "[encoded data removed]",
      "text/plain": [
       "<Figure size 432x288 with 1 Axes>"
      ]
     },
     "metadata": {
      "needs_background": "light"
     },
     "output_type": "display_data"
    }
   ],
   "source": [
    "control[control['sex']== 'F'].grade_20059_fall.plot.kde()\n",
    "sfp[sfp['sex']== 'F'].grade_20059_fall.plot.kde()"
   ]
  },
  {
   "cell_type": "code",
   "execution_count": 50,
   "metadata": {},
   "outputs": [
    {
     "data": {
      "text/plain": [
       "<AxesSubplot:ylabel='Density'>"
      ]
     },
     "execution_count": 50,
     "metadata": {},
     "output_type": "execute_result"
    },
    {
     "data": {
      "image/png": "[encoded data removed]",
      "text/plain": [
       "<Figure size 432x288 with 1 Axes>"
      ]
     },
     "metadata": {
      "needs_background": "light"
     },
     "output_type": "display_data"
    }
   ],
   "source": [
    "control[control['sex']== 'F'].grade_20059_fall.plot.kde()\n",
    "sfsp[sfsp['sex']== 'F'].grade_20059_fall.plot.kde()"
   ]
  },
  {
   "cell_type": "code",
   "execution_count": 51,
   "metadata": {},
   "outputs": [
    {
     "data": {
      "text/plain": [
       "<AxesSubplot:ylabel='Density'>"
      ]
     },
     "execution_count": 51,
     "metadata": {},
     "output_type": "execute_result"
    },
    {
     "data": {
      "image/png": "[encoded data removed]",
      "text/plain": [
       "<Figure size 432x288 with 1 Axes>"
      ]
     },
     "metadata": {
      "needs_background": "light"
     },
     "output_type": "display_data"
    }
   ],
   "source": [
    "control[control['sex']== 'M'].grade_20059_fall.plot.kde()\n",
    "ssp[ssp['sex']== 'M'].grade_20059_fall.plot.kde()"
   ]
  },
  {
   "cell_type": "code",
   "execution_count": 52,
   "metadata": {},
   "outputs": [
    {
     "data": {
      "text/plain": [
       "<AxesSubplot:ylabel='Density'>"
      ]
     },
     "execution_count": 52,
     "metadata": {},
     "output_type": "execute_result"
    },
    {
     "data": {
      "image/png": "[encoded data removed]",
      "text/plain": [
       "<Figure size 432x288 with 1 Axes>"
      ]
     },
     "metadata": {
      "needs_background": "light"
     },
     "output_type": "display_data"
    }
   ],
   "source": [
    "control[control['sex']== 'M'].grade_20059_fall.plot.kde()\n",
    "sfp[sfp['sex']== 'M'].grade_20059_fall.plot.kde()"
   ]
  },
  {
   "cell_type": "code",
   "execution_count": 58,
   "metadata": {},
   "outputs": [
    {
     "data": {
      "image/png": "[encoded data removed]",
      "text/plain": [
       "<Figure size 432x288 with 1 Axes>"
      ]
     },
     "metadata": {
      "needs_background": "light"
     },
     "output_type": "display_data"
    }
   ],
   "source": [
    "a = control[control['sex']== 'M'].grade_20059_fall.plot.kde()\n",
    "b = sfsp[sfsp['sex']== 'M'].grade_20059_fall.plot.kde()"
   ]
  },
  {
   "cell_type": "markdown",
   "metadata": {},
   "source": [
    "### Replication of Table 8 in Angrist et al. (2009)\n",
    "Angrist et al. (2009) reports on two-staged least square IV Estimates on female's second year GPA(to check for lasting impact of the intervention), credits earned and on whether they are on propation. The only female results are reported in Angrist et al. (2009) Table 8. The reason is that the intervention only had significant causal effects on women. The conrol variable of mothertongue, parent education, number of courses taken and treatment offer are used as instruments to estimate the causal effect of participating in the program."
   ]
  },
  {
   "cell_type": "code",
   "execution_count": 109,
   "metadata": {},
   "outputs": [
    {
     "name": "stderr",
     "output_type": "stream",
     "text": [
      "<ipython-input-109-aeddadefa01d>:1: SettingWithCopyWarning: \n",
      "A value is trying to be set on a copy of a slice from a DataFrame.\n",
      "Try using .loc[row_indexer,col_indexer] = value instead\n",
      "\n",
      "See the caveats in the documentation: https://pandas.pydata.org/pandas-docs/stable/user_guide/indexing.html#returning-a-view-versus-a-copy\n",
      "  regression_data_female[\"const\"] = 1\n"
     ]
    }
   ],
   "source": [
    "regression_data_female[\"const\"] = 1"
   ]
  },
  {
   "cell_type": "markdown",
   "metadata": {},
   "source": [
    "#### 2SLS on Probation Rates\n",
    "The authors use the full data set for these regression while I use the same subsetted data set from Table 5 for more consistent comparision. The students who are more likely to be on probation are excluded. That is why here I do not report any statistically significant results."
   ]
  },
  {
   "cell_type": "code",
   "execution_count": 110,
   "metadata": {},
   "outputs": [
    {
     "data": {
      "text/html": [
       "<table class=\"simpletable\">\n",
       "<caption>IV-2SLS Estimation Summary</caption>\n",
       "<tr>\n",
       "  <th>Dep. Variable:</th>       <td>prob_year2</td>    <th>  R-squared:         </th> <td>0.0029</td> \n",
       "</tr>\n",
       "<tr>\n",
       "  <th>Estimator:</th>             <td>IV-2SLS</td>     <th>  Adj. R-squared:    </th> <td>-0.0018</td>\n",
       "</tr>\n",
       "<tr>\n",
       "  <th>No. Observations:</th>        <td>641</td>       <th>  F-statistic:       </th> <td>3.4986</td> \n",
       "</tr>\n",
       "<tr>\n",
       "  <th>Date:</th>             <td>Fri, Jul 23 2021</td> <th>  P-value (F-stat)   </th> <td>0.3209</td> \n",
       "</tr>\n",
       "<tr>\n",
       "  <th>Time:</th>                 <td>21:28:42</td>     <th>  Distribution:      </th> <td>chi2(3)</td>\n",
       "</tr>\n",
       "<tr>\n",
       "  <th>Cov. Estimator:</th>        <td>robust</td>      <th>                     </th>    <td></td>    \n",
       "</tr>\n",
       "<tr>\n",
       "  <th></th>                          <td></td>         <th>                     </th>    <td></td>    \n",
       "</tr>\n",
       "</table>\n",
       "<table class=\"simpletable\">\n",
       "<caption>Parameter Estimates</caption>\n",
       "<tr>\n",
       "     <td></td>    <th>Parameter</th> <th>Std. Err.</th> <th>T-stat</th>  <th>P-value</th> <th>Lower CI</th> <th>Upper CI</th>\n",
       "</tr>\n",
       "<tr>\n",
       "  <th>const</th>   <td>0.1319</td>    <td>0.0172</td>   <td>7.6653</td>  <td>0.0000</td>   <td>0.0982</td>   <td>0.1657</td> \n",
       "</tr>\n",
       "<tr>\n",
       "  <th>ssp_p</th>   <td>0.1092</td>    <td>0.0733</td>   <td>1.4894</td>  <td>0.1364</td>   <td>-0.0345</td>  <td>0.2529</td> \n",
       "</tr>\n",
       "<tr>\n",
       "  <th>sfp_p</th>   <td>-0.0194</td>   <td>0.0377</td>   <td>-0.5141</td> <td>0.6072</td>   <td>-0.0932</td>  <td>0.0544</td> \n",
       "</tr>\n",
       "<tr>\n",
       "  <th>sfsp_p</th>  <td>-0.0373</td>   <td>0.0528</td>   <td>-0.7065</td> <td>0.4799</td>   <td>-0.1407</td>  <td>0.0662</td> \n",
       "</tr>\n",
       "</table><br/><br/>Endogenous: ssp_p, sfp_p, sfsp_p<br/>Instruments: ssp, sfp, sfsp, mtongue_French, mtongue_Other, hsgroup_2, hsgroup_3, mom_edn1, mom_edn2, mom_edn3, mom_edn4, mom_edn5, mom_edn6, mom_edn7, mom_edn8, lastmin_often, lastmin_occasionally, lastmin_rarely, lastmin_never, dad_edn1, dad_edn2, dad_edn3, dad_edn4, dad_edn5, dad_edn6, dad_edn7, dad_edn8, numcourses_nov1_3, numcourses_nov1_4, numcourses_nov1_5, numcourses_nov1_6<br/>Robust Covariance (Heteroskedastic)<br/>Debiased: False<br/>id: 0x7fbe86c6b130"
      ],
      "text/plain": [
       "                          IV-2SLS Estimation Summary                          \n",
       "==============================================================================\n",
       "Dep. Variable:             prob_year2   R-squared:                      0.0029\n",
       "Estimator:                    IV-2SLS   Adj. R-squared:                -0.0018\n",
       "No. Observations:                 641   F-statistic:                    3.4986\n",
       "Date:                Fri, Jul 23 2021   P-value (F-stat)                0.3209\n",
       "Time:                        21:28:42   Distribution:                  chi2(3)\n",
       "Cov. Estimator:                robust                                         \n",
       "                                                                              \n",
       "                             Parameter Estimates                              \n",
       "==============================================================================\n",
       "            Parameter  Std. Err.     T-stat    P-value    Lower CI    Upper CI\n",
       "------------------------------------------------------------------------------\n",
       "const          0.1319     0.0172     7.6653     0.0000      0.0982      0.1657\n",
       "ssp_p          0.1092     0.0733     1.4894     0.1364     -0.0345      0.2529\n",
       "sfp_p         -0.0194     0.0377    -0.5141     0.6072     -0.0932      0.0544\n",
       "sfsp_p        -0.0373     0.0528    -0.7065     0.4799     -0.1407      0.0662\n",
       "==============================================================================\n",
       "\n",
       "Endogenous: ssp_p, sfp_p, sfsp_p\n",
       "Instruments: ssp, sfp, sfsp, mtongue_French, mtongue_Other, hsgroup_2, hsgroup_3, mom_edn1, mom_edn2, mom_edn3, mom_edn4, mom_edn5, mom_edn6, mom_edn7, mom_edn8, lastmin_often, lastmin_occasionally, lastmin_rarely, lastmin_never, dad_edn1, dad_edn2, dad_edn3, dad_edn4, dad_edn5, dad_edn6, dad_edn7, dad_edn8, numcourses_nov1_3, numcourses_nov1_4, numcourses_nov1_5, numcourses_nov1_6\n",
       "Robust Covariance (Heteroskedastic)\n",
       "Debiased: False\n",
       "IVResults, id: 0x7fbe86c6b130"
      ]
     },
     "execution_count": 110,
     "metadata": {},
     "output_type": "execute_result"
    }
   ],
   "source": [
    "IV2SLS(regression_data_female['prob_year2'],exog=regression_data_female[\"const\"] ,endog = regression_data_female[['ssp_p', 'sfp_p', 'sfsp_p']],\n",
    "        instruments = regression_data_female[['ssp', 'sfp', 'sfsp','mtongue_French', 'mtongue_Other', \n",
    "                               'hsgroup_2', 'hsgroup_3','mom_edn1', 'mom_edn2', 'mom_edn3', \n",
    "                               'mom_edn4', 'mom_edn5', 'mom_edn6','mom_edn7', 'mom_edn8', \n",
    "                               'lastmin_often', 'lastmin_occasionally','lastmin_rarely', \n",
    "                               'lastmin_never', 'dad_edn1', 'dad_edn2', 'dad_edn3',\n",
    "                               'dad_edn4', 'dad_edn5', 'dad_edn6', 'dad_edn7', 'dad_edn8',\n",
    "                               'numcourses_nov1_3', 'numcourses_nov1_4', 'numcourses_nov1_5',\n",
    "                               'numcourses_nov1_6']]).fit()"
   ]
  },
  {
   "cell_type": "markdown",
   "metadata": {},
   "source": [
    "#### 2SLS on Creadits Earned in Second Year\n",
    "Here we see that program participation does not have a significant effect on credits earned b female students in second year."
   ]
  },
  {
   "cell_type": "code",
   "execution_count": 111,
   "metadata": {},
   "outputs": [
    {
     "data": {
      "text/html": [
       "<table class=\"simpletable\">\n",
       "<caption>IV-2SLS Estimation Summary</caption>\n",
       "<tr>\n",
       "  <th>Dep. Variable:</th>     <td>credits_earned2</td> <th>  R-squared:         </th> <td>-0.0002</td>\n",
       "</tr>\n",
       "<tr>\n",
       "  <th>Estimator:</th>             <td>IV-2SLS</td>     <th>  Adj. R-squared:    </th> <td>-0.0049</td>\n",
       "</tr>\n",
       "<tr>\n",
       "  <th>No. Observations:</th>        <td>641</td>       <th>  F-statistic:       </th> <td>0.9272</td> \n",
       "</tr>\n",
       "<tr>\n",
       "  <th>Date:</th>             <td>Fri, Jul 23 2021</td> <th>  P-value (F-stat)   </th> <td>0.8189</td> \n",
       "</tr>\n",
       "<tr>\n",
       "  <th>Time:</th>                 <td>21:28:45</td>     <th>  Distribution:      </th> <td>chi2(3)</td>\n",
       "</tr>\n",
       "<tr>\n",
       "  <th>Cov. Estimator:</th>        <td>robust</td>      <th>                     </th>    <td></td>    \n",
       "</tr>\n",
       "<tr>\n",
       "  <th></th>                          <td></td>         <th>                     </th>    <td></td>    \n",
       "</tr>\n",
       "</table>\n",
       "<table class=\"simpletable\">\n",
       "<caption>Parameter Estimates</caption>\n",
       "<tr>\n",
       "     <td></td>    <th>Parameter</th> <th>Std. Err.</th> <th>T-stat</th>  <th>P-value</th> <th>Lower CI</th> <th>Upper CI</th>\n",
       "</tr>\n",
       "<tr>\n",
       "  <th>const</th>   <td>2.8524</td>    <td>0.0692</td>   <td>41.214</td>  <td>0.0000</td>   <td>2.7167</td>   <td>2.9880</td> \n",
       "</tr>\n",
       "<tr>\n",
       "  <th>ssp_p</th>   <td>-0.0178</td>   <td>0.2658</td>   <td>-0.0668</td> <td>0.9467</td>   <td>-0.5388</td>  <td>0.5033</td> \n",
       "</tr>\n",
       "<tr>\n",
       "  <th>sfp_p</th>   <td>0.1225</td>    <td>0.1371</td>   <td>0.8934</td>  <td>0.3716</td>   <td>-0.1462</td>  <td>0.3911</td> \n",
       "</tr>\n",
       "<tr>\n",
       "  <th>sfsp_p</th>  <td>0.0770</td>    <td>0.2132</td>   <td>0.3611</td>  <td>0.7180</td>   <td>-0.3408</td>  <td>0.4948</td> \n",
       "</tr>\n",
       "</table><br/><br/>Endogenous: ssp_p, sfp_p, sfsp_p<br/>Instruments: ssp, sfp, sfsp, mtongue_French, mtongue_Other, hsgroup_2, hsgroup_3, mom_edn1, mom_edn2, mom_edn3, mom_edn4, mom_edn5, mom_edn6, mom_edn7, mom_edn8, lastmin_often, lastmin_occasionally, lastmin_rarely, lastmin_never, dad_edn1, dad_edn2, dad_edn3, dad_edn4, dad_edn5, dad_edn6, dad_edn7, dad_edn8, numcourses_nov1_3, numcourses_nov1_4, numcourses_nov1_5, numcourses_nov1_6<br/>Robust Covariance (Heteroskedastic)<br/>Debiased: False<br/>id: 0x7fbe86c4b700"
      ],
      "text/plain": [
       "                          IV-2SLS Estimation Summary                          \n",
       "==============================================================================\n",
       "Dep. Variable:        credits_earned2   R-squared:                     -0.0002\n",
       "Estimator:                    IV-2SLS   Adj. R-squared:                -0.0049\n",
       "No. Observations:                 641   F-statistic:                    0.9272\n",
       "Date:                Fri, Jul 23 2021   P-value (F-stat)                0.8189\n",
       "Time:                        21:28:45   Distribution:                  chi2(3)\n",
       "Cov. Estimator:                robust                                         \n",
       "                                                                              \n",
       "                             Parameter Estimates                              \n",
       "==============================================================================\n",
       "            Parameter  Std. Err.     T-stat    P-value    Lower CI    Upper CI\n",
       "------------------------------------------------------------------------------\n",
       "const          2.8524     0.0692     41.214     0.0000      2.7167      2.9880\n",
       "ssp_p         -0.0178     0.2658    -0.0668     0.9467     -0.5388      0.5033\n",
       "sfp_p          0.1225     0.1371     0.8934     0.3716     -0.1462      0.3911\n",
       "sfsp_p         0.0770     0.2132     0.3611     0.7180     -0.3408      0.4948\n",
       "==============================================================================\n",
       "\n",
       "Endogenous: ssp_p, sfp_p, sfsp_p\n",
       "Instruments: ssp, sfp, sfsp, mtongue_French, mtongue_Other, hsgroup_2, hsgroup_3, mom_edn1, mom_edn2, mom_edn3, mom_edn4, mom_edn5, mom_edn6, mom_edn7, mom_edn8, lastmin_often, lastmin_occasionally, lastmin_rarely, lastmin_never, dad_edn1, dad_edn2, dad_edn3, dad_edn4, dad_edn5, dad_edn6, dad_edn7, dad_edn8, numcourses_nov1_3, numcourses_nov1_4, numcourses_nov1_5, numcourses_nov1_6\n",
       "Robust Covariance (Heteroskedastic)\n",
       "Debiased: False\n",
       "IVResults, id: 0x7fbe86c4b700"
      ]
     },
     "execution_count": 111,
     "metadata": {},
     "output_type": "execute_result"
    }
   ],
   "source": [
    "IV2SLS(regression_data_female['credits_earned2'],exog=regression_data_female[\"const\"] ,endog = regression_data_female[['ssp_p', 'sfp_p', 'sfsp_p']],\n",
    "        instruments = regression_data_female[['ssp', 'sfp', 'sfsp','mtongue_French', 'mtongue_Other', \n",
    "                               'hsgroup_2', 'hsgroup_3','mom_edn1', 'mom_edn2', 'mom_edn3', \n",
    "                               'mom_edn4', 'mom_edn5', 'mom_edn6','mom_edn7', 'mom_edn8', \n",
    "                               'lastmin_often', 'lastmin_occasionally','lastmin_rarely', \n",
    "                               'lastmin_never', 'dad_edn1', 'dad_edn2', 'dad_edn3',\n",
    "                               'dad_edn4', 'dad_edn5', 'dad_edn6', 'dad_edn7', 'dad_edn8',\n",
    "                               'numcourses_nov1_3', 'numcourses_nov1_4', 'numcourses_nov1_5',\n",
    "                               'numcourses_nov1_6']]).fit()"
   ]
  },
  {
   "cell_type": "markdown",
   "metadata": {},
   "source": [
    "#### 2SLS On Second Year GPA\n",
    "In the regression results here we see large(in terms of standard deviation of conrol), statistically significant effects of participating in sfp and sfsp."
   ]
  },
  {
   "cell_type": "code",
   "execution_count": 112,
   "metadata": {},
   "outputs": [
    {
     "name": "stderr",
     "output_type": "stream",
     "text": [
      "/opt/anaconda3/lib/python3.8/site-packages/linearmodels/shared/exceptions.py:35: MissingValueWarning: \n",
      "Inputs contain missing values. Dropping rows with missing observations.\n",
      "  warnings.warn(missing_value_warning_msg, MissingValueWarning)\n"
     ]
    },
    {
     "data": {
      "text/html": [
       "<table class=\"simpletable\">\n",
       "<caption>IV-2SLS Estimation Summary</caption>\n",
       "<tr>\n",
       "  <th>Dep. Variable:</th>        <td>GPA_year2</td>    <th>  R-squared:         </th> <td>0.0121</td> \n",
       "</tr>\n",
       "<tr>\n",
       "  <th>Estimator:</th>             <td>IV-2SLS</td>     <th>  Adj. R-squared:    </th> <td>0.0070</td> \n",
       "</tr>\n",
       "<tr>\n",
       "  <th>No. Observations:</th>        <td>589</td>       <th>  F-statistic:       </th> <td>6.8911</td> \n",
       "</tr>\n",
       "<tr>\n",
       "  <th>Date:</th>             <td>Fri, Jul 23 2021</td> <th>  P-value (F-stat)   </th> <td>0.0755</td> \n",
       "</tr>\n",
       "<tr>\n",
       "  <th>Time:</th>                 <td>21:28:49</td>     <th>  Distribution:      </th> <td>chi2(3)</td>\n",
       "</tr>\n",
       "<tr>\n",
       "  <th>Cov. Estimator:</th>        <td>robust</td>      <th>                     </th>    <td></td>    \n",
       "</tr>\n",
       "<tr>\n",
       "  <th></th>                          <td></td>         <th>                     </th>    <td></td>    \n",
       "</tr>\n",
       "</table>\n",
       "<table class=\"simpletable\">\n",
       "<caption>Parameter Estimates</caption>\n",
       "<tr>\n",
       "     <td></td>    <th>Parameter</th> <th>Std. Err.</th> <th>T-stat</th> <th>P-value</th> <th>Lower CI</th> <th>Upper CI</th>\n",
       "</tr>\n",
       "<tr>\n",
       "  <th>const</th>   <td>2.2019</td>    <td>0.0415</td>   <td>53.088</td> <td>0.0000</td>   <td>2.1206</td>   <td>2.2832</td> \n",
       "</tr>\n",
       "<tr>\n",
       "  <th>ssp_p</th>   <td>0.0820</td>    <td>0.1621</td>   <td>0.5059</td> <td>0.6129</td>   <td>-0.2356</td>  <td>0.3996</td> \n",
       "</tr>\n",
       "<tr>\n",
       "  <th>sfp_p</th>   <td>0.1920</td>    <td>0.0837</td>   <td>2.2927</td> <td>0.0219</td>   <td>0.0279</td>   <td>0.3561</td> \n",
       "</tr>\n",
       "<tr>\n",
       "  <th>sfsp_p</th>  <td>0.2281</td>    <td>0.1311</td>   <td>1.7407</td> <td>0.0817</td>   <td>-0.0287</td>  <td>0.4850</td> \n",
       "</tr>\n",
       "</table><br/><br/>Endogenous: ssp_p, sfp_p, sfsp_p<br/>Instruments: ssp, sfp, sfsp, mtongue_French, mtongue_Other, hsgroup_2, hsgroup_3, mom_edn1, mom_edn2, mom_edn3, mom_edn4, mom_edn5, mom_edn6, mom_edn7, mom_edn8, lastmin_often, lastmin_occasionally, lastmin_rarely, lastmin_never, dad_edn1, dad_edn2, dad_edn3, dad_edn4, dad_edn5, dad_edn6, dad_edn7, dad_edn8, numcourses_nov1_3, numcourses_nov1_4, numcourses_nov1_5, numcourses_nov1_6<br/>Robust Covariance (Heteroskedastic)<br/>Debiased: False<br/>id: 0x7fbe86c40880"
      ],
      "text/plain": [
       "                          IV-2SLS Estimation Summary                          \n",
       "==============================================================================\n",
       "Dep. Variable:              GPA_year2   R-squared:                      0.0121\n",
       "Estimator:                    IV-2SLS   Adj. R-squared:                 0.0070\n",
       "No. Observations:                 589   F-statistic:                    6.8911\n",
       "Date:                Fri, Jul 23 2021   P-value (F-stat)                0.0755\n",
       "Time:                        21:28:49   Distribution:                  chi2(3)\n",
       "Cov. Estimator:                robust                                         \n",
       "                                                                              \n",
       "                             Parameter Estimates                              \n",
       "==============================================================================\n",
       "            Parameter  Std. Err.     T-stat    P-value    Lower CI    Upper CI\n",
       "------------------------------------------------------------------------------\n",
       "const          2.2019     0.0415     53.088     0.0000      2.1206      2.2832\n",
       "ssp_p          0.0820     0.1621     0.5059     0.6129     -0.2356      0.3996\n",
       "sfp_p          0.1920     0.0837     2.2927     0.0219      0.0279      0.3561\n",
       "sfsp_p         0.2281     0.1311     1.7407     0.0817     -0.0287      0.4850\n",
       "==============================================================================\n",
       "\n",
       "Endogenous: ssp_p, sfp_p, sfsp_p\n",
       "Instruments: ssp, sfp, sfsp, mtongue_French, mtongue_Other, hsgroup_2, hsgroup_3, mom_edn1, mom_edn2, mom_edn3, mom_edn4, mom_edn5, mom_edn6, mom_edn7, mom_edn8, lastmin_often, lastmin_occasionally, lastmin_rarely, lastmin_never, dad_edn1, dad_edn2, dad_edn3, dad_edn4, dad_edn5, dad_edn6, dad_edn7, dad_edn8, numcourses_nov1_3, numcourses_nov1_4, numcourses_nov1_5, numcourses_nov1_6\n",
       "Robust Covariance (Heteroskedastic)\n",
       "Debiased: False\n",
       "IVResults, id: 0x7fbe86c40880"
      ]
     },
     "execution_count": 112,
     "metadata": {},
     "output_type": "execute_result"
    }
   ],
   "source": [
    "IV2SLS(regression_data_female['GPA_year2'],exog=regression_data_female[\"const\"] ,endog = regression_data_female[['ssp_p', 'sfp_p', 'sfsp_p']],\n",
    "        instruments = regression_data_female[['ssp', 'sfp', 'sfsp','mtongue_French', 'mtongue_Other', \n",
    "                               'hsgroup_2', 'hsgroup_3','mom_edn1', 'mom_edn2', 'mom_edn3', \n",
    "                               'mom_edn4', 'mom_edn5', 'mom_edn6','mom_edn7', 'mom_edn8', \n",
    "                               'lastmin_often', 'lastmin_occasionally','lastmin_rarely', \n",
    "                               'lastmin_never', 'dad_edn1', 'dad_edn2', 'dad_edn3',\n",
    "                               'dad_edn4', 'dad_edn5', 'dad_edn6', 'dad_edn7', 'dad_edn8',\n",
    "                               'numcourses_nov1_3', 'numcourses_nov1_4', 'numcourses_nov1_5',\n",
    "                               'numcourses_nov1_6']]).fit()"
   ]
  },
  {
   "cell_type": "markdown",
   "metadata": {},
   "source": [
    "---\n",
    "# 5. Extension | Balance Checks\n",
    "---"
   ]
  },
  {
   "cell_type": "markdown",
   "metadata": {},
   "source": [
    "The result of Angrist et al.(2009) indicate a clear difference between genders. That is wh I run balance checks focusing particularl on gender to see whether females are offered more ofther or whether the are more likely to sign-up. "
   ]
  },
  {
   "cell_type": "code",
   "execution_count": 113,
   "metadata": {},
   "outputs": [
    {
     "data": {
      "text/plain": [
       "sex  ssp  sfsp  sfp  ssp_p  sfp_p  sfsp_p\n",
       "F    0.0  0.0   0.0  0.0    0.0    0.0       0.341155\n",
       "                1.0  0.0    0.0    0.0       0.006318\n",
       "                            1.0    0.0       0.090253\n",
       "          1.0   0.0  0.0    0.0    0.0       0.010830\n",
       "                                   1.0       0.042419\n",
       "     1.0  0.0   0.0  0.0    0.0    0.0       0.037004\n",
       "                     1.0    0.0    0.0       0.050542\n",
       "M    0.0  0.0   0.0  0.0    0.0    0.0       0.259025\n",
       "                1.0  0.0    0.0    0.0       0.010830\n",
       "                            1.0    0.0       0.049639\n",
       "          1.0   0.0  0.0    0.0    0.0       0.009928\n",
       "                                   1.0       0.023466\n",
       "     1.0  0.0   0.0  0.0    0.0    0.0       0.036101\n",
       "                     1.0    0.0    0.0       0.032491\n",
       "dtype: float64"
      ]
     },
     "execution_count": 113,
     "metadata": {},
     "output_type": "execute_result"
    }
   ],
   "source": [
    "info = data[['sex','ssp', 'sfsp', 'sfp', 'ssp_p', 'sfp_p', 'sfsp_p']].value_counts(normalize=True).sort_index()\n",
    "info"
   ]
  },
  {
   "cell_type": "markdown",
   "metadata": {},
   "source": [
    "The table above reports on gender shares in control group and treatment groups as well as in treatment sign-up. To have a better on sign -up rates I check each treatment group's participation rates b gender below."
   ]
  },
  {
   "cell_type": "code",
   "execution_count": 114,
   "metadata": {},
   "outputs": [
    {
     "data": {
      "text/plain": [
       "sex  ssp_p\n",
       "F    0.0      0.236994\n",
       "     1.0      0.323699\n",
       "M    0.0      0.231214\n",
       "     1.0      0.208092\n",
       "dtype: float64"
      ]
     },
     "execution_count": 114,
     "metadata": {},
     "output_type": "execute_result"
    }
   ],
   "source": [
    "ssp_signup_offer_shares = ssp[['sex','ssp_p']].value_counts(normalize=True).sort_index()\n",
    "ssp_signup_offer_shares"
   ]
  },
  {
   "cell_type": "markdown",
   "metadata": {},
   "source": [
    "Services offered fails to atracked half of the students the are offered to. There is no gender imbalance in offer hawever, females are much more likel to participate in services."
   ]
  },
  {
   "cell_type": "code",
   "execution_count": 115,
   "metadata": {},
   "outputs": [
    {
     "data": {
      "text/plain": [
       "sex  sfp_p\n",
       "F    0.0      0.040230\n",
       "     1.0      0.574713\n",
       "M    0.0      0.068966\n",
       "     1.0      0.316092\n",
       "dtype: float64"
      ]
     },
     "execution_count": 115,
     "metadata": {},
     "output_type": "execute_result"
    }
   ],
   "source": [
    "sfp_signup_offer_shares = sfp[['sex','sfp_p']].value_counts(normalize=True).sort_index()\n",
    "sfp_signup_offer_shares"
   ]
  },
  {
   "cell_type": "markdown",
   "metadata": {},
   "source": [
    "The gender balance in financial incentive offer is slightly imbalanced with about 60 percent females. Participation rates are high for both gender groups."
   ]
  },
  {
   "cell_type": "code",
   "execution_count": 116,
   "metadata": {},
   "outputs": [
    {
     "data": {
      "text/plain": [
       "sex  sfsp_p\n",
       "F    0.0       0.125000\n",
       "     1.0       0.489583\n",
       "M    0.0       0.114583\n",
       "     1.0       0.270833\n",
       "dtype: float64"
      ]
     },
     "execution_count": 116,
     "metadata": {},
     "output_type": "execute_result"
    }
   ],
   "source": [
    "sfsp_signup_offer_shares = sfsp[['sex','sfsp_p']].value_counts(normalize=True).sort_index()\n",
    "sfsp_signup_offer_shares"
   ]
  },
  {
   "cell_type": "markdown",
   "metadata": {},
   "source": [
    "Combined offer is again offered more to female students with 60-40 percent rate. One third of the male students who recieve an offer did not sign up while the rate drops to one forth in female students."
   ]
  },
  {
   "cell_type": "markdown",
   "metadata": {},
   "source": [
    "#### Gender Balance Plots of Participation Shares\n",
    "The plots below visualized whether a particular gender is less likely to take-up the treatment. Male students are much less likely to be a participant in across all treatments."
   ]
  },
  {
   "cell_type": "code",
   "execution_count": 117,
   "metadata": {},
   "outputs": [
    {
     "data": {
      "image/png": "[encoded data removed]",
      "text/plain": [
       "<Figure size 432x288 with 1 Axes>"
      ]
     },
     "metadata": {
      "needs_background": "light"
     },
     "output_type": "display_data"
    }
   ],
   "source": [
    "participation_share_plot(ssp, 'Service Treatment Group Sign-up Shares' , 'ssp_p')"
   ]
  },
  {
   "cell_type": "code",
   "execution_count": 118,
   "metadata": {},
   "outputs": [
    {
     "data": {
      "image/png": "[encoded data removed]",
      "text/plain": [
       "<Figure size 432x288 with 1 Axes>"
      ]
     },
     "metadata": {
      "needs_background": "light"
     },
     "output_type": "display_data"
    }
   ],
   "source": [
    "participation_share_plot(sfp, 'Incentives Treatment Group Sign-up Shares' , 'sfp_p')"
   ]
  },
  {
   "cell_type": "code",
   "execution_count": 120,
   "metadata": {},
   "outputs": [
    {
     "data": {
      "image/png": "[encoded data removed]",
      "text/plain": [
       "<Figure size 432x288 with 1 Axes>"
      ]
     },
     "metadata": {
      "needs_background": "light"
     },
     "output_type": "display_data"
    }
   ],
   "source": [
    "participation_share_plot(sfsp, 'Combined Treatment Group', 'sfsp_p')"
   ]
  },
  {
   "cell_type": "markdown",
   "metadata": {},
   "source": [
    "#### Treatment Take-Up\n",
    "\n",
    "Almost half of the students who are offered the academic support service did not sign-up. The participation is highest for financal incentive only group. The combined treatment increases the sign-up rate compared to services only yet the rate is lower than financial incentives onl treatment. Even though the students in combined group were not have to participate in services and could have just taken the fellowship. "
   ]
  },
  {
   "cell_type": "code",
   "execution_count": 121,
   "metadata": {},
   "outputs": [
    {
     "data": {
      "text/plain": [
       "0.5773195876288659"
      ]
     },
     "execution_count": 121,
     "metadata": {},
     "output_type": "execute_result"
    }
   ],
   "source": [
    "compliance_rate_ssp = ssp[ssp['sex']=='F']['ssp_p'].value_counts(normalize=True).sort_index()\n",
    "compliance_rate_ssp[1]"
   ]
  },
  {
   "cell_type": "code",
   "execution_count": 122,
   "metadata": {},
   "outputs": [
    {
     "data": {
      "text/plain": [
       "0.9345794392523364"
      ]
     },
     "execution_count": 122,
     "metadata": {},
     "output_type": "execute_result"
    }
   ],
   "source": [
    "compliance_rate_sfp = sfp[sfp['sex']=='F']['sfp_p'].value_counts(normalize=True).sort_index()\n",
    "compliance_rate_sfp[1]"
   ]
  },
  {
   "cell_type": "code",
   "execution_count": 123,
   "metadata": {},
   "outputs": [
    {
     "data": {
      "text/plain": [
       "0.7966101694915254"
      ]
     },
     "execution_count": 123,
     "metadata": {},
     "output_type": "execute_result"
    }
   ],
   "source": [
    "compliance_rate_sfsp = sfsp[sfsp['sex']=='F']['sfsp_p'].value_counts(normalize=True).sort_index()\n",
    "compliance_rate_sfsp[1]"
   ]
  },
  {
   "cell_type": "markdown",
   "metadata": {},
   "source": [
    "---\n",
    "# 6. Conclusion and Critical Assessment\n",
    "---\n",
    "The goal of the STAR demonstration project to learn more about how the academic support services and financial incentives like fellowships improve academic performance in college. The student reports section of Angrist et al. does not mention any student who thinks she is harmed by the program. Even the students who did not meet with their peer advisors said it was nice to know someone was there for them. The facilitated stud group participation was even lower. Angrist et al. argues that that services alone fail to attract students. The authors report that SPP did better in IV-2SLS than in ITT for both men and women. Although it was still statistically insignificant at 10 percent level. They report that this is due to low compliance rate. Another important finding is that even the SFP motivates students, the effect of financial incentive on academic performance fade over time while SFSP has long lasting effects. Angrist et al. (2009) states that services have indeed help students to form better stud habits. Although in order to participate in services, students require additional incentives.\n",
    "\n",
    "**Program Cost**\n",
    "The Angrist et al. (2009) reports on modest program costs, arguing that the improved academic performance result in higher future income which can easyly offsett the costs.\n",
    "\n",
    "| **Program**           | **Cost per individual** |\n",
    "|-----------------------|-------------------------|\n",
    "| Services              | 366dollars              |\n",
    "| Fellowship            | 437dollars              |              \n",
    "\n",
    "On final remarks, Angrist et al. (2009) highlights the gender effects and points in out as an area of future study. \n",
    "\n",
    "I took Table 5 on ITT estimates -as it was reported in Angrist et al. (2009) as main result-, table 8 on IV-2SLS results -as all the assumptions to identify the causal effect is of participation using instrumental variable is met and well-established in the paper- and Figure 1 -showing the treatment effect on each data point- as key results for replication.\n",
    "My findings are inline with Angrist et al. (2009). Although I followed a different approach in regression data. I used the same dataset for Table 5 and Table 8. Instead of using the unfiltered data set for Table 8. My estimates for the treatment are more modest yet I argue that they are more robust for comparission of the participation effect with offer effect. It seem to be that authors use the full data set in Table 8 to inflate the results of participation. \n",
    "As the identification assumptions are met and as the gender differences are highlighted very often in the paper, I focused on how different genders behaved in participation in the program in extention.\n"
   ]
  },
  {
   "cell_type": "markdown",
   "metadata": {},
   "source": [
    "---\n",
    "# 7. References\n",
    "---"
   ]
  },
  {
   "cell_type": "markdown",
   "metadata": {},
   "source": [
    "> Angrist, J., Land, D., & Oreopoulos, P. (2009). Incentives And Services For College Achievement: Evidence From A Randomized Trial. American Economic Journal: Applied Economics, 1(1), 136-63.\n",
    "\n",
    "> Angrist, J. D. and Pischke, J.-S. (2009). Mostly Harmless Econometrics: An Empiricist’s Companion.  Princeton University Press \n",
    "[(link)](https://www.researchgate.net/publication/51992844_Mostly_Harmless_Econometrics_An_Empiricist%27s_Companion)\n",
    "\n",
    "> Eisenhauer, P. (2021). Project template, OpenSourceEconomics. [(link)](https://github.com/OpenSourceEconomics/ose-template-course-project)\n",
    "\n",
    "> Gehlen, A. (2019). Replication of Jason M. Lindo, Nicholas J. Sanders & Philip Oreopoulos (2010). [(link)](https://github.com/amageh/replication-performance-standards/blob/master/replication-notebook.ipynb)"
   ]
  },
  {
   "cell_type": "code",
   "execution_count": null,
   "metadata": {},
   "outputs": [],
   "source": []
  }
 ],
 "metadata": {
  "interpreter": {
   "hash": "f9de4e033535c529fe0f52d15e87db911dbd961c5ec28bda6ee5b57ecf29c15f"
  },
  "kernelspec": {
   "display_name": "Python 3",
   "language": "python",
   "name": "python3"
  },
  "language_info": {
   "codemirror_mode": {
    "name": "ipython",
    "version": 3
   },
   "file_extension": ".py",
   "mimetype": "text/x-python",
   "name": "python",
   "nbconvert_exporter": "python",
   "pygments_lexer": "ipython3",
   "version": "3.8.5"
  }
 },
 "nbformat": 4,
 "nbformat_minor": 4
}
