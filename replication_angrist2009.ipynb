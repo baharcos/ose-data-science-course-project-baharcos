{
 "cells": [
  {
   "cell_type": "markdown",
   "metadata": {},
   "source": [
    "--- \n",
    "Project for the course in Microeconometrics | Summer 2021, M.Sc. Economics, Bonn University | [Bahar Coskun](https://github.com/baharcos)\n",
    "\n",
    "# Replication of Joshua Angrist, Daniel Lang, and Philipp Oreopoulous (2009) <a class=\"tocSkip\">   \n",
    "---"
   ]
  },
  {
   "cell_type": "markdown",
   "metadata": {},
   "source": [
    "The following notebook contains my replication of the results of\n",
    "\n",
    "> Angrist, J., Land, D., & Oreopoulos, P. (2009). Incentives And Services For College Achievement: Evidence From A Randomized Trial. American Economic Journal: Applied Economics, 1(1), 136-63.\n",
    "\n",
    "#### Downloading and Viewing this Notebook\n",
    "\n",
    "* To ensure that every image and format is displayed properly, I recommend to download this notebook from its repository on [GitHub](https://github.com/OpenSourceEconomics/ose-data-science-course-project-baharcos). Other viewing options like _MyBinder_ or _NBViewer_ might have issues displaying formulas and formatting.\n",
    "\n",
    "* The original data, code and paper can be found [here](https://economics.mit.edu/faculty/angrist/data1/data/angrist,1)\n",
    "\n",
    "#### Information about the Replication and Individual Contributions\n",
    "\n",
    "* I have labeled all figures and tables in this notebook in an ascending order to prevent confusion of the reader. If it is a replication, I always indicate the label of the corresponding figure and table referencing to the original paper.\n",
    "\n",
    "* I always explicitly state, when I give the opinion of the author.\n",
    "\n",
    "* All sections and subsections that are labeled as *Extension* are my independent contributions.  \n",
    "\n",
    "* For more detailed information it is always refered to Angrist et. al. [(2009)](https://www.aeaweb.org/articles?id=10.1257/app.1.1.136) I replicated the results from the main analysis.\n",
    "\n",
    "* The layout and the structure of the notebook is inspired by Annica Gehlen's replication of Jason M. Lindo, Nicholas J. Sanders & Philip Oreopoulos (2010) from the 2019 iteration of the Microeconometrics class. [(link)](https://github.com/amageh/replication-performance-standards/blob/master/replication-notebook.ipynb)"
   ]
  },
  {
   "cell_type": "markdown",
   "metadata": {},
   "source": [
    "<h1> WiP: Table of Contents<span class=\"tocSkip\"></span></h1>\n",
    "<div class=\"toc\"><ul class=\"toc-item\"><li><span><a href=\"#1.-Introduction\" data-toc-modified-id=\"1.-Introduction-1\">1. Introduction</a></span></li><li><span><a href=\"#2.-Data\" data-toc-modified-id=\"2.-Data-2\">2. Data</a></span></li><li><span><a href=\"#3.-Identification and Empirical Strategy\" data-toc-modified-id=\"3.-Identification and Empirical Strategy-2\">3. Identification and Empirical Strategy</a></span></li> <li><span><a href=\"#4.-Econometric Background\" data-toc-modified-id=\"4.-Econometric Background-4\">4. Econometric Background</a></span></li><li><span><a href=\"#5.-Replication-of-Angrist-et-al.-(2009)\" data-toc-modified-id=\"5.-Replication-of-Angrist-et-al.-(2009)-3\">5. Replication-of-Angrist-et-al.-(2009)</a></span></li><li><span><a href=\"#6.-Conclusion-and-Critical-Assessment\" data-toc-modified-id=\"6.-Conclusion-and-Critical-Assessment-6\">6. Conclusion  and Critical Assessment</a></span></li>\n",
    "<li><span><a href=\"#7.-References\" data-toc-modified-id=\"7.-References-7\">7. References</a></span></li></ul></div></li>\n",
    "\n",
    "---"
   ]
  },
  {
   "cell_type": "code",
   "execution_count": 1,
   "metadata": {},
   "outputs": [],
   "source": [
    "import pandas as pd\n",
    "import seaborn as sns\n",
    "import matplotlib.pyplot as plt\n",
    "from auxiliary.colors import get_colors\n",
    "from auxiliary.colors import plot_colors"
   ]
  },
  {
   "cell_type": "markdown",
   "metadata": {},
   "source": [
    "---\n",
    "# WiP: 1. Introduction\n",
    "---\n",
    "Will need to work on the argumentation:\n",
    "\n",
    "***Motivation***:\n",
    "The motivation of Angrist et al.(2009) comes from the importance of academic performance, not dropping out from the program and completing on time for post-secondary education experience. Something that many students, particularly ones from low-income families, struggle to achieve. One reason for this is poor study skills. As a response many North American universities offer academic services to improve skills like note taking, time management or goal-setting. However, the non-experimental research on academic support services for college students have found mixed results even though experimental design of the same services on high school students drew a more promising picture. \n",
    "Furthermore to motivate better academic performance merit scholarship have been part of college education for a long time. Although only a small group of spectacular students have benefitted from this financial incentive. \n",
    "\n",
    "***Study Design***: \\\n",
    "Angrist et al. (2009) analysis the results of Student Achievement and Retention (STAR) Demonstration Project. STAR is designed as a randomised evaluation to learn more about the effects of support services and financial incentives on academic performance at a satellite campus of a large Canadian university that is in U.S. terms a large state university with heavily subsidised tuition fees. Students attending are mostly from local area and have similar high school background which eliminate geographic background differences that could arise in the treatment.\n",
    "\n",
    "***Estimation Strategy***:\\\n",
    "Students are randomly allocated into control or one of the treatment groups. Students in a treatment group receive an offer and the have to signed up to be eligible which is not random. In order to estimate the causal impact of financial incentives and academic support services Angrist et al. (2009) use **instrumental variables (IV)**. However, due to the low compliance rate most results reported are **intent-to-treat (ITT)** estimates. The data comes from 1656 full time first year students combining administrative data and survey data which the students took **prior** to the treatment selection.\n",
    "\n",
    "\n",
    "**Main variables** \n",
    "\n",
    "| **Treatments**   | **Outcome Variables**  |\n",
    "|------------------|------------------------|\n",
    "| Services         | GPA                    |\n",
    "| Incentives       | On probation/withdrew  |              \n",
    "| Combined         | Credits earned         | \n",
    "\n",
    "\n",
    "***Results***: \\\n",
    "Main findings of Angrist et al. (2009) are: \n",
    "- Females use the services much more than males\n",
    "- Male achievement remained unchanged with the intervention \n",
    "- Services itself failed to attract students\n",
    "- Female achievement in services combined with financial incentives increased students GPA about 0.35$\\sigma$\n",
    "\n",
    "\n",
    "Write what is in this notebook"
   ]
  },
  {
   "cell_type": "markdown",
   "metadata": {},
   "source": [
    "---\n",
    "# WiP: 2. Study Design, Data and Descriptives(the extention)\n",
    "---\n",
    "**2.1. STAR Demonstration Project**\\\n",
    "\n",
    "STAR randomly assigned entering first-year undergreduates into the control group or one of the treatment groups below:\n",
    "- service strategy SSP: peer advisors are trained upper-class students  in the treated students' program offering academic advise and suggestions for coping with first year of uni. advisor email regularly(at least biweekly) about university assimilation, scheduling, studying, time management, reminding availability of the services to meet at STAR office. Also trained for circumstances to call for professional help + FSG's to improve study habits complement normal tutorials, develop reasoning skills. Focus: critical thinking, note-taking, graphic organisation, questioning techniques, vocabulary acquisition, and test prediction and preparation.\n",
    "offered approx. half of first year courses. Some of large courses offered the service to all students because it was in place before the experiment\n",
    "\n",
    "- incentive strategy SFP: award targets are based on high school grades\\\n",
    "lowest grade quartile: $5000 for B, $1000 for C+ \\\n",
    "second quartile: $5000 for B+ and $1000 for B- \\\n",
    "third quartile: $5000 for A- and $1000 for B \\\n",
    "to qualify had to take at least 4 courses (to complete in time 5 courses per semester) and sign up for second year(all students in the program meeting targets did so) \\\n",
    "Targets based on trade off between program costs and award accessibility\n",
    "\n",
    "- combined strategy SFSP: no link between two strategies(you can use the service without being eligible to fellowship and can be eligible for fellowship without using the service)\n",
    "\n",
    "**2.2 Data**\n",
    "\n",
    "Main source of data is baselie survey: write which varaibles come from administrative data and which from survey.\n",
    "\n"
   ]
  },
  {
   "cell_type": "code",
   "execution_count": 4,
   "metadata": {},
   "outputs": [],
   "source": [
    "data = pd.read_stata('data/STAR_public_use.dta') #read the data"
   ]
  },
  {
   "cell_type": "code",
   "execution_count": 5,
   "metadata": {},
   "outputs": [
    {
     "name": "stdout",
     "output_type": "stream",
     "text": [
      "<class 'pandas.core.frame.DataFrame'>\n",
      "Int64Index: 1656 entries, 0 to 1655\n",
      "Data columns (total 48 columns):\n",
      " #   Column              Non-Null Count  Dtype   \n",
      "---  ------              --------------  -----   \n",
      " 0   GPA_year1           1537 non-null   float32 \n",
      " 1   GPA_year2           1368 non-null   float32 \n",
      " 2   age                 1656 non-null   int8    \n",
      " 3   chooseUTM           1472 non-null   float32 \n",
      " 4   compsurv            1656 non-null   float32 \n",
      " 5   control             1656 non-null   int8    \n",
      " 6   credits_earned1     1575 non-null   float32 \n",
      " 7   credits_earned2     1575 non-null   float32 \n",
      " 8   dad1                1472 non-null   float32 \n",
      " 9   dad2                1472 non-null   float32 \n",
      " 10  dad_edn             1472 non-null   category\n",
      " 11  english             1656 non-null   int8    \n",
      " 12  female              1656 non-null   int8    \n",
      " 13  finish4             1472 non-null   float64 \n",
      " 14  goodstanding_year1  1634 non-null   float32 \n",
      " 15  goodstanding_year2  1634 non-null   float32 \n",
      " 16  gpa0                1656 non-null   float32 \n",
      " 17  graddeg             1472 non-null   float64 \n",
      " 18  grade_20059_fall    1404 non-null   float32 \n",
      " 19  hcom                1472 non-null   float64 \n",
      " 20  hsgroup             1656 non-null   int8    \n",
      " 21  lastmin             1472 non-null   category\n",
      " 22  lm_never            1472 non-null   float64 \n",
      " 23  lm_rarely           1472 non-null   float64 \n",
      " 24  mathsci             1656 non-null   float32 \n",
      " 25  mom1                1472 non-null   float32 \n",
      " 26  mom2                1472 non-null   float32 \n",
      " 27  mom_edn             1472 non-null   category\n",
      " 28  mtongue             1656 non-null   object  \n",
      " 29  noshow              1656 non-null   int8    \n",
      " 30  numcourses_nov1     1656 non-null   float64 \n",
      " 31  prob_year1          1562 non-null   float64 \n",
      " 32  prob_year2          1562 non-null   float64 \n",
      " 33  sex                 1656 non-null   object  \n",
      " 34  sfp                 1656 non-null   float32 \n",
      " 35  sfp_p               1656 non-null   float32 \n",
      " 36  sfpany              1656 non-null   float32 \n",
      " 37  sfpany_p            1656 non-null   float32 \n",
      " 38  sfsp                1656 non-null   float32 \n",
      " 39  sfsp_p              1656 non-null   float32 \n",
      " 40  signup              1656 non-null   float32 \n",
      " 41  ssp                 1656 non-null   float32 \n",
      " 42  ssp_p               1656 non-null   float32 \n",
      " 43  totcredits_year1    1656 non-null   float32 \n",
      " 44  used_adv            1656 non-null   float32 \n",
      " 45  used_fsg            1656 non-null   float32 \n",
      " 46  used_ssp            1656 non-null   float32 \n",
      " 47  work1               1472 non-null   float32 \n",
      "dtypes: category(3), float32(29), float64(8), int8(6), object(2)\n",
      "memory usage: 345.4+ KB\n"
     ]
    }
   ],
   "source": [
    "data.info() # check variables, missing values and data types"
   ]
  },
  {
   "cell_type": "markdown",
   "metadata": {},
   "source": [
    "**Plot Ideas**\n",
    "- \n",
    "- "
   ]
  },
  {
   "cell_type": "markdown",
   "metadata": {},
   "source": [
    "---\n",
    "# WiP: 3. Econometric Background, Empirical Strategy and Identification\n",
    "---\n",
    "The main goal of the Angrist et al. (2009) is to determine the causal effect of incentives and services on academic performance.\n",
    "\n",
    "Incomplete random assignment, randomised offer do not force students into participate, sign up creates selection bias.  Sign-up procedure used to determine who is actually motivated to use the program by paying a small cost\n",
    "To make sure that students would use the program to some degree or care to  use\n",
    "Only people who received an offer can participate in one of the programs and participation is expected to improve academic performance.\n",
    "The first stage is the effect of offer on sign-up rates. Which is by offer how likely you are to sign up This is given by the compliance rate. \n",
    "The instrument is the offer \n",
    "Second stage is effect of participation on academic performance\n",
    "Reduced form(ITT: effect of offer on academic performance) = effect of offer on sign-up rates x effect of participation on academic performance\n",
    "What we want to find out: effect of participation on academic performance\n",
    "\n",
    "\n",
    "<img src=\"files/causalgraph.png\" width=500 />\n",
    "\n",
    "**Key Assumptions:**\n",
    "Substantial first stage: The offer should really change the sign up, as only students who recieves an offer can sign up, it is safe to say that this assumption holds\n",
    "\n",
    "Independence assumption: The instrument has to be as good as randomly assigned. The offer is given to students b random assignment. The authors still run checks for balance on treatment groups with control variables in table 1. Controlling for no group of students are suspiciously more likely to selected for treatment. \n",
    "\n",
    "Exclusion restriction:  We require the instrument changing outcome solely through the variable of interest. The authors check this by running an additional over-identified iv regression.??\n",
    "\n",
    "If these assumptions hold the causal effect of participation can be identified by iv.\n",
    "The reported results are mainly ITT. I will run additional checks on which group is more likely to sign up.\n",
    "\n",
    "**Evaluation Framework**\\\n",
    "ITT: no correction for sign up and dilluted by non compliance\n",
    "IV: the offer of services for program sign-up (to estimate the effect of treatment on those who signed up who are not random)\n",
    "$P_i = 1$ represents people who gave concent(signed up) to recieve emails \\\n",
    "$Z_i$ is the random variable representing random assignment offer of treatment\n",
    "\n",
    "\\begin{equation}\n",
    "E[Y_{1i} - Y_{0i} |P_i=1] = (E[Y_i|Z_i = 1] - E[Y_i|Z_i = 0]) / Pr[P_i = 1|Z_i = 1]\n",
    "\\end{equation}\n",
    "\n",
    "- $E[Y_{1i} - Y_{0i} |P_i=1]$ is the true casual effect of participation on one of the treatment programs.\n",
    "\n",
    "- $E[Y_i|Z_i = 1] - E[Y_i|Z_i = 0]$ is the intend-to-treat estimate given by the service offer\n",
    "\n",
    "- $Pr[P_i = 1|Z_i = 1]$ is the compliance rate\n",
    "\n"
   ]
  },
  {
   "cell_type": "markdown",
   "metadata": {},
   "source": []
  },
  {
   "cell_type": "code",
   "execution_count": null,
   "metadata": {},
   "outputs": [],
   "source": []
  },
  {
   "cell_type": "code",
   "execution_count": null,
   "metadata": {},
   "outputs": [],
   "source": []
  },
  {
   "cell_type": "code",
   "execution_count": null,
   "metadata": {},
   "outputs": [],
   "source": []
  },
  {
   "cell_type": "code",
   "execution_count": null,
   "metadata": {},
   "outputs": [],
   "source": []
  }
 ],
 "metadata": {
  "interpreter": {
   "hash": "f9de4e033535c529fe0f52d15e87db911dbd961c5ec28bda6ee5b57ecf29c15f"
  },
  "kernelspec": {
   "display_name": "Python 3",
   "language": "python",
   "name": "python3"
  },
  "language_info": {
   "codemirror_mode": {
    "name": "ipython",
    "version": 3
   },
   "file_extension": ".py",
   "mimetype": "text/x-python",
   "name": "python",
   "nbconvert_exporter": "python",
   "pygments_lexer": "ipython3",
   "version": "3.8.5"
  }
 },
 "nbformat": 4,
 "nbformat_minor": 4
}
